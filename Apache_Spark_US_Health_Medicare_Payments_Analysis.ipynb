{
  "nbformat": 4,
  "nbformat_minor": 0,
  "metadata": {
    "colab": {
      "name": "Apache Spark - US Health Medicare Payments Analysis",
      "version": "0.3.2",
      "provenance": [],
      "collapsed_sections": []
    },
    "kernelspec": {
      "name": "python3",
      "display_name": "Python 3"
    },
    "accelerator": "GPU"
  },
  "cells": [
    {
      "cell_type": "markdown",
      "metadata": {
        "id": "fka71gKvQ3XD",
        "colab_type": "text"
      },
      "source": [
        "# US Health Medicare Payments Exploratory Data Analysis with Spark\n",
        "\n",
        "### Examine Five Years of US Health Medicare Payments Data Using Spark\n"
      ]
    },
    {
      "cell_type": "code",
      "metadata": {
        "id": "G6qsjwM-P2V0",
        "colab_type": "code",
        "outputId": "abcc5b38-203c-46ce-cb65-bff0f237b545",
        "colab": {
          "base_uri": "https://localhost:8080/",
          "height": 35
        }
      },
      "source": [
        "#Let's mount Google Drive So We can Retrieve the Data\n",
        "from google.colab import drive\n",
        "drive.mount('/content/gdrive')"
      ],
      "execution_count": 0,
      "outputs": [
        {
          "output_type": "stream",
          "text": [
            "Drive already mounted at /content/gdrive; to attempt to forcibly remount, call drive.mount(\"/content/gdrive\", force_remount=True).\n"
          ],
          "name": "stdout"
        }
      ]
    },
    {
      "cell_type": "code",
      "metadata": {
        "id": "PBvWkVe2QLfk",
        "colab_type": "code",
        "outputId": "69485a40-545d-4555-c796-251762354b49",
        "colab": {
          "base_uri": "https://localhost:8080/",
          "height": 35
        }
      },
      "source": [
        "#There is Five Files of Health Payments Data From 2014 to 2017. Source  XXXXXXX\n",
        "!ls \"/content/gdrive/My Drive/Health Data/\""
      ],
      "execution_count": 0,
      "outputs": [
        {
          "output_type": "stream",
          "text": [
            "PGYR14_P011819.ZIP  PGYR15_P011819.ZIP\tPGYR16_P011819.ZIP  PGYR17_P011819.ZIP\n"
          ],
          "name": "stdout"
        }
      ]
    },
    {
      "cell_type": "code",
      "metadata": {
        "id": "IOUPBn8HQjTg",
        "colab_type": "code",
        "outputId": "537714a1-0d48-4f07-9a48-4ca7c60435f0",
        "colab": {
          "base_uri": "https://localhost:8080/",
          "height": 88
        }
      },
      "source": [
        "#Unzip the files\n",
        "#!rm -r *\n",
        "!unzip -qq \"/content/gdrive/My Drive/Health Data/PGYR14_P011819.ZIP\"\n",
        "!unzip -qq \"/content/gdrive/My Drive/Health Data/PGYR15_P011819.ZIP\"\n",
        "!unzip -qq \"/content/gdrive/My Drive/Health Data/PGYR16_P011819.ZIP\"\n",
        "!unzip -qq \"/content/gdrive/My Drive/Health Data/PGYR17_P011819.ZIP\""
      ],
      "execution_count": 0,
      "outputs": [
        {
          "output_type": "stream",
          "text": [
            "replace OP_DTL_GNRL_PGYR2014_P01182019.csv? [y]es, [n]o, [A]ll, [N]one, [r]ename: N\n",
            "replace OP_DTL_GNRL_PGYR2015_P01182019.csv? [y]es, [n]o, [A]ll, [N]one, [r]ename: N\n",
            "replace OP_DTL_GNRL_PGYR2016_P01182019.csv? [y]es, [n]o, [A]ll, [N]one, [r]ename: N\n",
            "replace OP_DTL_GNRL_PGYR2017_P01182019.csv? [y]es, [n]o, [A]ll, [N]one, [r]ename: N\n"
          ],
          "name": "stdout"
        }
      ]
    },
    {
      "cell_type": "code",
      "metadata": {
        "id": "d5YysxcdSc0c",
        "colab_type": "code",
        "outputId": "b0ee5910-b8f3-4de5-9587-f6455f0223cc",
        "colab": {
          "base_uri": "https://localhost:8080/",
          "height": 746
        }
      },
      "source": [
        "#Examine the Readme File OP_PGYR2013_README_P01182019...\n",
        "\n",
        "!cat OP_PGYR2014_README_P01182019.txt\n",
        "\n",
        "#Each ZIP file contains 4 CSV Data Files. We are interested in the payments file...OP_DTL_GNRL_PGYR2013_P01182019.csv"
      ],
      "execution_count": 0,
      "outputs": [
        {
          "output_type": "stream",
          "text": [
            "Filename: OP_PGYR2014_README_P01182019.txt\r\n",
            "Version: 1.0\r\n",
            "Date: January 2019\r\n",
            "\r\n",
            "1. Program Year 2014 Data Files\r\n",
            "\r\n",
            "This data set includes records submitted for the 2014 program year that have been matched with total confidence to a particular covered recipient (i.e., physician or teaching hospital) and displays information about that recipient. This data set includes the most recent attested-to data for Program Year 2014 as of December 31, 2018.\r\n",
            "\r\n",
            "The data set contained in the comma-separated values (CSV) file includes only the data that is eligible for publication. Consult the Open Payments Methodology and Data Dictionary Document for an explanation of the criteria that the Centers for Medicare and Medicaid Services (CMS) used to determine what data to publish. This document can be found on the Resources page of the Open Payments website (https://www.cms.gov/OpenPayments/About/Resources.html). The Methodology and Data Dictionary Document also includes information on the data collection and reporting methodology, data fields included in the files, and any notes or special considerations that users should be aware of.\r\n",
            "\r\n",
            "Each record in the General Payment, Research Payment, and Ownership/Investment files includes a Change Type indicator field. The Change Type value of NEW indicates that the record is newly reported by the reporting entity since the last publication and is being published for the first time. The Change Type value of ADD indicates that the record is not new in the system but, due to the record not being eligible for publication until the current publication cycle, is being published for the first time. The Change Type value of CHANGED indicates that the record was previously published but has been modified since its last publication. A record whose only change since the last publication is a change to its dispute status is categorized as a changed record. The Change Type value of UNCHANGED indicates that the record was published during the last publication cycle and is being republished without change in the current publication. \r\n",
            "\r\n",
            "Each record in the Removed and Deleted Records file includes a Change Type indicator field as well. The Change Type value of DELETED indicates the previously published record was deleted from the Open Payments system by the reporting entity. The Change Type value of REMOVED indicates that the previously published record was removed from the current publication as a result of the reporting entity making updates to the record which made the record ineligible for publication.\r\n",
            "\r\n",
            "2. Considerations for using the CSV Files\r\n",
            "\r\n",
            "Microsoft Excel removes leading zeroes from data fields in CSV files. Certain fields in these data sets may have leading zeroes. These zeroes will be missing when viewing the information within Microsoft Excel. \r\n",
            "\r\n",
            "Additionally, the latest versions of Microsoft Excel cannot display data sets with more than 1,048,576 rows. Some of these CSV files may exceed that limit. Displaying the data in its entirety may require the use of spreadsheet programs capable of handling very large numbers of records.\r\n",
            "\r\n",
            "3. Details about the Datasets Included in this OP_DTL_PGYR2014_P01182019.zip file\r\n",
            "\r\n",
            "This compressed (.zip) file contains four (4) comma-separated values (CSV) files that use commas as delimiters and one (1) README.txt file. Descriptions of each file contained in this compressed (.zip) file are provided below.\r\n",
            "\r\n",
            "File #1 - OP_DTL_GNRL_PGYR2014_P01182019.csv: \r\n",
            "This file contains the data set of General Payments reported for the 2014 program year. General Payments are defined as payments or other transfers of value made to a covered recipient (physician or teaching hospital) that are not made in connection with a research agreement or research protocol.\r\n",
            "\r\n",
            "File #2 - OP_DTL_RSRCH_PGYR2014_P01182019.csv:\r\n",
            "This file contains the data set of Research Payments reported for the 2014 program year. Research Payments are defined as payments or other transfers of value made in connection with a research agreement or research protocol.\r\n",
            "\r\n",
            "File #3 - OP_DTL_OWNRSHP_PGYR2014_P01182019.csv:\r\n",
            "This file contains the data set of Ownership and Investment Interest Information reported for the 2014 program year. Ownership and Investment Interest Information is defined as information about the value of ownership or investment interests that a physician or an immediate family member of a physician held in an applicable manufacturer or applicable group purchasing organization (GPO).  \r\n",
            "\r\n",
            "File #4 - OP_REMOVED_DELETED_PGYR2014_P01182019.csv:\r\n",
            "This file contains the data set of records that were published in a previous publication of the program year data but have been deleted or removed from the current publication. Deleted records refer to records that were published in the last publication and have since been deleted by the applicable manufacturer or applicable GPO. Removed records refer to records that were published in the last publication and have since become ineligible for publication. Ineligible records may include records that were previously published and have since been edited by an applicable manufacturer or applicable GPO without re-attestation. It may also include records that were previously published and the applicable manufacturer or applicable GPO requested a delay in publication. The only identifying information provided for records in this file is the \"Open Payments Record ID.\" This ID number allows users to determine whether records previously published have been removed from this publication.   \r\n",
            "\r\n",
            "Also available is a supplementary file that displays information for physicians including principal investigators indicated as recipients of payments. This supplementary file can be found in a separate zip file: \r\n",
            "\r\n",
            "OP_PH_PRFL_SPLMTL_P01182019.zip:\r\n",
            "The physician profile information included in the data sets is submitted by the reporting entity. In contrast, the physician information included in the supplementary file can be derived from different sources including the National Plan and Provider Enumeration System (NPPES) and the Provider Enrollment, Chain and Ownership System (PECOS). As a result, the data in these sources may differ slightly. When searching for physicians using the Open Payments search tool on https://openpaymentsdata.cms.gov, use the physician profile information as listed in the supplementary file.  \r\n"
          ],
          "name": "stdout"
        }
      ]
    },
    {
      "cell_type": "code",
      "metadata": {
        "id": "f9gwsAKNBcr9",
        "colab_type": "code",
        "outputId": "8394dfba-bc9a-45d8-cfaa-d76aa8dd0c8d",
        "colab": {
          "base_uri": "https://localhost:8080/",
          "height": 407
        }
      },
      "source": [
        "!ls"
      ],
      "execution_count": 0,
      "outputs": [
        {
          "output_type": "stream",
          "text": [
            "gdrive\n",
            "OP_DTL_GNRL_PGYR2014_P01182019.csv\n",
            "OP_DTL_GNRL_PGYR2015_P01182019.csv\n",
            "OP_DTL_GNRL_PGYR2016_P01182019.csv\n",
            "OP_DTL_GNRL_PGYR2017_P01182019.csv\n",
            "OP_DTL_OWNRSHP_PGYR2014_P01182019.csv\n",
            "OP_DTL_OWNRSHP_PGYR2015_P01182019.csv\n",
            "OP_DTL_OWNRSHP_PGYR2016_P01182019.csv\n",
            "OP_DTL_OWNRSHP_PGYR2017_P01182019.csv\n",
            "OP_DTL_RSRCH_PGYR2014_P01182019.csv\n",
            "OP_DTL_RSRCH_PGYR2015_P01182019.csv\n",
            "OP_DTL_RSRCH_PGYR2016_P01182019.csv\n",
            "OP_DTL_RSRCH_PGYR2017_P01182019.csv\n",
            "OP_PGYR2014_README_P01182019.txt\n",
            "OP_PGYR2015_README_P01182019.txt\n",
            "OP_PGYR2016_README_P01182019.txt\n",
            "OP_PGYR2017_README_P01182019.txt\n",
            "OP_REMOVED_DELETED_PGYR2014_P01182019.csv\n",
            "OP_REMOVED_DELETED_PGYR2015_P01182019.csv\n",
            "OP_REMOVED_DELETED_PGYR2016_P01182019.csv\n",
            "OP_REMOVED_DELETED_PGYR2017_P01182019.csv\n",
            "sample_data\n"
          ],
          "name": "stdout"
        }
      ]
    },
    {
      "cell_type": "markdown",
      "metadata": {
        "id": "V9oD_ZEWVi34",
        "colab_type": "text"
      },
      "source": [
        "# **Install and Load Up Spark**"
      ]
    },
    {
      "cell_type": "code",
      "metadata": {
        "id": "WvnakLlqVxWb",
        "colab_type": "code",
        "colab": {}
      },
      "source": [
        "#Install Latest Version of Spark As of Current Data. 2.4.3\n",
        "\n",
        "!apt-get install openjdk-8-jdk-headless -qq > /dev/null\n",
        "!wget -q http://www-eu.apache.org/dist/spark/spark-2.4.3/spark-2.4.3-bin-hadoop2.7.tgz\n",
        "!tar xf spark-2.4.3-bin-hadoop2.7.tgz\n",
        "!pip install -q findspark"
      ],
      "execution_count": 0,
      "outputs": []
    },
    {
      "cell_type": "code",
      "metadata": {
        "id": "HsVIZT9VWaIy",
        "colab_type": "code",
        "colab": {}
      },
      "source": [
        "import os\n",
        "os.environ[\"JAVA_HOME\"] = \"/usr/lib/jvm/java-8-openjdk-amd64\"\n",
        "os.environ[\"SPARK_HOME\"] = \"/content/spark-2.4.3-bin-hadoop2.7\""
      ],
      "execution_count": 0,
      "outputs": []
    },
    {
      "cell_type": "code",
      "metadata": {
        "id": "xtn3cMtSXXMV",
        "colab_type": "code",
        "colab": {}
      },
      "source": [
        "import findspark\n",
        "findspark.init()\n",
        "from pyspark.sql import SparkSession\n",
        "\n",
        "spark = SparkSession.builder.master(\"local[*]\").getOrCreate()"
      ],
      "execution_count": 0,
      "outputs": []
    },
    {
      "cell_type": "code",
      "metadata": {
        "id": "0Yf_jM1vXawR",
        "colab_type": "code",
        "outputId": "180d715a-b4e4-4f0c-e0d6-3f889310f1de",
        "colab": {
          "base_uri": "https://localhost:8080/",
          "height": 817
        }
      },
      "source": [
        "#Import the csv files for 2014 to 2017, examine and aggregate into one file. \n",
        "\n",
        "\n",
        "df2014 = spark.read.format(\"csv\").option(\"inferSchema\", True).option(\"header\", True).load('OP_DTL_GNRL_PGYR2014_P01182019.csv')\n",
        "df2014.show(5)\n",
        "df2015 = spark.read.format(\"csv\").option(\"inferSchema\", True).option(\"header\", True).load('OP_DTL_GNRL_PGYR2015_P01182019.csv')\n",
        "df2015.show(5)\n",
        "df2016 = spark.read.format(\"csv\").option(\"inferSchema\", True).option(\"header\", True).load('OP_DTL_GNRL_PGYR2016_P01182019.csv')\n",
        "df2016.show(5)\n",
        "df2017 = spark.read.format(\"csv\").option(\"inferSchema\", True).option(\"header\", True).load('OP_DTL_GNRL_PGYR2017_P01182019.csv')\n",
        "df2017.show(5)"
      ],
      "execution_count": 0,
      "outputs": [
        {
          "output_type": "stream",
          "text": [
            "+-----------+----------------------+---------------------+--------------------+----------------------+--------------------+--------------------+---------------------+-------------------+---------------------+-----------------------------------------------+-----------------------------------------------+--------------+---------------+------------------+-----------------+------------------+---------------------+----------------------+--------------------+-----------------------------+-----------------------------+-----------------------------+-----------------------------+-----------------------------+---------------------------------------------------------+-----------------------------------------------------------+-------------------------------------------------------------+--------------------------------------------------------------+----------------------------------------------------------------+---------------------------------+---------------+-------------------------------------------+------------------------------------+--------------------------------------+--------------+---------------+-----------------+-----------------------------+---------------------------------------+-----------------------------------------------------------------+-----------------+----------------------------------------------+----------------------+------------------------------+---------+------------------------------+-----------------+----------------------------------------------+----------------------------------------------+----------------------------------------------+----------------------------------------------+----------------------------------------------+---------------------------------------------+---------------------------------------------+---------------------------------------------+---------------------------------------------+---------------------------------------------+----------------------------------------------------+----------------------------------------------------+----------------------------------------------------+----------------------------------------------------+----------------------------------------------------+------------+------------------------+\n",
            "|Change_Type|Covered_Recipient_Type|Teaching_Hospital_CCN|Teaching_Hospital_ID|Teaching_Hospital_Name|Physician_Profile_ID|Physician_First_Name|Physician_Middle_Name|Physician_Last_Name|Physician_Name_Suffix|Recipient_Primary_Business_Street_Address_Line1|Recipient_Primary_Business_Street_Address_Line2|Recipient_City|Recipient_State|Recipient_Zip_Code|Recipient_Country|Recipient_Province|Recipient_Postal_Code|Physician_Primary_Type| Physician_Specialty|Physician_License_State_code1|Physician_License_State_code2|Physician_License_State_code3|Physician_License_State_code4|Physician_License_State_code5|Submitting_Applicable_Manufacturer_or_Applicable_GPO_Name|Applicable_Manufacturer_or_Applicable_GPO_Making_Payment_ID|Applicable_Manufacturer_or_Applicable_GPO_Making_Payment_Name|Applicable_Manufacturer_or_Applicable_GPO_Making_Payment_State|Applicable_Manufacturer_or_Applicable_GPO_Making_Payment_Country|Total_Amount_of_Payment_USDollars|Date_of_Payment|Number_of_Payments_Included_in_Total_Amount|Form_of_Payment_or_Transfer_of_Value|Nature_of_Payment_or_Transfer_of_Value|City_of_Travel|State_of_Travel|Country_of_Travel|Physician_Ownership_Indicator|Third_Party_Payment_Recipient_Indicator|Name_of_Third_Party_Entity_Receiving_Payment_or_Transfer_of_Value|Charity_Indicator|Third_Party_Equals_Covered_Recipient_Indicator|Contextual_Information|Delay_in_Publication_Indicator|Record_ID|Dispute_Status_for_Publication|Product_Indicator|Name_of_Associated_Covered_Drug_or_Biological1|Name_of_Associated_Covered_Drug_or_Biological2|Name_of_Associated_Covered_Drug_or_Biological3|Name_of_Associated_Covered_Drug_or_Biological4|Name_of_Associated_Covered_Drug_or_Biological5|NDC_of_Associated_Covered_Drug_or_Biological1|NDC_of_Associated_Covered_Drug_or_Biological2|NDC_of_Associated_Covered_Drug_or_Biological3|NDC_of_Associated_Covered_Drug_or_Biological4|NDC_of_Associated_Covered_Drug_or_Biological5|Name_of_Associated_Covered_Device_or_Medical_Supply1|Name_of_Associated_Covered_Device_or_Medical_Supply2|Name_of_Associated_Covered_Device_or_Medical_Supply3|Name_of_Associated_Covered_Device_or_Medical_Supply4|Name_of_Associated_Covered_Device_or_Medical_Supply5|Program_Year|Payment_Publication_Date|\n",
            "+-----------+----------------------+---------------------+--------------------+----------------------+--------------------+--------------------+---------------------+-------------------+---------------------+-----------------------------------------------+-----------------------------------------------+--------------+---------------+------------------+-----------------+------------------+---------------------+----------------------+--------------------+-----------------------------+-----------------------------+-----------------------------+-----------------------------+-----------------------------+---------------------------------------------------------+-----------------------------------------------------------+-------------------------------------------------------------+--------------------------------------------------------------+----------------------------------------------------------------+---------------------------------+---------------+-------------------------------------------+------------------------------------+--------------------------------------+--------------+---------------+-----------------+-----------------------------+---------------------------------------+-----------------------------------------------------------------+-----------------+----------------------------------------------+----------------------+------------------------------+---------+------------------------------+-----------------+----------------------------------------------+----------------------------------------------+----------------------------------------------+----------------------------------------------+----------------------------------------------+---------------------------------------------+---------------------------------------------+---------------------------------------------+---------------------------------------------+---------------------------------------------+----------------------------------------------------+----------------------------------------------------+----------------------------------------------------+----------------------------------------------------+----------------------------------------------------+------------+------------------------+\n",
            "|  UNCHANGED|  Covered Recipient...|               360059|                1574|  Metro Health Medi...|                null|                null|                 null|               null|                 null|                           2500 Metrohealth Dr.|                                           null|     Cleveland|             OH|             44109|    United States|              null|                 null|                  null|                null|                         null|                         null|                         null|                         null|                         null|                                     Koven Technology,...|                                               100000000191|                                         Koven Technology,...|                                                            MO|                                                   United States|                            365.0|     11/25/2014|                                          1|                Cash or cash equi...|                                  Gift|          null|           null|             null|                         null|                   No Third Party Pa...|                                                             null|             null|                                          null|                  null|                            No|106273408|                            No|             None|                                          null|                                          null|                                          null|                                          null|                                          null|                                         null|                                         null|                                         null|                                         null|                                         null|                                           BT5M5S8AS|                                                null|                                                null|                                                null|                                                null|        2014|              01/18/2019|\n",
            "|  UNCHANGED|  Covered Recipient...|                 null|                null|                  null|              349191|                Dale|                 null|         Buchbinder|                 null|                            6569 N. Charles St.|                                           null|     Baltimore|             MD|             21204|    United States|              null|                 null|        Medical Doctor|Allopathic & Oste...|                           MD|                         null|                         null|                         null|                         null|                                     Koven Technology,...|                                               100000000191|                                         Koven Technology,...|                                                            MO|                                                   United States|                            55.64|     12/11/2014|                                          1|                Cash or cash equi...|                     Food and Beverage|          null|           null|             null|                           No|                   No Third Party Pa...|                                                             null|               No|                                          null|                  null|                            No|106272962|                            No|             None|                                          null|                                          null|                                          null|                                          null|                                          null|                                         null|                                         null|                                         null|                                         null|                                         null|                                                null|                                                null|                                                null|                                                null|                                                null|        2014|              01/18/2019|\n",
            "|  UNCHANGED|  Covered Recipient...|                 null|                null|                  null|              349191|                Dale|                 null|         Buchbinder|                 null|                            6569 N. Charles St.|                                           null|     Baltimore|             MD|             21204|    United States|              null|                 null|        Medical Doctor|Allopathic & Oste...|                           MD|                         null|                         null|                         null|                         null|                                     Koven Technology,...|                                               100000000191|                                         Koven Technology,...|                                                            MO|                                                   United States|                            107.4|     12/11/2014|                                          1|                Cash or cash equi...|                    Royalty or License|          null|           null|             null|                           No|                   No Third Party Pa...|                                                             null|               No|                                          null|                  null|                            No|106272964|                            No|             None|                                          null|                                          null|                                          null|                                          null|                                          null|                                         null|                                         null|                                         null|                                         null|                                         null|                                                null|                                                null|                                                null|                                                null|                                                null|        2014|              01/18/2019|\n",
            "|  UNCHANGED|  Covered Recipient...|                 null|                null|                  null|              543097|              Rajesh|                    V|              Lalla|                 null|                           145 Webster Hill ...|                                           null| West Hartford|             CT|             06107|    United States|              null|                 null|   Doctor of Dentistry|Dental Providers|...|                           CT|                         null|                         null|                         null|                         null|                                     FERA PHARMACEUTIC...|                                               100000010769|                                         FERA PHARMACEUTIC...|                                                            NY|                                                   United States|                            250.0|     05/23/2014|                                          1|                Cash or cash equi...|                        Consulting Fee|          null|           null|             null|                           No|                   No Third Party Pa...|                                                             null|               No|                                          null|                  null|                            No|106451934|                            No|          Covered|                                       Moxatag|                                          null|                                          null|                                          null|                                          null|                                 58463-0002-3|                                         null|                                         null|                                         null|                                         null|                                                null|                                                null|                                                null|                                                null|                                                null|        2014|              01/18/2019|\n",
            "|  UNCHANGED|  Covered Recipient...|                 null|                null|                  null|               61784|                ERIC|                 null|              WALSH|                 null|                              588 PAWTUCKET AVE|                                           null|     PAWTUCKET|             RI|             02860|    United States|              null|                 null|        Medical Doctor|Allopathic & Oste...|                           RI|                         null|                         null|                         null|                         null|                                         Surgi-Care, Inc.|                                               100000005671|                                             Surgi-Care, Inc.|                                                            MA|                                                   United States|                           121.63|     10/20/2014|                                          1|                Cash or cash equi...|                     Food and Beverage|          null|           null|             null|                           No|                   No Third Party Pa...|                                                             null|             null|                                          null|                  null|                            No|107350616|                            No|          Covered|                                          null|                                          null|                                          null|                                          null|                                          null|                                         null|                                         null|                                         null|                                         null|                                         null|                                              QmedRX|                                                null|                                                null|                                                null|                                                null|        2014|              01/18/2019|\n",
            "+-----------+----------------------+---------------------+--------------------+----------------------+--------------------+--------------------+---------------------+-------------------+---------------------+-----------------------------------------------+-----------------------------------------------+--------------+---------------+------------------+-----------------+------------------+---------------------+----------------------+--------------------+-----------------------------+-----------------------------+-----------------------------+-----------------------------+-----------------------------+---------------------------------------------------------+-----------------------------------------------------------+-------------------------------------------------------------+--------------------------------------------------------------+----------------------------------------------------------------+---------------------------------+---------------+-------------------------------------------+------------------------------------+--------------------------------------+--------------+---------------+-----------------+-----------------------------+---------------------------------------+-----------------------------------------------------------------+-----------------+----------------------------------------------+----------------------+------------------------------+---------+------------------------------+-----------------+----------------------------------------------+----------------------------------------------+----------------------------------------------+----------------------------------------------+----------------------------------------------+---------------------------------------------+---------------------------------------------+---------------------------------------------+---------------------------------------------+---------------------------------------------+----------------------------------------------------+----------------------------------------------------+----------------------------------------------------+----------------------------------------------------+----------------------------------------------------+------------+------------------------+\n",
            "only showing top 5 rows\n",
            "\n",
            "+-----------+----------------------+---------------------+--------------------+----------------------+--------------------+--------------------+---------------------+-------------------+---------------------+-----------------------------------------------+-----------------------------------------------+--------------+---------------+------------------+-----------------+------------------+---------------------+----------------------+--------------------+-----------------------------+-----------------------------+-----------------------------+-----------------------------+-----------------------------+---------------------------------------------------------+-----------------------------------------------------------+-------------------------------------------------------------+--------------------------------------------------------------+----------------------------------------------------------------+---------------------------------+---------------+-------------------------------------------+------------------------------------+--------------------------------------+--------------+---------------+-----------------+-----------------------------+---------------------------------------+-----------------------------------------------------------------+-----------------+----------------------------------------------+----------------------+------------------------------+---------+------------------------------+-----------------+----------------------------------------------+----------------------------------------------+----------------------------------------------+----------------------------------------------+----------------------------------------------+---------------------------------------------+---------------------------------------------+---------------------------------------------+---------------------------------------------+---------------------------------------------+----------------------------------------------------+----------------------------------------------------+----------------------------------------------------+----------------------------------------------------+----------------------------------------------------+------------+------------------------+\n",
            "|Change_Type|Covered_Recipient_Type|Teaching_Hospital_CCN|Teaching_Hospital_ID|Teaching_Hospital_Name|Physician_Profile_ID|Physician_First_Name|Physician_Middle_Name|Physician_Last_Name|Physician_Name_Suffix|Recipient_Primary_Business_Street_Address_Line1|Recipient_Primary_Business_Street_Address_Line2|Recipient_City|Recipient_State|Recipient_Zip_Code|Recipient_Country|Recipient_Province|Recipient_Postal_Code|Physician_Primary_Type| Physician_Specialty|Physician_License_State_code1|Physician_License_State_code2|Physician_License_State_code3|Physician_License_State_code4|Physician_License_State_code5|Submitting_Applicable_Manufacturer_or_Applicable_GPO_Name|Applicable_Manufacturer_or_Applicable_GPO_Making_Payment_ID|Applicable_Manufacturer_or_Applicable_GPO_Making_Payment_Name|Applicable_Manufacturer_or_Applicable_GPO_Making_Payment_State|Applicable_Manufacturer_or_Applicable_GPO_Making_Payment_Country|Total_Amount_of_Payment_USDollars|Date_of_Payment|Number_of_Payments_Included_in_Total_Amount|Form_of_Payment_or_Transfer_of_Value|Nature_of_Payment_or_Transfer_of_Value|City_of_Travel|State_of_Travel|Country_of_Travel|Physician_Ownership_Indicator|Third_Party_Payment_Recipient_Indicator|Name_of_Third_Party_Entity_Receiving_Payment_or_Transfer_of_Value|Charity_Indicator|Third_Party_Equals_Covered_Recipient_Indicator|Contextual_Information|Delay_in_Publication_Indicator|Record_ID|Dispute_Status_for_Publication|Product_Indicator|Name_of_Associated_Covered_Drug_or_Biological1|Name_of_Associated_Covered_Drug_or_Biological2|Name_of_Associated_Covered_Drug_or_Biological3|Name_of_Associated_Covered_Drug_or_Biological4|Name_of_Associated_Covered_Drug_or_Biological5|NDC_of_Associated_Covered_Drug_or_Biological1|NDC_of_Associated_Covered_Drug_or_Biological2|NDC_of_Associated_Covered_Drug_or_Biological3|NDC_of_Associated_Covered_Drug_or_Biological4|NDC_of_Associated_Covered_Drug_or_Biological5|Name_of_Associated_Covered_Device_or_Medical_Supply1|Name_of_Associated_Covered_Device_or_Medical_Supply2|Name_of_Associated_Covered_Device_or_Medical_Supply3|Name_of_Associated_Covered_Device_or_Medical_Supply4|Name_of_Associated_Covered_Device_or_Medical_Supply5|Program_Year|Payment_Publication_Date|\n",
            "+-----------+----------------------+---------------------+--------------------+----------------------+--------------------+--------------------+---------------------+-------------------+---------------------+-----------------------------------------------+-----------------------------------------------+--------------+---------------+------------------+-----------------+------------------+---------------------+----------------------+--------------------+-----------------------------+-----------------------------+-----------------------------+-----------------------------+-----------------------------+---------------------------------------------------------+-----------------------------------------------------------+-------------------------------------------------------------+--------------------------------------------------------------+----------------------------------------------------------------+---------------------------------+---------------+-------------------------------------------+------------------------------------+--------------------------------------+--------------+---------------+-----------------+-----------------------------+---------------------------------------+-----------------------------------------------------------------+-----------------+----------------------------------------------+----------------------+------------------------------+---------+------------------------------+-----------------+----------------------------------------------+----------------------------------------------+----------------------------------------------+----------------------------------------------+----------------------------------------------+---------------------------------------------+---------------------------------------------+---------------------------------------------+---------------------------------------------+---------------------------------------------+----------------------------------------------------+----------------------------------------------------+----------------------------------------------------+----------------------------------------------------+----------------------------------------------------+------------+------------------------+\n",
            "|  UNCHANGED|  Covered Recipient...|                 null|                null|                  null|              152181|               DAVID|                 LYLE|            GORDLEY|                  DDS|                              211 GROVE CITY RD|                                           null| SLIPPERY ROCK|             PA|             16057|    United States|              null|                 null|   Doctor of Dentistry|Dental Providers|...|                           PA|                         null|                         null|                         null|                         null|                                     NSK AMERICA CORPO...|                                               100000011233|                                         NSK AMERICA CORPO...|                                                            IL|                                                   United States|                            60.00|     02/06/2015|                                          1|                In-kind items and...|                                  Gift|          null|           null|             null|                          Yes|                   No Third Party Pa...|                                                             null|               No|                                          null|                  null|                            No|227897542|                            No|             None|                                          null|                                          null|                                          null|                                          null|                                          null|                                         null|                                         null|                                         null|                                         null|                                         null|                                                null|                                                null|                                                null|                                                null|                                                null|        2015|              01/18/2019|\n",
            "|  UNCHANGED|  Covered Recipient...|                 null|                null|                  null|             1214044|                  J.|              WILLIAM|           SCHAEFER|                D.D.S|                                  901 W MAIN ST|                                           null|      ROBINSON|             IL|        62454-1232|    United States|              null|                 null|   Doctor of Dentistry|Dental Providers|...|                           IL|                         null|                         null|                         null|                         null|                                     NSK AMERICA CORPO...|                                               100000011233|                                         NSK AMERICA CORPO...|                                                            IL|                                                   United States|                           425.00|     01/15/2015|                                          1|                In-kind items and...|                                  Gift|          null|           null|             null|                          Yes|                   No Third Party Pa...|                                                             null|               No|                                          null|                  null|                            No|227895996|                            No|             None|                                          null|                                          null|                                          null|                                          null|                                          null|                                         null|                                         null|                                         null|                                         null|                                         null|                                                null|                                                null|                                                null|                                                null|                                                null|        2015|              01/18/2019|\n",
            "|  UNCHANGED|  Covered Recipient...|                 null|                null|                  null|             1134857|             ANTHONY|                    J|              BAIRD|                  DDS|                            1455 S 500W SUITE D|                                           null|     BOUNTIFUL|             UT|        84010-8264|    United States|              null|                 null|   Doctor of Dentistry|Dental Providers|...|                           UT|                         null|                         null|                         null|                         null|                                     NSK AMERICA CORPO...|                                               100000011233|                                         NSK AMERICA CORPO...|                                                            IL|                                                   United States|                          2498.00|     04/07/2015|                                          1|                In-kind items and...|                                  Gift|          null|           null|             null|                          Yes|                   No Third Party Pa...|                                                             null|             null|                                          null|                  null|                            No|227897598|                            No|             None|                                          null|                                          null|                                          null|                                          null|                                          null|                                         null|                                         null|                                         null|                                         null|                                         null|                                                null|                                                null|                                                null|                                                null|                                                null|        2015|              01/18/2019|\n",
            "|  UNCHANGED|  Covered Recipient...|                 null|                null|                  null|              492730|              JOSEPH|                    A|              NARDE|                D.D.S|                                   7189 MOON RD|                                           null|      COLUMBUS|             GA|        31909-3137|    United States|              null|                 null|   Doctor of Dentistry|Dental Providers|...|                           GA|                         null|                         null|                         null|                         null|                                     NSK AMERICA CORPO...|                                               100000011233|                                         NSK AMERICA CORPO...|                                                            IL|                                                   United States|                            14.66|     03/17/2015|                                          1|                In-kind items and...|                     Food and Beverage|          null|           null|             null|                          Yes|                   No Third Party Pa...|                                                             null|             null|                                          null|                  null|                            No|227897650|                            No|             None|                                          null|                                          null|                                          null|                                          null|                                          null|                                         null|                                         null|                                         null|                                         null|                                         null|                                                null|                                                null|                                                null|                                                null|                                                null|        2015|              01/18/2019|\n",
            "|  UNCHANGED|  Covered Recipient...|                 null|                null|                  null|              501881|              JORDAN|               ALBERT|            BRUNSON|                D.D.S|                                    501 PARK ST|                                           null|      PALMETTO|             GA|        30268-1007|    United States|              null|                 null|   Doctor of Dentistry|Dental Providers|...|                           GA|                         null|                         null|                         null|                         null|                                     NSK AMERICA CORPO...|                                               100000011233|                                         NSK AMERICA CORPO...|                                                            IL|                                                   United States|                            58.46|     03/18/2015|                                          1|                In-kind items and...|                     Food and Beverage|          null|           null|             null|                          Yes|                   No Third Party Pa...|                                                             null|             null|                                          null|                  null|                            No|227897664|                            No|             None|                                          null|                                          null|                                          null|                                          null|                                          null|                                         null|                                         null|                                         null|                                         null|                                         null|                                                null|                                                null|                                                null|                                                null|                                                null|        2015|              01/18/2019|\n",
            "+-----------+----------------------+---------------------+--------------------+----------------------+--------------------+--------------------+---------------------+-------------------+---------------------+-----------------------------------------------+-----------------------------------------------+--------------+---------------+------------------+-----------------+------------------+---------------------+----------------------+--------------------+-----------------------------+-----------------------------+-----------------------------+-----------------------------+-----------------------------+---------------------------------------------------------+-----------------------------------------------------------+-------------------------------------------------------------+--------------------------------------------------------------+----------------------------------------------------------------+---------------------------------+---------------+-------------------------------------------+------------------------------------+--------------------------------------+--------------+---------------+-----------------+-----------------------------+---------------------------------------+-----------------------------------------------------------------+-----------------+----------------------------------------------+----------------------+------------------------------+---------+------------------------------+-----------------+----------------------------------------------+----------------------------------------------+----------------------------------------------+----------------------------------------------+----------------------------------------------+---------------------------------------------+---------------------------------------------+---------------------------------------------+---------------------------------------------+---------------------------------------------+----------------------------------------------------+----------------------------------------------------+----------------------------------------------------+----------------------------------------------------+----------------------------------------------------+------------+------------------------+\n",
            "only showing top 5 rows\n",
            "\n",
            "+-----------+----------------------+---------------------+--------------------+----------------------+--------------------+--------------------+---------------------+-------------------+---------------------+-----------------------------------------------+-----------------------------------------------+--------------+---------------+------------------+-----------------+------------------+---------------------+----------------------+--------------------+-----------------------------+-----------------------------+-----------------------------+-----------------------------+-----------------------------+---------------------------------------------------------+-----------------------------------------------------------+-------------------------------------------------------------+--------------------------------------------------------------+----------------------------------------------------------------+---------------------------------+---------------+-------------------------------------------+------------------------------------+--------------------------------------+--------------+---------------+-----------------+-----------------------------+---------------------------------------+-----------------------------------------------------------------+-----------------+----------------------------------------------+----------------------+------------------------------+---------+------------------------------+-------------------------+---------------------------------+---------------------------------------------------------+--------------------------------------+--------------------------------------------------------+-----------------------------------+---------------------------------+---------------------------------------------------------+--------------------------------------+--------------------------------------------------------+-----------------------------------+---------------------------------+---------------------------------------------------------+--------------------------------------+--------------------------------------------------------+-----------------------------------+---------------------------------+---------------------------------------------------------+--------------------------------------+--------------------------------------------------------+-----------------------------------+---------------------------------+---------------------------------------------------------+--------------------------------------+--------------------------------------------------------+-----------------------------------+------------+------------------------+\n",
            "|Change_Type|Covered_Recipient_Type|Teaching_Hospital_CCN|Teaching_Hospital_ID|Teaching_Hospital_Name|Physician_Profile_ID|Physician_First_Name|Physician_Middle_Name|Physician_Last_Name|Physician_Name_Suffix|Recipient_Primary_Business_Street_Address_Line1|Recipient_Primary_Business_Street_Address_Line2|Recipient_City|Recipient_State|Recipient_Zip_Code|Recipient_Country|Recipient_Province|Recipient_Postal_Code|Physician_Primary_Type| Physician_Specialty|Physician_License_State_code1|Physician_License_State_code2|Physician_License_State_code3|Physician_License_State_code4|Physician_License_State_code5|Submitting_Applicable_Manufacturer_or_Applicable_GPO_Name|Applicable_Manufacturer_or_Applicable_GPO_Making_Payment_ID|Applicable_Manufacturer_or_Applicable_GPO_Making_Payment_Name|Applicable_Manufacturer_or_Applicable_GPO_Making_Payment_State|Applicable_Manufacturer_or_Applicable_GPO_Making_Payment_Country|Total_Amount_of_Payment_USDollars|Date_of_Payment|Number_of_Payments_Included_in_Total_Amount|Form_of_Payment_or_Transfer_of_Value|Nature_of_Payment_or_Transfer_of_Value|City_of_Travel|State_of_Travel|Country_of_Travel|Physician_Ownership_Indicator|Third_Party_Payment_Recipient_Indicator|Name_of_Third_Party_Entity_Receiving_Payment_or_Transfer_of_Value|Charity_Indicator|Third_Party_Equals_Covered_Recipient_Indicator|Contextual_Information|Delay_in_Publication_Indicator|Record_ID|Dispute_Status_for_Publication|Related_Product_Indicator|Covered_or_Noncovered_Indicator_1|Indicate_Drug_or_Biological_or_Device_or_Medical_Supply_1|Product_Category_or_Therapeutic_Area_1|Name_of_Drug_or_Biological_or_Device_or_Medical_Supply_1|Associated_Drug_or_Biological_NDC_1|Covered_or_Noncovered_Indicator_2|Indicate_Drug_or_Biological_or_Device_or_Medical_Supply_2|Product_Category_or_Therapeutic_Area_2|Name_of_Drug_or_Biological_or_Device_or_Medical_Supply_2|Associated_Drug_or_Biological_NDC_2|Covered_or_Noncovered_Indicator_3|Indicate_Drug_or_Biological_or_Device_or_Medical_Supply_3|Product_Category_or_Therapeutic_Area_3|Name_of_Drug_or_Biological_or_Device_or_Medical_Supply_3|Associated_Drug_or_Biological_NDC_3|Covered_or_Noncovered_Indicator_4|Indicate_Drug_or_Biological_or_Device_or_Medical_Supply_4|Product_Category_or_Therapeutic_Area_4|Name_of_Drug_or_Biological_or_Device_or_Medical_Supply_4|Associated_Drug_or_Biological_NDC_4|Covered_or_Noncovered_Indicator_5|Indicate_Drug_or_Biological_or_Device_or_Medical_Supply_5|Product_Category_or_Therapeutic_Area_5|Name_of_Drug_or_Biological_or_Device_or_Medical_Supply_5|Associated_Drug_or_Biological_NDC_5|Program_Year|Payment_Publication_Date|\n",
            "+-----------+----------------------+---------------------+--------------------+----------------------+--------------------+--------------------+---------------------+-------------------+---------------------+-----------------------------------------------+-----------------------------------------------+--------------+---------------+------------------+-----------------+------------------+---------------------+----------------------+--------------------+-----------------------------+-----------------------------+-----------------------------+-----------------------------+-----------------------------+---------------------------------------------------------+-----------------------------------------------------------+-------------------------------------------------------------+--------------------------------------------------------------+----------------------------------------------------------------+---------------------------------+---------------+-------------------------------------------+------------------------------------+--------------------------------------+--------------+---------------+-----------------+-----------------------------+---------------------------------------+-----------------------------------------------------------------+-----------------+----------------------------------------------+----------------------+------------------------------+---------+------------------------------+-------------------------+---------------------------------+---------------------------------------------------------+--------------------------------------+--------------------------------------------------------+-----------------------------------+---------------------------------+---------------------------------------------------------+--------------------------------------+--------------------------------------------------------+-----------------------------------+---------------------------------+---------------------------------------------------------+--------------------------------------+--------------------------------------------------------+-----------------------------------+---------------------------------+---------------------------------------------------------+--------------------------------------+--------------------------------------------------------+-----------------------------------+---------------------------------+---------------------------------------------------------+--------------------------------------+--------------------------------------------------------+-----------------------------------+------------+------------------------+\n",
            "|  UNCHANGED|  Covered Recipient...|                 null|                null|                  null|             1261770|              Donald|                    C|             Delisi|                 null|                           19785 Village Off...|                                      Suite 102|          Bend|             OR|             97702|    United States|              null|                 null|   Doctor of Dentistry|Dental Providers|...|                           OR|                         null|                         null|                         null|                         null|                                     Southern Anesthes...|                                               100000136463|                                         Southern Anesthes...|                                                            SC|                                                   United States|                            60.00|     01/11/2016|                                          1|                Cash or cash equi...|                                  Gift|          null|           null|             null|                          Yes|                   No Third Party Pa...|                                                             null|               No|                                          null|  Giftcard for Offi...|                            No|345881562|                            No|                       No|                             null|                                                     null|                                  null|                                                    null|                               null|                             null|                                                     null|                                  null|                                                    null|                               null|                             null|                                                     null|                                  null|                                                    null|                               null|                             null|                                                     null|                                  null|                                                    null|                               null|                             null|                                                     null|                                  null|                                                    null|                               null|        2016|              01/18/2019|\n",
            "|  UNCHANGED|  Covered Recipient...|                 null|                null|                  null|              436996|                Todd|               Andrew|             Schock|                 null|                              1893 NE Neff Road|                                           null|          Bend|             OR|             97702|    United States|              null|                 null|   Doctor of Dentistry|Dental Providers|...|                           OR|                         null|                         null|                         null|                         null|                                     Southern Anesthes...|                                               100000136463|                                         Southern Anesthes...|                                                            SC|                                                   United States|                            60.00|     01/11/2016|                                          1|                Cash or cash equi...|                                  Gift|          null|           null|             null|                          Yes|                   No Third Party Pa...|                                                             null|               No|                                          null|  Giftcard for Offi...|                            No|345881568|                            No|                       No|                             null|                                                     null|                                  null|                                                    null|                               null|                             null|                                                     null|                                  null|                                                    null|                               null|                             null|                                                     null|                                  null|                                                    null|                               null|                             null|                                                     null|                                  null|                                                    null|                               null|                             null|                                                     null|                                  null|                                                    null|                               null|        2016|              01/18/2019|\n",
            "|  UNCHANGED|  Covered Recipient...|                 null|                null|                  null|              640211|               Keith|                    E|            Krueger|                 null|                           1475 SW Chandler ...|                                      Suite 101|          Bend|             OR|             97702|    United States|              null|                 null|   Doctor of Dentistry|Dental Providers|...|                           OR|                         null|                         null|                         null|                         null|                                     Southern Anesthes...|                                               100000136463|                                         Southern Anesthes...|                                                            SC|                                                   United States|                            60.00|     01/11/2016|                                          1|                Cash or cash equi...|                                  Gift|          null|           null|             null|                          Yes|                   No Third Party Pa...|                                                             null|               No|                                          null|  Giftcard for Offi...|                            No|345881566|                            No|                       No|                             null|                                                     null|                                  null|                                                    null|                               null|                             null|                                                     null|                                  null|                                                    null|                               null|                             null|                                                     null|                                  null|                                                    null|                               null|                             null|                                                     null|                                  null|                                                    null|                               null|                             null|                                                     null|                                  null|                                                    null|                               null|        2016|              01/18/2019|\n",
            "|  UNCHANGED|  Covered Recipient...|                 null|                null|                  null|              389063|              Arthur|                 null|           Pancioli|                 null|                           8075 Muchmore Poi...|                                           null|    Cincinnati|             OH|             45243|    United States|              null|                 null|        Medical Doctor|Allopathic & Oste...|                           OH|                         null|                         null|                         null|                         null|                                     HF Acquisition Co...|                                               100000010643|                                         HF Acquisition Co...|                                                            WA|                                                   United States|                          1875.00|     03/18/2016|                                          1|                Cash or cash equi...|                        Consulting Fee|          null|           null|             null|                           No|                   No Third Party Pa...|                                                             null|             null|                                          null|                  null|                            No|345881680|                            No|                       No|                             null|                                                     null|                                  null|                                                    null|                               null|                             null|                                                     null|                                  null|                                                    null|                               null|                             null|                                                     null|                                  null|                                                    null|                               null|                             null|                                                     null|                                  null|                                                    null|                               null|                             null|                                                     null|                                  null|                                                    null|                               null|        2016|              01/18/2019|\n",
            "|  UNCHANGED|  Covered Recipient...|                 null|                null|                  null|              389063|              Arthur|                 null|           Pancioli|                 null|                           8075 Muchmore Poi...|                                           null|    Cincinnati|             OH|             45243|    United States|              null|                 null|        Medical Doctor|Allopathic & Oste...|                           OH|                         null|                         null|                         null|                         null|                                     HF Acquisition Co...|                                               100000010643|                                         HF Acquisition Co...|                                                            WA|                                                   United States|                          1750.00|     10/21/2016|                                          1|                Cash or cash equi...|                        Consulting Fee|          null|           null|             null|                           No|                   No Third Party Pa...|                                                             null|             null|                                          null|                  null|                            No|345881710|                            No|                       No|                             null|                                                     null|                                  null|                                                    null|                               null|                             null|                                                     null|                                  null|                                                    null|                               null|                             null|                                                     null|                                  null|                                                    null|                               null|                             null|                                                     null|                                  null|                                                    null|                               null|                             null|                                                     null|                                  null|                                                    null|                               null|        2016|              01/18/2019|\n",
            "+-----------+----------------------+---------------------+--------------------+----------------------+--------------------+--------------------+---------------------+-------------------+---------------------+-----------------------------------------------+-----------------------------------------------+--------------+---------------+------------------+-----------------+------------------+---------------------+----------------------+--------------------+-----------------------------+-----------------------------+-----------------------------+-----------------------------+-----------------------------+---------------------------------------------------------+-----------------------------------------------------------+-------------------------------------------------------------+--------------------------------------------------------------+----------------------------------------------------------------+---------------------------------+---------------+-------------------------------------------+------------------------------------+--------------------------------------+--------------+---------------+-----------------+-----------------------------+---------------------------------------+-----------------------------------------------------------------+-----------------+----------------------------------------------+----------------------+------------------------------+---------+------------------------------+-------------------------+---------------------------------+---------------------------------------------------------+--------------------------------------+--------------------------------------------------------+-----------------------------------+---------------------------------+---------------------------------------------------------+--------------------------------------+--------------------------------------------------------+-----------------------------------+---------------------------------+---------------------------------------------------------+--------------------------------------+--------------------------------------------------------+-----------------------------------+---------------------------------+---------------------------------------------------------+--------------------------------------+--------------------------------------------------------+-----------------------------------+---------------------------------+---------------------------------------------------------+--------------------------------------+--------------------------------------------------------+-----------------------------------+------------+------------------------+\n",
            "only showing top 5 rows\n",
            "\n",
            "+-----------+----------------------+---------------------+--------------------+----------------------+--------------------+--------------------+---------------------+-------------------+---------------------+-----------------------------------------------+-----------------------------------------------+--------------+---------------+------------------+-----------------+------------------+---------------------+----------------------+--------------------+-----------------------------+-----------------------------+-----------------------------+-----------------------------+-----------------------------+---------------------------------------------------------+-----------------------------------------------------------+-------------------------------------------------------------+--------------------------------------------------------------+----------------------------------------------------------------+---------------------------------+---------------+-------------------------------------------+------------------------------------+--------------------------------------+--------------+---------------+-----------------+-----------------------------+---------------------------------------+-----------------------------------------------------------------+-----------------+----------------------------------------------+----------------------+------------------------------+---------+------------------------------+-------------------------+---------------------------------+---------------------------------------------------------+--------------------------------------+--------------------------------------------------------+-----------------------------------+---------------------------------+---------------------------------------------------------+--------------------------------------+--------------------------------------------------------+-----------------------------------+---------------------------------+---------------------------------------------------------+--------------------------------------+--------------------------------------------------------+-----------------------------------+---------------------------------+---------------------------------------------------------+--------------------------------------+--------------------------------------------------------+-----------------------------------+---------------------------------+---------------------------------------------------------+--------------------------------------+--------------------------------------------------------+-----------------------------------+------------+------------------------+\n",
            "|Change_Type|Covered_Recipient_Type|Teaching_Hospital_CCN|Teaching_Hospital_ID|Teaching_Hospital_Name|Physician_Profile_ID|Physician_First_Name|Physician_Middle_Name|Physician_Last_Name|Physician_Name_Suffix|Recipient_Primary_Business_Street_Address_Line1|Recipient_Primary_Business_Street_Address_Line2|Recipient_City|Recipient_State|Recipient_Zip_Code|Recipient_Country|Recipient_Province|Recipient_Postal_Code|Physician_Primary_Type| Physician_Specialty|Physician_License_State_code1|Physician_License_State_code2|Physician_License_State_code3|Physician_License_State_code4|Physician_License_State_code5|Submitting_Applicable_Manufacturer_or_Applicable_GPO_Name|Applicable_Manufacturer_or_Applicable_GPO_Making_Payment_ID|Applicable_Manufacturer_or_Applicable_GPO_Making_Payment_Name|Applicable_Manufacturer_or_Applicable_GPO_Making_Payment_State|Applicable_Manufacturer_or_Applicable_GPO_Making_Payment_Country|Total_Amount_of_Payment_USDollars|Date_of_Payment|Number_of_Payments_Included_in_Total_Amount|Form_of_Payment_or_Transfer_of_Value|Nature_of_Payment_or_Transfer_of_Value|City_of_Travel|State_of_Travel|Country_of_Travel|Physician_Ownership_Indicator|Third_Party_Payment_Recipient_Indicator|Name_of_Third_Party_Entity_Receiving_Payment_or_Transfer_of_Value|Charity_Indicator|Third_Party_Equals_Covered_Recipient_Indicator|Contextual_Information|Delay_in_Publication_Indicator|Record_ID|Dispute_Status_for_Publication|Related_Product_Indicator|Covered_or_Noncovered_Indicator_1|Indicate_Drug_or_Biological_or_Device_or_Medical_Supply_1|Product_Category_or_Therapeutic_Area_1|Name_of_Drug_or_Biological_or_Device_or_Medical_Supply_1|Associated_Drug_or_Biological_NDC_1|Covered_or_Noncovered_Indicator_2|Indicate_Drug_or_Biological_or_Device_or_Medical_Supply_2|Product_Category_or_Therapeutic_Area_2|Name_of_Drug_or_Biological_or_Device_or_Medical_Supply_2|Associated_Drug_or_Biological_NDC_2|Covered_or_Noncovered_Indicator_3|Indicate_Drug_or_Biological_or_Device_or_Medical_Supply_3|Product_Category_or_Therapeutic_Area_3|Name_of_Drug_or_Biological_or_Device_or_Medical_Supply_3|Associated_Drug_or_Biological_NDC_3|Covered_or_Noncovered_Indicator_4|Indicate_Drug_or_Biological_or_Device_or_Medical_Supply_4|Product_Category_or_Therapeutic_Area_4|Name_of_Drug_or_Biological_or_Device_or_Medical_Supply_4|Associated_Drug_or_Biological_NDC_4|Covered_or_Noncovered_Indicator_5|Indicate_Drug_or_Biological_or_Device_or_Medical_Supply_5|Product_Category_or_Therapeutic_Area_5|Name_of_Drug_or_Biological_or_Device_or_Medical_Supply_5|Associated_Drug_or_Biological_NDC_5|Program_Year|Payment_Publication_Date|\n",
            "+-----------+----------------------+---------------------+--------------------+----------------------+--------------------+--------------------+---------------------+-------------------+---------------------+-----------------------------------------------+-----------------------------------------------+--------------+---------------+------------------+-----------------+------------------+---------------------+----------------------+--------------------+-----------------------------+-----------------------------+-----------------------------+-----------------------------+-----------------------------+---------------------------------------------------------+-----------------------------------------------------------+-------------------------------------------------------------+--------------------------------------------------------------+----------------------------------------------------------------+---------------------------------+---------------+-------------------------------------------+------------------------------------+--------------------------------------+--------------+---------------+-----------------+-----------------------------+---------------------------------------+-----------------------------------------------------------------+-----------------+----------------------------------------------+----------------------+------------------------------+---------+------------------------------+-------------------------+---------------------------------+---------------------------------------------------------+--------------------------------------+--------------------------------------------------------+-----------------------------------+---------------------------------+---------------------------------------------------------+--------------------------------------+--------------------------------------------------------+-----------------------------------+---------------------------------+---------------------------------------------------------+--------------------------------------+--------------------------------------------------------+-----------------------------------+---------------------------------+---------------------------------------------------------+--------------------------------------+--------------------------------------------------------+-----------------------------------+---------------------------------+---------------------------------------------------------+--------------------------------------+--------------------------------------------------------+-----------------------------------+------------+------------------------+\n",
            "|  UNCHANGED|  Covered Recipient...|                 null|                null|                  null|              326860|               NAZEM|                 null|            ABRAHAM|                 null|                                 422 KINETIC DR|                                        SUITE B|    HUNTINGTON|             WV|             25701|    United States|              null|                 null|        Medical Doctor|Allopathic & Oste...|                           WV|                         null|                         null|                         null|                         null|                                     Mission Pharmacal...|                                               100000000186|                                         Mission Pharmacal...|                                                            TX|                                                   United States|                            12.00|     11/24/2017|                                          1|                In-kind items and...|                     Food and Beverage|          null|           null|             null|                           No|                   No Third Party Pa...|                                                             null|             null|                                          null|                  null|                            No|421243947|                            No|                      Yes|                          Covered|                                                     Drug|                  Antibacterial (to...|                                                 Plexion|                       57883-402-10|                             null|                                                     null|                                  null|                                                    null|                               null|                             null|                                                     null|                                  null|                                                    null|                               null|                             null|                                                     null|                                  null|                                                    null|                               null|                             null|                                                     null|                                  null|                                                    null|                               null|        2017|              01/18/2019|\n",
            "|  UNCHANGED|  Covered Recipient...|                 null|                null|                  null|              604392|             Charles|                 null|                Pak|                 null|                           5323 Harry Hines ...|                                           null|        Dallas|             TX|             75390|    United States|              null|                 null|        Medical Doctor|Allopathic & Oste...|                           TX|                         null|                         null|                         null|                         null|                                     Mission Pharmacal...|                                               100000000186|                                         Mission Pharmacal...|                                                            TX|                                                   United States|                           300.00|     12/15/2017|                                          1|                Dividend, profit ...|                  Charitable Contri...|          null|           null|             null|                           No|                                 Entity|                                             Charles Y C Pak F...|              Yes|                                           Yes|                  null|                            No|421243939|                            No|                       No|                             null|                                                     null|                                  null|                                                    null|                               null|                             null|                                                     null|                                  null|                                                    null|                               null|                             null|                                                     null|                                  null|                                                    null|                               null|                             null|                                                     null|                                  null|                                                    null|                               null|                             null|                                                     null|                                  null|                                                    null|                               null|        2017|              01/18/2019|\n",
            "|  UNCHANGED|  Covered Recipient...|                 null|                null|                  null|              326860|               Nazem|                 null|            Abraham|                 null|                                 422 KINETIC DR|                                        SUITE B|    HUNTINGTON|             WV|             25701|    United States|              null|                 null|        Medical Doctor|Allopathic & Oste...|                           WV|                         null|                         null|                         null|                         null|                                     Mission Pharmacal...|                                               100000000186|                                         Mission Pharmacal...|                                                            TX|                                                   United States|                            13.39|     06/30/2017|                                          1|                In-kind items and...|                     Food and Beverage|          null|           null|             null|                           No|                   No Third Party Pa...|                                                             null|             null|                                          null|                  null|                            No|421243941|                            No|                      Yes|                          Covered|                                                     Drug|                  Antibacterial (to...|                                                   Ovace|                       0178-0620-02|                             null|                                                     null|                                  null|                                                    null|                               null|                             null|                                                     null|                                  null|                                                    null|                               null|                             null|                                                     null|                                  null|                                                    null|                               null|                             null|                                                     null|                                  null|                                                    null|                               null|        2017|              01/18/2019|\n",
            "|  UNCHANGED|  Covered Recipient...|                 null|                null|                  null|              326860|               NAZEM|                 null|            ABRAHAM|                 null|                                 422 KINETIC DR|                                        SUITE B|    HUNTINGTON|             WV|             25701|    United States|              null|                 null|        Medical Doctor|Allopathic & Oste...|                           WV|                         null|                         null|                         null|                         null|                                     Mission Pharmacal...|                                               100000000186|                                         Mission Pharmacal...|                                                            TX|                                                   United States|                            13.39|     08/18/2017|                                          1|                In-kind items and...|                     Food and Beverage|          null|           null|             null|                           No|                   No Third Party Pa...|                                                             null|             null|                                          null|                  null|                            No|421243943|                            No|                      Yes|                          Covered|                                                     Drug|                  Antibacterial (to...|                                                    Avar|                       0178-0640-30|                             null|                                                     null|                                  null|                                                    null|                               null|                             null|                                                     null|                                  null|                                                    null|                               null|                             null|                                                     null|                                  null|                                                    null|                               null|                             null|                                                     null|                                  null|                                                    null|                               null|        2017|              01/18/2019|\n",
            "|  UNCHANGED|  Covered Recipient...|                 null|                null|                  null|             1307901|                HANY|                 null|              AHMED|                 null|                              1919 NORTH LOOP W|                                      SUITE 115|       HOUSTON|             TX|             77008|    United States|              null|                 null|        Medical Doctor|Allopathic & Oste...|                           TX|                         null|                         null|                         null|                         null|                                     Mission Pharmacal...|                                               100000000186|                                         Mission Pharmacal...|                                                            TX|                                                   United States|                            12.03|     06/18/2017|                                          1|                In-kind items and...|                     Food and Beverage|          null|           null|             null|                           No|                   No Third Party Pa...|                                                             null|             null|                                          null|                  null|                            No|421243961|                            No|                      Yes|                          Covered|                                                     Drug|                  PRENATAL VITAMIN ...|                                              CITRANATAL|                       0178-0796-30|                             null|                                                     null|                                  null|                                                    null|                               null|                             null|                                                     null|                                  null|                                                    null|                               null|                             null|                                                     null|                                  null|                                                    null|                               null|                             null|                                                     null|                                  null|                                                    null|                               null|        2017|              01/18/2019|\n",
            "+-----------+----------------------+---------------------+--------------------+----------------------+--------------------+--------------------+---------------------+-------------------+---------------------+-----------------------------------------------+-----------------------------------------------+--------------+---------------+------------------+-----------------+------------------+---------------------+----------------------+--------------------+-----------------------------+-----------------------------+-----------------------------+-----------------------------+-----------------------------+---------------------------------------------------------+-----------------------------------------------------------+-------------------------------------------------------------+--------------------------------------------------------------+----------------------------------------------------------------+---------------------------------+---------------+-------------------------------------------+------------------------------------+--------------------------------------+--------------+---------------+-----------------+-----------------------------+---------------------------------------+-----------------------------------------------------------------+-----------------+----------------------------------------------+----------------------+------------------------------+---------+------------------------------+-------------------------+---------------------------------+---------------------------------------------------------+--------------------------------------+--------------------------------------------------------+-----------------------------------+---------------------------------+---------------------------------------------------------+--------------------------------------+--------------------------------------------------------+-----------------------------------+---------------------------------+---------------------------------------------------------+--------------------------------------+--------------------------------------------------------+-----------------------------------+---------------------------------+---------------------------------------------------------+--------------------------------------+--------------------------------------------------------+-----------------------------------+---------------------------------+---------------------------------------------------------+--------------------------------------+--------------------------------------------------------+-----------------------------------+------------+------------------------+\n",
            "only showing top 5 rows\n",
            "\n"
          ],
          "name": "stdout"
        }
      ]
    },
    {
      "cell_type": "code",
      "metadata": {
        "id": "y-GTPiQSEYUm",
        "colab_type": "code",
        "outputId": "d77c3430-bf2b-4ac7-a8ac-8f0fea5c4ad1",
        "colab": {
          "base_uri": "https://localhost:8080/",
          "height": 55
        }
      },
      "source": [
        "df2014.printSchema()"
      ],
      "execution_count": 0,
      "outputs": [
        {
          "output_type": "execute_result",
          "data": {
            "text/plain": [
              "<bound method DataFrame.printSchema of DataFrame[Change_Type: string, Covered_Recipient_Type: string, Teaching_Hospital_CCN: int, Teaching_Hospital_ID: int, Teaching_Hospital_Name: string, Physician_Profile_ID: int, Physician_First_Name: string, Physician_Middle_Name: string, Physician_Last_Name: string, Physician_Name_Suffix: string, Recipient_Primary_Business_Street_Address_Line1: string, Recipient_Primary_Business_Street_Address_Line2: string, Recipient_City: string, Recipient_State: string, Recipient_Zip_Code: string, Recipient_Country: string, Recipient_Province: string, Recipient_Postal_Code: string, Physician_Primary_Type: string, Physician_Specialty: string, Physician_License_State_code1: string, Physician_License_State_code2: string, Physician_License_State_code3: string, Physician_License_State_code4: string, Physician_License_State_code5: string, Submitting_Applicable_Manufacturer_or_Applicable_GPO_Name: string, Applicable_Manufacturer_or_Applicable_GPO_Making_Payment_ID: bigint, Applicable_Manufacturer_or_Applicable_GPO_Making_Payment_Name: string, Applicable_Manufacturer_or_Applicable_GPO_Making_Payment_State: string, Applicable_Manufacturer_or_Applicable_GPO_Making_Payment_Country: string, Total_Amount_of_Payment_USDollars: double, Date_of_Payment: string, Number_of_Payments_Included_in_Total_Amount: int, Form_of_Payment_or_Transfer_of_Value: string, Nature_of_Payment_or_Transfer_of_Value: string, City_of_Travel: string, State_of_Travel: string, Country_of_Travel: string, Physician_Ownership_Indicator: string, Third_Party_Payment_Recipient_Indicator: string, Name_of_Third_Party_Entity_Receiving_Payment_or_Transfer_of_Value: string, Charity_Indicator: string, Third_Party_Equals_Covered_Recipient_Indicator: string, Contextual_Information: string, Delay_in_Publication_Indicator: string, Record_ID: int, Dispute_Status_for_Publication: string, Product_Indicator: string, Name_of_Associated_Covered_Drug_or_Biological1: string, Name_of_Associated_Covered_Drug_or_Biological2: string, Name_of_Associated_Covered_Drug_or_Biological3: string, Name_of_Associated_Covered_Drug_or_Biological4: string, Name_of_Associated_Covered_Drug_or_Biological5: string, NDC_of_Associated_Covered_Drug_or_Biological1: string, NDC_of_Associated_Covered_Drug_or_Biological2: string, NDC_of_Associated_Covered_Drug_or_Biological3: bigint, NDC_of_Associated_Covered_Drug_or_Biological4: bigint, NDC_of_Associated_Covered_Drug_or_Biological5: int, Name_of_Associated_Covered_Device_or_Medical_Supply1: string, Name_of_Associated_Covered_Device_or_Medical_Supply2: string, Name_of_Associated_Covered_Device_or_Medical_Supply3: string, Name_of_Associated_Covered_Device_or_Medical_Supply4: string, Name_of_Associated_Covered_Device_or_Medical_Supply5: string, Program_Year: int, Payment_Publication_Date: string]>"
            ]
          },
          "metadata": {
            "tags": []
          },
          "execution_count": 31
        }
      ]
    },
    {
      "cell_type": "markdown",
      "metadata": {
        "id": "poV3FI10Db1a",
        "colab_type": "text"
      },
      "source": [
        "**Examining the tables above. It looks like new fields were added for year 2016 and 2017. Most of the fields have the same name across the files. Key fields such as Physician information and Payment information looks exactly the same across the files. We will drop fields that do not match the 2013 data and aggregate the data into one file.**"
      ]
    },
    {
      "cell_type": "code",
      "metadata": {
        "colab_type": "code",
        "outputId": "537cb048-76db-4beb-a47e-b86e67319fd3",
        "id": "Q2jJhP8YjMNq",
        "colab": {
          "base_uri": "https://localhost:8080/",
          "height": 35
        }
      },
      "source": [
        "#Lets determine which fields are in all files and drop fields that are in not 2013.\n",
        "col2014 = df2014.columns\n",
        "colkeep = [column for column in df2017.columns if column in col2014]\n",
        "\n",
        "\n",
        "df2014 = df2014.select(colkeep)\n",
        "df2015 = df2015.select(colkeep)\n",
        "df2016 = df2016.select(colkeep)\n",
        "df2017 = df2017.select(colkeep)\n",
        "\n",
        "len(df2014.columns), len(df2015.columns), len(df2016.columns), len(df2017.columns), "
      ],
      "execution_count": 0,
      "outputs": [
        {
          "output_type": "execute_result",
          "data": {
            "text/plain": [
              "(49, 49, 49, 49)"
            ]
          },
          "metadata": {
            "tags": []
          },
          "execution_count": 33
        }
      ]
    },
    {
      "cell_type": "code",
      "metadata": {
        "id": "KGvhTXr1Z42J",
        "colab_type": "code",
        "outputId": "2ca514ea-99f8-4b0a-95d6-c3724529d8c5",
        "colab": {
          "base_uri": "https://localhost:8080/"
        }
      },
      "source": [
        "#total number of records\n",
        "df2014.count() + df2015.count() + df2016.count() + df2017.count()"
      ],
      "execution_count": 0,
      "outputs": [
        {
          "output_type": "execute_result",
          "data": {
            "text/plain": [
              "32979149"
            ]
          },
          "metadata": {
            "tags": []
          },
          "execution_count": 34
        }
      ]
    },
    {
      "cell_type": "code",
      "metadata": {
        "id": "64TUSV5sD2uI",
        "colab_type": "code",
        "outputId": "9a6cfe0e-a8d4-4eb6-fa03-463cb708ae2d",
        "colab": {
          "base_uri": "https://localhost:8080/",
          "height": 55
        }
      },
      "source": [
        "\n",
        "#Spark doesn't have a function to append multiple dataframes. So we have to use a workaround.\n",
        "\n",
        "from functools import reduce\n",
        "from pyspark.sql import DataFrame\n",
        "\n",
        "def unionAll(*dfa):\n",
        "    return reduce(DataFrame.unionAll, dfa)\n",
        "\n",
        "df = unionAll(df2014, df2015, df2016, df2017)\n",
        "df.cache()\n"
      ],
      "execution_count": 0,
      "outputs": [
        {
          "output_type": "execute_result",
          "data": {
            "text/plain": [
              "DataFrame[Change_Type: string, Covered_Recipient_Type: string, Teaching_Hospital_CCN: int, Teaching_Hospital_ID: int, Teaching_Hospital_Name: string, Physician_Profile_ID: int, Physician_First_Name: string, Physician_Middle_Name: string, Physician_Last_Name: string, Physician_Name_Suffix: string, Recipient_Primary_Business_Street_Address_Line1: string, Recipient_Primary_Business_Street_Address_Line2: string, Recipient_City: string, Recipient_State: string, Recipient_Zip_Code: string, Recipient_Country: string, Recipient_Province: string, Recipient_Postal_Code: string, Physician_Primary_Type: string, Physician_Specialty: string, Physician_License_State_code1: string, Physician_License_State_code2: string, Physician_License_State_code3: string, Physician_License_State_code4: string, Physician_License_State_code5: string, Submitting_Applicable_Manufacturer_or_Applicable_GPO_Name: string, Applicable_Manufacturer_or_Applicable_GPO_Making_Payment_ID: string, Applicable_Manufacturer_or_Applicable_GPO_Making_Payment_Name: string, Applicable_Manufacturer_or_Applicable_GPO_Making_Payment_State: string, Applicable_Manufacturer_or_Applicable_GPO_Making_Payment_Country: string, Total_Amount_of_Payment_USDollars: string, Date_of_Payment: string, Number_of_Payments_Included_in_Total_Amount: string, Form_of_Payment_or_Transfer_of_Value: string, Nature_of_Payment_or_Transfer_of_Value: string, City_of_Travel: string, State_of_Travel: string, Country_of_Travel: string, Physician_Ownership_Indicator: string, Third_Party_Payment_Recipient_Indicator: string, Name_of_Third_Party_Entity_Receiving_Payment_or_Transfer_of_Value: string, Charity_Indicator: string, Third_Party_Equals_Covered_Recipient_Indicator: string, Contextual_Information: string, Delay_in_Publication_Indicator: string, Record_ID: string, Dispute_Status_for_Publication: string, Program_Year: string, Payment_Publication_Date: string]"
            ]
          },
          "metadata": {
            "tags": []
          },
          "execution_count": 36
        }
      ]
    },
    {
      "cell_type": "code",
      "metadata": {
        "id": "-_sgk_u8Zqhh",
        "colab_type": "code",
        "outputId": "8eec528c-68c4-462f-99c8-a412403ed8b2",
        "colab": {
          "base_uri": "https://localhost:8080/",
          "height": 315
        }
      },
      "source": [
        "df.count() #The number of records match the aggregate of the number of records in the individual files."
      ],
      "execution_count": 0,
      "outputs": [
        {
          "output_type": "error",
          "ename": "KeyboardInterrupt",
          "evalue": "ignored",
          "traceback": [
            "\u001b[0;31m---------------------------------------------------------------------------\u001b[0m",
            "\u001b[0;31mKeyboardInterrupt\u001b[0m                         Traceback (most recent call last)",
            "\u001b[0;32m<ipython-input-37-e286fba9bb84>\u001b[0m in \u001b[0;36m<module>\u001b[0;34m()\u001b[0m\n\u001b[0;32m----> 1\u001b[0;31m \u001b[0mdf\u001b[0m\u001b[0;34m.\u001b[0m\u001b[0mcount\u001b[0m\u001b[0;34m(\u001b[0m\u001b[0;34m)\u001b[0m \u001b[0;31m#The number of records match the aggregate of the number of records in the individual files.\u001b[0m\u001b[0;34m\u001b[0m\u001b[0;34m\u001b[0m\u001b[0m\n\u001b[0m",
            "\u001b[0;32m/content/spark-2.4.3-bin-hadoop2.7/python/pyspark/sql/dataframe.py\u001b[0m in \u001b[0;36mcount\u001b[0;34m(self)\u001b[0m\n\u001b[1;32m    520\u001b[0m         \u001b[0;36m2\u001b[0m\u001b[0;34m\u001b[0m\u001b[0;34m\u001b[0m\u001b[0m\n\u001b[1;32m    521\u001b[0m         \"\"\"\n\u001b[0;32m--> 522\u001b[0;31m         \u001b[0;32mreturn\u001b[0m \u001b[0mint\u001b[0m\u001b[0;34m(\u001b[0m\u001b[0mself\u001b[0m\u001b[0;34m.\u001b[0m\u001b[0m_jdf\u001b[0m\u001b[0;34m.\u001b[0m\u001b[0mcount\u001b[0m\u001b[0;34m(\u001b[0m\u001b[0;34m)\u001b[0m\u001b[0;34m)\u001b[0m\u001b[0;34m\u001b[0m\u001b[0;34m\u001b[0m\u001b[0m\n\u001b[0m\u001b[1;32m    523\u001b[0m \u001b[0;34m\u001b[0m\u001b[0m\n\u001b[1;32m    524\u001b[0m     \u001b[0;34m@\u001b[0m\u001b[0mignore_unicode_prefix\u001b[0m\u001b[0;34m\u001b[0m\u001b[0;34m\u001b[0m\u001b[0m\n",
            "\u001b[0;32m/content/spark-2.4.3-bin-hadoop2.7/python/lib/py4j-0.10.7-src.zip/py4j/java_gateway.py\u001b[0m in \u001b[0;36m__call__\u001b[0;34m(self, *args)\u001b[0m\n\u001b[1;32m   1253\u001b[0m             \u001b[0mproto\u001b[0m\u001b[0;34m.\u001b[0m\u001b[0mEND_COMMAND_PART\u001b[0m\u001b[0;34m\u001b[0m\u001b[0;34m\u001b[0m\u001b[0m\n\u001b[1;32m   1254\u001b[0m \u001b[0;34m\u001b[0m\u001b[0m\n\u001b[0;32m-> 1255\u001b[0;31m         \u001b[0manswer\u001b[0m \u001b[0;34m=\u001b[0m \u001b[0mself\u001b[0m\u001b[0;34m.\u001b[0m\u001b[0mgateway_client\u001b[0m\u001b[0;34m.\u001b[0m\u001b[0msend_command\u001b[0m\u001b[0;34m(\u001b[0m\u001b[0mcommand\u001b[0m\u001b[0;34m)\u001b[0m\u001b[0;34m\u001b[0m\u001b[0;34m\u001b[0m\u001b[0m\n\u001b[0m\u001b[1;32m   1256\u001b[0m         return_value = get_return_value(\n\u001b[1;32m   1257\u001b[0m             answer, self.gateway_client, self.target_id, self.name)\n",
            "\u001b[0;32m/content/spark-2.4.3-bin-hadoop2.7/python/lib/py4j-0.10.7-src.zip/py4j/java_gateway.py\u001b[0m in \u001b[0;36msend_command\u001b[0;34m(self, command, retry, binary)\u001b[0m\n\u001b[1;32m    983\u001b[0m         \u001b[0mconnection\u001b[0m \u001b[0;34m=\u001b[0m \u001b[0mself\u001b[0m\u001b[0;34m.\u001b[0m\u001b[0m_get_connection\u001b[0m\u001b[0;34m(\u001b[0m\u001b[0;34m)\u001b[0m\u001b[0;34m\u001b[0m\u001b[0;34m\u001b[0m\u001b[0m\n\u001b[1;32m    984\u001b[0m         \u001b[0;32mtry\u001b[0m\u001b[0;34m:\u001b[0m\u001b[0;34m\u001b[0m\u001b[0;34m\u001b[0m\u001b[0m\n\u001b[0;32m--> 985\u001b[0;31m             \u001b[0mresponse\u001b[0m \u001b[0;34m=\u001b[0m \u001b[0mconnection\u001b[0m\u001b[0;34m.\u001b[0m\u001b[0msend_command\u001b[0m\u001b[0;34m(\u001b[0m\u001b[0mcommand\u001b[0m\u001b[0;34m)\u001b[0m\u001b[0;34m\u001b[0m\u001b[0;34m\u001b[0m\u001b[0m\n\u001b[0m\u001b[1;32m    986\u001b[0m             \u001b[0;32mif\u001b[0m \u001b[0mbinary\u001b[0m\u001b[0;34m:\u001b[0m\u001b[0;34m\u001b[0m\u001b[0;34m\u001b[0m\u001b[0m\n\u001b[1;32m    987\u001b[0m                 \u001b[0;32mreturn\u001b[0m \u001b[0mresponse\u001b[0m\u001b[0;34m,\u001b[0m \u001b[0mself\u001b[0m\u001b[0;34m.\u001b[0m\u001b[0m_create_connection_guard\u001b[0m\u001b[0;34m(\u001b[0m\u001b[0mconnection\u001b[0m\u001b[0;34m)\u001b[0m\u001b[0;34m\u001b[0m\u001b[0;34m\u001b[0m\u001b[0m\n",
            "\u001b[0;32m/content/spark-2.4.3-bin-hadoop2.7/python/lib/py4j-0.10.7-src.zip/py4j/java_gateway.py\u001b[0m in \u001b[0;36msend_command\u001b[0;34m(self, command)\u001b[0m\n\u001b[1;32m   1150\u001b[0m \u001b[0;34m\u001b[0m\u001b[0m\n\u001b[1;32m   1151\u001b[0m         \u001b[0;32mtry\u001b[0m\u001b[0;34m:\u001b[0m\u001b[0;34m\u001b[0m\u001b[0;34m\u001b[0m\u001b[0m\n\u001b[0;32m-> 1152\u001b[0;31m             \u001b[0manswer\u001b[0m \u001b[0;34m=\u001b[0m \u001b[0msmart_decode\u001b[0m\u001b[0;34m(\u001b[0m\u001b[0mself\u001b[0m\u001b[0;34m.\u001b[0m\u001b[0mstream\u001b[0m\u001b[0;34m.\u001b[0m\u001b[0mreadline\u001b[0m\u001b[0;34m(\u001b[0m\u001b[0;34m)\u001b[0m\u001b[0;34m[\u001b[0m\u001b[0;34m:\u001b[0m\u001b[0;34m-\u001b[0m\u001b[0;36m1\u001b[0m\u001b[0;34m]\u001b[0m\u001b[0;34m)\u001b[0m\u001b[0;34m\u001b[0m\u001b[0;34m\u001b[0m\u001b[0m\n\u001b[0m\u001b[1;32m   1153\u001b[0m             \u001b[0mlogger\u001b[0m\u001b[0;34m.\u001b[0m\u001b[0mdebug\u001b[0m\u001b[0;34m(\u001b[0m\u001b[0;34m\"Answer received: {0}\"\u001b[0m\u001b[0;34m.\u001b[0m\u001b[0mformat\u001b[0m\u001b[0;34m(\u001b[0m\u001b[0manswer\u001b[0m\u001b[0;34m)\u001b[0m\u001b[0;34m)\u001b[0m\u001b[0;34m\u001b[0m\u001b[0;34m\u001b[0m\u001b[0m\n\u001b[1;32m   1154\u001b[0m             \u001b[0;32mif\u001b[0m \u001b[0manswer\u001b[0m\u001b[0;34m.\u001b[0m\u001b[0mstartswith\u001b[0m\u001b[0;34m(\u001b[0m\u001b[0mproto\u001b[0m\u001b[0;34m.\u001b[0m\u001b[0mRETURN_MESSAGE\u001b[0m\u001b[0;34m)\u001b[0m\u001b[0;34m:\u001b[0m\u001b[0;34m\u001b[0m\u001b[0;34m\u001b[0m\u001b[0m\n",
            "\u001b[0;32m/usr/lib/python3.6/socket.py\u001b[0m in \u001b[0;36mreadinto\u001b[0;34m(self, b)\u001b[0m\n\u001b[1;32m    584\u001b[0m         \u001b[0;32mwhile\u001b[0m \u001b[0;32mTrue\u001b[0m\u001b[0;34m:\u001b[0m\u001b[0;34m\u001b[0m\u001b[0;34m\u001b[0m\u001b[0m\n\u001b[1;32m    585\u001b[0m             \u001b[0;32mtry\u001b[0m\u001b[0;34m:\u001b[0m\u001b[0;34m\u001b[0m\u001b[0;34m\u001b[0m\u001b[0m\n\u001b[0;32m--> 586\u001b[0;31m                 \u001b[0;32mreturn\u001b[0m \u001b[0mself\u001b[0m\u001b[0;34m.\u001b[0m\u001b[0m_sock\u001b[0m\u001b[0;34m.\u001b[0m\u001b[0mrecv_into\u001b[0m\u001b[0;34m(\u001b[0m\u001b[0mb\u001b[0m\u001b[0;34m)\u001b[0m\u001b[0;34m\u001b[0m\u001b[0;34m\u001b[0m\u001b[0m\n\u001b[0m\u001b[1;32m    587\u001b[0m             \u001b[0;32mexcept\u001b[0m \u001b[0mtimeout\u001b[0m\u001b[0;34m:\u001b[0m\u001b[0;34m\u001b[0m\u001b[0;34m\u001b[0m\u001b[0m\n\u001b[1;32m    588\u001b[0m                 \u001b[0mself\u001b[0m\u001b[0;34m.\u001b[0m\u001b[0m_timeout_occurred\u001b[0m \u001b[0;34m=\u001b[0m \u001b[0;32mTrue\u001b[0m\u001b[0;34m\u001b[0m\u001b[0;34m\u001b[0m\u001b[0m\n",
            "\u001b[0;31mKeyboardInterrupt\u001b[0m: "
          ]
        }
      ]
    },
    {
      "cell_type": "code",
      "metadata": {
        "id": "_DEAuyOYZwR_",
        "colab_type": "code",
        "outputId": "1b78bf53-425d-498e-ffaa-c9131703d023",
        "colab": {
          "base_uri": "https://localhost:8080/",
          "height": 315
        }
      },
      "source": [
        "#Lets looks at the combined dataframe\n",
        "df.show(5)"
      ],
      "execution_count": 0,
      "outputs": [
        {
          "output_type": "error",
          "ename": "KeyboardInterrupt",
          "evalue": "ignored",
          "traceback": [
            "\u001b[0;31m---------------------------------------------------------------------------\u001b[0m",
            "\u001b[0;31mKeyboardInterrupt\u001b[0m                         Traceback (most recent call last)",
            "\u001b[0;32m<ipython-input-38-eb589bae8d4b>\u001b[0m in \u001b[0;36m<module>\u001b[0;34m()\u001b[0m\n\u001b[0;32m----> 1\u001b[0;31m \u001b[0mdf\u001b[0m\u001b[0;34m.\u001b[0m\u001b[0mshow\u001b[0m\u001b[0;34m(\u001b[0m\u001b[0;36m5\u001b[0m\u001b[0;34m)\u001b[0m\u001b[0;34m\u001b[0m\u001b[0;34m\u001b[0m\u001b[0m\n\u001b[0m",
            "\u001b[0;32m/content/spark-2.4.3-bin-hadoop2.7/python/pyspark/sql/dataframe.py\u001b[0m in \u001b[0;36mshow\u001b[0;34m(self, n, truncate, vertical)\u001b[0m\n\u001b[1;32m    376\u001b[0m         \"\"\"\n\u001b[1;32m    377\u001b[0m         \u001b[0;32mif\u001b[0m \u001b[0misinstance\u001b[0m\u001b[0;34m(\u001b[0m\u001b[0mtruncate\u001b[0m\u001b[0;34m,\u001b[0m \u001b[0mbool\u001b[0m\u001b[0;34m)\u001b[0m \u001b[0;32mand\u001b[0m \u001b[0mtruncate\u001b[0m\u001b[0;34m:\u001b[0m\u001b[0;34m\u001b[0m\u001b[0;34m\u001b[0m\u001b[0m\n\u001b[0;32m--> 378\u001b[0;31m             \u001b[0mprint\u001b[0m\u001b[0;34m(\u001b[0m\u001b[0mself\u001b[0m\u001b[0;34m.\u001b[0m\u001b[0m_jdf\u001b[0m\u001b[0;34m.\u001b[0m\u001b[0mshowString\u001b[0m\u001b[0;34m(\u001b[0m\u001b[0mn\u001b[0m\u001b[0;34m,\u001b[0m \u001b[0;36m20\u001b[0m\u001b[0;34m,\u001b[0m \u001b[0mvertical\u001b[0m\u001b[0;34m)\u001b[0m\u001b[0;34m)\u001b[0m\u001b[0;34m\u001b[0m\u001b[0;34m\u001b[0m\u001b[0m\n\u001b[0m\u001b[1;32m    379\u001b[0m         \u001b[0;32melse\u001b[0m\u001b[0;34m:\u001b[0m\u001b[0;34m\u001b[0m\u001b[0;34m\u001b[0m\u001b[0m\n\u001b[1;32m    380\u001b[0m             \u001b[0mprint\u001b[0m\u001b[0;34m(\u001b[0m\u001b[0mself\u001b[0m\u001b[0;34m.\u001b[0m\u001b[0m_jdf\u001b[0m\u001b[0;34m.\u001b[0m\u001b[0mshowString\u001b[0m\u001b[0;34m(\u001b[0m\u001b[0mn\u001b[0m\u001b[0;34m,\u001b[0m \u001b[0mint\u001b[0m\u001b[0;34m(\u001b[0m\u001b[0mtruncate\u001b[0m\u001b[0;34m)\u001b[0m\u001b[0;34m,\u001b[0m \u001b[0mvertical\u001b[0m\u001b[0;34m)\u001b[0m\u001b[0;34m)\u001b[0m\u001b[0;34m\u001b[0m\u001b[0;34m\u001b[0m\u001b[0m\n",
            "\u001b[0;32m/content/spark-2.4.3-bin-hadoop2.7/python/lib/py4j-0.10.7-src.zip/py4j/java_gateway.py\u001b[0m in \u001b[0;36m__call__\u001b[0;34m(self, *args)\u001b[0m\n\u001b[1;32m   1253\u001b[0m             \u001b[0mproto\u001b[0m\u001b[0;34m.\u001b[0m\u001b[0mEND_COMMAND_PART\u001b[0m\u001b[0;34m\u001b[0m\u001b[0;34m\u001b[0m\u001b[0m\n\u001b[1;32m   1254\u001b[0m \u001b[0;34m\u001b[0m\u001b[0m\n\u001b[0;32m-> 1255\u001b[0;31m         \u001b[0manswer\u001b[0m \u001b[0;34m=\u001b[0m \u001b[0mself\u001b[0m\u001b[0;34m.\u001b[0m\u001b[0mgateway_client\u001b[0m\u001b[0;34m.\u001b[0m\u001b[0msend_command\u001b[0m\u001b[0;34m(\u001b[0m\u001b[0mcommand\u001b[0m\u001b[0;34m)\u001b[0m\u001b[0;34m\u001b[0m\u001b[0;34m\u001b[0m\u001b[0m\n\u001b[0m\u001b[1;32m   1256\u001b[0m         return_value = get_return_value(\n\u001b[1;32m   1257\u001b[0m             answer, self.gateway_client, self.target_id, self.name)\n",
            "\u001b[0;32m/content/spark-2.4.3-bin-hadoop2.7/python/lib/py4j-0.10.7-src.zip/py4j/java_gateway.py\u001b[0m in \u001b[0;36msend_command\u001b[0;34m(self, command, retry, binary)\u001b[0m\n\u001b[1;32m    983\u001b[0m         \u001b[0mconnection\u001b[0m \u001b[0;34m=\u001b[0m \u001b[0mself\u001b[0m\u001b[0;34m.\u001b[0m\u001b[0m_get_connection\u001b[0m\u001b[0;34m(\u001b[0m\u001b[0;34m)\u001b[0m\u001b[0;34m\u001b[0m\u001b[0;34m\u001b[0m\u001b[0m\n\u001b[1;32m    984\u001b[0m         \u001b[0;32mtry\u001b[0m\u001b[0;34m:\u001b[0m\u001b[0;34m\u001b[0m\u001b[0;34m\u001b[0m\u001b[0m\n\u001b[0;32m--> 985\u001b[0;31m             \u001b[0mresponse\u001b[0m \u001b[0;34m=\u001b[0m \u001b[0mconnection\u001b[0m\u001b[0;34m.\u001b[0m\u001b[0msend_command\u001b[0m\u001b[0;34m(\u001b[0m\u001b[0mcommand\u001b[0m\u001b[0;34m)\u001b[0m\u001b[0;34m\u001b[0m\u001b[0;34m\u001b[0m\u001b[0m\n\u001b[0m\u001b[1;32m    986\u001b[0m             \u001b[0;32mif\u001b[0m \u001b[0mbinary\u001b[0m\u001b[0;34m:\u001b[0m\u001b[0;34m\u001b[0m\u001b[0;34m\u001b[0m\u001b[0m\n\u001b[1;32m    987\u001b[0m                 \u001b[0;32mreturn\u001b[0m \u001b[0mresponse\u001b[0m\u001b[0;34m,\u001b[0m \u001b[0mself\u001b[0m\u001b[0;34m.\u001b[0m\u001b[0m_create_connection_guard\u001b[0m\u001b[0;34m(\u001b[0m\u001b[0mconnection\u001b[0m\u001b[0;34m)\u001b[0m\u001b[0;34m\u001b[0m\u001b[0;34m\u001b[0m\u001b[0m\n",
            "\u001b[0;32m/content/spark-2.4.3-bin-hadoop2.7/python/lib/py4j-0.10.7-src.zip/py4j/java_gateway.py\u001b[0m in \u001b[0;36msend_command\u001b[0;34m(self, command)\u001b[0m\n\u001b[1;32m   1150\u001b[0m \u001b[0;34m\u001b[0m\u001b[0m\n\u001b[1;32m   1151\u001b[0m         \u001b[0;32mtry\u001b[0m\u001b[0;34m:\u001b[0m\u001b[0;34m\u001b[0m\u001b[0;34m\u001b[0m\u001b[0m\n\u001b[0;32m-> 1152\u001b[0;31m             \u001b[0manswer\u001b[0m \u001b[0;34m=\u001b[0m \u001b[0msmart_decode\u001b[0m\u001b[0;34m(\u001b[0m\u001b[0mself\u001b[0m\u001b[0;34m.\u001b[0m\u001b[0mstream\u001b[0m\u001b[0;34m.\u001b[0m\u001b[0mreadline\u001b[0m\u001b[0;34m(\u001b[0m\u001b[0;34m)\u001b[0m\u001b[0;34m[\u001b[0m\u001b[0;34m:\u001b[0m\u001b[0;34m-\u001b[0m\u001b[0;36m1\u001b[0m\u001b[0;34m]\u001b[0m\u001b[0;34m)\u001b[0m\u001b[0;34m\u001b[0m\u001b[0;34m\u001b[0m\u001b[0m\n\u001b[0m\u001b[1;32m   1153\u001b[0m             \u001b[0mlogger\u001b[0m\u001b[0;34m.\u001b[0m\u001b[0mdebug\u001b[0m\u001b[0;34m(\u001b[0m\u001b[0;34m\"Answer received: {0}\"\u001b[0m\u001b[0;34m.\u001b[0m\u001b[0mformat\u001b[0m\u001b[0;34m(\u001b[0m\u001b[0manswer\u001b[0m\u001b[0;34m)\u001b[0m\u001b[0;34m)\u001b[0m\u001b[0;34m\u001b[0m\u001b[0;34m\u001b[0m\u001b[0m\n\u001b[1;32m   1154\u001b[0m             \u001b[0;32mif\u001b[0m \u001b[0manswer\u001b[0m\u001b[0;34m.\u001b[0m\u001b[0mstartswith\u001b[0m\u001b[0;34m(\u001b[0m\u001b[0mproto\u001b[0m\u001b[0;34m.\u001b[0m\u001b[0mRETURN_MESSAGE\u001b[0m\u001b[0;34m)\u001b[0m\u001b[0;34m:\u001b[0m\u001b[0;34m\u001b[0m\u001b[0;34m\u001b[0m\u001b[0m\n",
            "\u001b[0;32m/usr/lib/python3.6/socket.py\u001b[0m in \u001b[0;36mreadinto\u001b[0;34m(self, b)\u001b[0m\n\u001b[1;32m    584\u001b[0m         \u001b[0;32mwhile\u001b[0m \u001b[0;32mTrue\u001b[0m\u001b[0;34m:\u001b[0m\u001b[0;34m\u001b[0m\u001b[0;34m\u001b[0m\u001b[0m\n\u001b[1;32m    585\u001b[0m             \u001b[0;32mtry\u001b[0m\u001b[0;34m:\u001b[0m\u001b[0;34m\u001b[0m\u001b[0;34m\u001b[0m\u001b[0m\n\u001b[0;32m--> 586\u001b[0;31m                 \u001b[0;32mreturn\u001b[0m \u001b[0mself\u001b[0m\u001b[0;34m.\u001b[0m\u001b[0m_sock\u001b[0m\u001b[0;34m.\u001b[0m\u001b[0mrecv_into\u001b[0m\u001b[0;34m(\u001b[0m\u001b[0mb\u001b[0m\u001b[0;34m)\u001b[0m\u001b[0;34m\u001b[0m\u001b[0;34m\u001b[0m\u001b[0m\n\u001b[0m\u001b[1;32m    587\u001b[0m             \u001b[0;32mexcept\u001b[0m \u001b[0mtimeout\u001b[0m\u001b[0;34m:\u001b[0m\u001b[0;34m\u001b[0m\u001b[0;34m\u001b[0m\u001b[0m\n\u001b[1;32m    588\u001b[0m                 \u001b[0mself\u001b[0m\u001b[0;34m.\u001b[0m\u001b[0m_timeout_occurred\u001b[0m \u001b[0;34m=\u001b[0m \u001b[0;32mTrue\u001b[0m\u001b[0;34m\u001b[0m\u001b[0;34m\u001b[0m\u001b[0m\n",
            "\u001b[0;31mKeyboardInterrupt\u001b[0m: "
          ]
        }
      ]
    },
    {
      "cell_type": "code",
      "metadata": {
        "id": "aCvGfg96c8v-",
        "colab_type": "code",
        "colab": {}
      },
      "source": [
        "#Convert numerical fields from string to appropriate datatype\n",
        "#numerical: Total_Amount_of_Payment_USDollars, Total_Amount_of_Payment_USDollars\n",
        "\n",
        "df = df.withColumn('Total_Amount_of_Payment_USDollars', df.Total_Amount_of_Payment_USDollars.cast('Decimal'))\n",
        "df = df.withColumn('Number_of_Payments_Included_in_Total_Amount', df.Number_of_Payments_Included_in_Total_Amount.cast('Decimal'))\n",
        "\n",
        "#Change Payment data to Date Type\n",
        "from pyspark.sql import functions as Func\n",
        "df = df.withColumn('Date_of_Payment', Func.to_date('Date_of_Payment', 'MM/dd/yyyy'))"
      ],
      "execution_count": 0,
      "outputs": []
    },
    {
      "cell_type": "code",
      "metadata": {
        "id": "gNehgTb0jBIO",
        "colab_type": "code",
        "outputId": "7106c4df-3519-418f-fab8-18fab91c7157",
        "colab": {
          "base_uri": "https://localhost:8080/",
          "height": 55
        }
      },
      "source": [
        "df.select('Total_Amount_of_Payment_USDollars', 'Number_of_Payments_Included_in_Total_Amount').schema()"
      ],
      "execution_count": 0,
      "outputs": [
        {
          "output_type": "execute_result",
          "data": {
            "text/plain": [
              "StructType(List(StructField(Total_Amount_of_Payment_USDollars,DecimalType(10,0),true),StructField(Number_of_Payments_Included_in_Total_Amount,DecimalType(10,0),true)))"
            ]
          },
          "metadata": {
            "tags": []
          },
          "execution_count": 66
        }
      ]
    },
    {
      "cell_type": "code",
      "metadata": {
        "id": "y8Ua3ljemR68",
        "colab_type": "code",
        "colab": {}
      },
      "source": [
        "#Missing Values\n",
        "#nonNullDF = df.fillna(\"--\")\n",
        "#display(nonNullDF)"
      ],
      "execution_count": 0,
      "outputs": []
    },
    {
      "cell_type": "markdown",
      "metadata": {
        "id": "iFrfI1vebLfO",
        "colab_type": "text"
      },
      "source": [
        "##Exploratory Data Analysis on Nearly 4 Million Records!"
      ]
    },
    {
      "cell_type": "markdown",
      "metadata": {
        "id": "u7aIKGwSc3CV",
        "colab_type": "text"
      },
      "source": [
        ""
      ]
    },
    {
      "cell_type": "code",
      "metadata": {
        "id": "AL5Qo-2abSJ9",
        "colab_type": "code",
        "colab": {}
      },
      "source": [
        "#Look at the distribution of Total Payments (2013 to 2017)\n",
        "df.describe('Total_Amount_of_Payment_USDollars').show()"
      ],
      "execution_count": 0,
      "outputs": []
    },
    {
      "cell_type": "code",
      "metadata": {
        "id": "kmkE1ZakKxP8",
        "colab_type": "code",
        "outputId": "3a8b5e9d-dd41-4c39-bfe4-71c6802279eb",
        "colab": {
          "base_uri": "https://localhost:8080/",
          "height": 212
        }
      },
      "source": [
        "#Total Payments By Program Year\n",
        "#df.groupby('Program_year').sum('Total_Amount_of_Payment_USDollars').orderBy('Program_year', ascending = False).show()\n",
        "df.groupby('Program_year').sum('Total_Amount_of_Payment_USDollars').orderBy('Program_year', ascending = False).show()"
      ],
      "execution_count": 0,
      "outputs": [
        {
          "output_type": "stream",
          "text": [
            "+------------+--------------------------------------+\n",
            "|Program_year|sum(Total_Amount_of_Payment_USDollars)|\n",
            "+------------+--------------------------------------+\n",
            "|        2017|                            2814070049|\n",
            "|        2016|                            2817576704|\n",
            "|        2015|                            2687032307|\n",
            "|        2014|                            2677298935|\n",
            "|  01/18/2019|                                    18|\n",
            "|        null|                                 97971|\n",
            "+------------+--------------------------------------+\n",
            "\n"
          ],
          "name": "stdout"
        }
      ]
    },
    {
      "cell_type": "code",
      "metadata": {
        "id": "B9o07NeGsJfX",
        "colab_type": "code",
        "outputId": "5b52bb67-1fb5-4b84-8b88-688b724f4675",
        "colab": {
          "base_uri": "https://localhost:8080/",
          "height": 478
        }
      },
      "source": [
        "#Chart Spending by Month\n",
        "ms_df = df.select(Func.date_format('Date_of_Payment','MM-yyyy').alias('Month'), 'Total_Amount_of_Payment_USDollars').groupby('Month').sum('Total_Amount_of_Payment_USDollars')\n",
        "ms_df.cache()"
      ],
      "execution_count": 0,
      "outputs": [
        {
          "output_type": "stream",
          "text": [
            "+-------+--------------------------------------+\n",
            "|  Month|sum(Total_Amount_of_Payment_USDollars)|\n",
            "+-------+--------------------------------------+\n",
            "|02-2017|                             217673539|\n",
            "|11-2105|                                    95|\n",
            "|12-2015|                             171270233|\n",
            "|01-2015|                             192509866|\n",
            "|01-2018|                                   145|\n",
            "|05-2016|                             337787144|\n",
            "|04-2015|                             227693822|\n",
            "|01-2101|                                   117|\n",
            "|07-2017|                             177806662|\n",
            "|10-2105|                                   150|\n",
            "|07-2014|                             161418995|\n",
            "|   null|                                     6|\n",
            "|04-2017|                             179900214|\n",
            "|05-2017|                             348666665|\n",
            "|09-2015|                             197821469|\n",
            "|08-2017|                             326954782|\n",
            "|06-2105|                                    75|\n",
            "|08-2016|                             308108737|\n",
            "|04-2016|                             258646449|\n",
            "|08-2015|                             276326679|\n",
            "+-------+--------------------------------------+\n",
            "only showing top 20 rows\n",
            "\n"
          ],
          "name": "stdout"
        }
      ]
    },
    {
      "cell_type": "code",
      "metadata": {
        "id": "A3lxP3ralkzz",
        "colab_type": "code",
        "outputId": "4bc39c96-d866-4b84-b9a3-d2705b45eb05",
        "colab": {
          "base_uri": "https://localhost:8080/",
          "height": 386
        }
      },
      "source": [
        "# Line Chart Spending By Month\n",
        "import matplotlib.pyplot as plt\n",
        "plt.style.use('ggplot')\n",
        "\n",
        "#ms_df1 = ms_df.filter('Month' >= Func.lit('01/2014'))   #.filter('Month' <= Func.lit('12/2017'))\n",
        "ms_df.show()\n",
        "\n",
        "plt.plot(ms_df, Month, \"sum(Total_Amount_of_Payment_USDollars\")\n"
      ],
      "execution_count": 0,
      "outputs": [
        {
          "output_type": "error",
          "ename": "KeyboardInterrupt",
          "evalue": "ignored",
          "traceback": [
            "\u001b[0;31m---------------------------------------------------------------------------\u001b[0m",
            "\u001b[0;31mKeyboardInterrupt\u001b[0m                         Traceback (most recent call last)",
            "\u001b[0;32m<ipython-input-82-52529a7cbeec>\u001b[0m in \u001b[0;36m<module>\u001b[0;34m()\u001b[0m\n\u001b[1;32m      3\u001b[0m \u001b[0;34m\u001b[0m\u001b[0m\n\u001b[1;32m      4\u001b[0m \u001b[0;31m#ms_df1 = ms_df.filter('Month' >= Func.lit('01/2014'))   #.filter('Month' <= Func.lit('12/2017'))\u001b[0m\u001b[0;34m\u001b[0m\u001b[0;34m\u001b[0m\u001b[0;34m\u001b[0m\u001b[0m\n\u001b[0;32m----> 5\u001b[0;31m \u001b[0mms_df\u001b[0m\u001b[0;34m.\u001b[0m\u001b[0mshow\u001b[0m\u001b[0;34m(\u001b[0m\u001b[0;34m)\u001b[0m\u001b[0;34m\u001b[0m\u001b[0;34m\u001b[0m\u001b[0m\n\u001b[0m\u001b[1;32m      6\u001b[0m \u001b[0;34m\u001b[0m\u001b[0m\n\u001b[1;32m      7\u001b[0m \u001b[0mplt\u001b[0m\u001b[0;34m.\u001b[0m\u001b[0mplot\u001b[0m\u001b[0;34m(\u001b[0m\u001b[0mms_df\u001b[0m\u001b[0;34m,\u001b[0m \u001b[0mMonth\u001b[0m\u001b[0;34m,\u001b[0m \u001b[0;34m\"sum(Total_Amount_of_Payment_USDollars\"\u001b[0m\u001b[0;34m)\u001b[0m\u001b[0;34m\u001b[0m\u001b[0;34m\u001b[0m\u001b[0m\n",
            "\u001b[0;32m/content/spark-2.4.3-bin-hadoop2.7/python/pyspark/sql/dataframe.py\u001b[0m in \u001b[0;36mshow\u001b[0;34m(self, n, truncate, vertical)\u001b[0m\n\u001b[1;32m    376\u001b[0m         \"\"\"\n\u001b[1;32m    377\u001b[0m         \u001b[0;32mif\u001b[0m \u001b[0misinstance\u001b[0m\u001b[0;34m(\u001b[0m\u001b[0mtruncate\u001b[0m\u001b[0;34m,\u001b[0m \u001b[0mbool\u001b[0m\u001b[0;34m)\u001b[0m \u001b[0;32mand\u001b[0m \u001b[0mtruncate\u001b[0m\u001b[0;34m:\u001b[0m\u001b[0;34m\u001b[0m\u001b[0;34m\u001b[0m\u001b[0m\n\u001b[0;32m--> 378\u001b[0;31m             \u001b[0mprint\u001b[0m\u001b[0;34m(\u001b[0m\u001b[0mself\u001b[0m\u001b[0;34m.\u001b[0m\u001b[0m_jdf\u001b[0m\u001b[0;34m.\u001b[0m\u001b[0mshowString\u001b[0m\u001b[0;34m(\u001b[0m\u001b[0mn\u001b[0m\u001b[0;34m,\u001b[0m \u001b[0;36m20\u001b[0m\u001b[0;34m,\u001b[0m \u001b[0mvertical\u001b[0m\u001b[0;34m)\u001b[0m\u001b[0;34m)\u001b[0m\u001b[0;34m\u001b[0m\u001b[0;34m\u001b[0m\u001b[0m\n\u001b[0m\u001b[1;32m    379\u001b[0m         \u001b[0;32melse\u001b[0m\u001b[0;34m:\u001b[0m\u001b[0;34m\u001b[0m\u001b[0;34m\u001b[0m\u001b[0m\n\u001b[1;32m    380\u001b[0m             \u001b[0mprint\u001b[0m\u001b[0;34m(\u001b[0m\u001b[0mself\u001b[0m\u001b[0;34m.\u001b[0m\u001b[0m_jdf\u001b[0m\u001b[0;34m.\u001b[0m\u001b[0mshowString\u001b[0m\u001b[0;34m(\u001b[0m\u001b[0mn\u001b[0m\u001b[0;34m,\u001b[0m \u001b[0mint\u001b[0m\u001b[0;34m(\u001b[0m\u001b[0mtruncate\u001b[0m\u001b[0;34m)\u001b[0m\u001b[0;34m,\u001b[0m \u001b[0mvertical\u001b[0m\u001b[0;34m)\u001b[0m\u001b[0;34m)\u001b[0m\u001b[0;34m\u001b[0m\u001b[0;34m\u001b[0m\u001b[0m\n",
            "\u001b[0;32m/content/spark-2.4.3-bin-hadoop2.7/python/lib/py4j-0.10.7-src.zip/py4j/java_gateway.py\u001b[0m in \u001b[0;36m__call__\u001b[0;34m(self, *args)\u001b[0m\n\u001b[1;32m   1253\u001b[0m             \u001b[0mproto\u001b[0m\u001b[0;34m.\u001b[0m\u001b[0mEND_COMMAND_PART\u001b[0m\u001b[0;34m\u001b[0m\u001b[0;34m\u001b[0m\u001b[0m\n\u001b[1;32m   1254\u001b[0m \u001b[0;34m\u001b[0m\u001b[0m\n\u001b[0;32m-> 1255\u001b[0;31m         \u001b[0manswer\u001b[0m \u001b[0;34m=\u001b[0m \u001b[0mself\u001b[0m\u001b[0;34m.\u001b[0m\u001b[0mgateway_client\u001b[0m\u001b[0;34m.\u001b[0m\u001b[0msend_command\u001b[0m\u001b[0;34m(\u001b[0m\u001b[0mcommand\u001b[0m\u001b[0;34m)\u001b[0m\u001b[0;34m\u001b[0m\u001b[0;34m\u001b[0m\u001b[0m\n\u001b[0m\u001b[1;32m   1256\u001b[0m         return_value = get_return_value(\n\u001b[1;32m   1257\u001b[0m             answer, self.gateway_client, self.target_id, self.name)\n",
            "\u001b[0;32m/content/spark-2.4.3-bin-hadoop2.7/python/lib/py4j-0.10.7-src.zip/py4j/java_gateway.py\u001b[0m in \u001b[0;36msend_command\u001b[0;34m(self, command, retry, binary)\u001b[0m\n\u001b[1;32m    983\u001b[0m         \u001b[0mconnection\u001b[0m \u001b[0;34m=\u001b[0m \u001b[0mself\u001b[0m\u001b[0;34m.\u001b[0m\u001b[0m_get_connection\u001b[0m\u001b[0;34m(\u001b[0m\u001b[0;34m)\u001b[0m\u001b[0;34m\u001b[0m\u001b[0;34m\u001b[0m\u001b[0m\n\u001b[1;32m    984\u001b[0m         \u001b[0;32mtry\u001b[0m\u001b[0;34m:\u001b[0m\u001b[0;34m\u001b[0m\u001b[0;34m\u001b[0m\u001b[0m\n\u001b[0;32m--> 985\u001b[0;31m             \u001b[0mresponse\u001b[0m \u001b[0;34m=\u001b[0m \u001b[0mconnection\u001b[0m\u001b[0;34m.\u001b[0m\u001b[0msend_command\u001b[0m\u001b[0;34m(\u001b[0m\u001b[0mcommand\u001b[0m\u001b[0;34m)\u001b[0m\u001b[0;34m\u001b[0m\u001b[0;34m\u001b[0m\u001b[0m\n\u001b[0m\u001b[1;32m    986\u001b[0m             \u001b[0;32mif\u001b[0m \u001b[0mbinary\u001b[0m\u001b[0;34m:\u001b[0m\u001b[0;34m\u001b[0m\u001b[0;34m\u001b[0m\u001b[0m\n\u001b[1;32m    987\u001b[0m                 \u001b[0;32mreturn\u001b[0m \u001b[0mresponse\u001b[0m\u001b[0;34m,\u001b[0m \u001b[0mself\u001b[0m\u001b[0;34m.\u001b[0m\u001b[0m_create_connection_guard\u001b[0m\u001b[0;34m(\u001b[0m\u001b[0mconnection\u001b[0m\u001b[0;34m)\u001b[0m\u001b[0;34m\u001b[0m\u001b[0;34m\u001b[0m\u001b[0m\n",
            "\u001b[0;32m/content/spark-2.4.3-bin-hadoop2.7/python/lib/py4j-0.10.7-src.zip/py4j/java_gateway.py\u001b[0m in \u001b[0;36msend_command\u001b[0;34m(self, command)\u001b[0m\n\u001b[1;32m   1150\u001b[0m \u001b[0;34m\u001b[0m\u001b[0m\n\u001b[1;32m   1151\u001b[0m         \u001b[0;32mtry\u001b[0m\u001b[0;34m:\u001b[0m\u001b[0;34m\u001b[0m\u001b[0;34m\u001b[0m\u001b[0m\n\u001b[0;32m-> 1152\u001b[0;31m             \u001b[0manswer\u001b[0m \u001b[0;34m=\u001b[0m \u001b[0msmart_decode\u001b[0m\u001b[0;34m(\u001b[0m\u001b[0mself\u001b[0m\u001b[0;34m.\u001b[0m\u001b[0mstream\u001b[0m\u001b[0;34m.\u001b[0m\u001b[0mreadline\u001b[0m\u001b[0;34m(\u001b[0m\u001b[0;34m)\u001b[0m\u001b[0;34m[\u001b[0m\u001b[0;34m:\u001b[0m\u001b[0;34m-\u001b[0m\u001b[0;36m1\u001b[0m\u001b[0;34m]\u001b[0m\u001b[0;34m)\u001b[0m\u001b[0;34m\u001b[0m\u001b[0;34m\u001b[0m\u001b[0m\n\u001b[0m\u001b[1;32m   1153\u001b[0m             \u001b[0mlogger\u001b[0m\u001b[0;34m.\u001b[0m\u001b[0mdebug\u001b[0m\u001b[0;34m(\u001b[0m\u001b[0;34m\"Answer received: {0}\"\u001b[0m\u001b[0;34m.\u001b[0m\u001b[0mformat\u001b[0m\u001b[0;34m(\u001b[0m\u001b[0manswer\u001b[0m\u001b[0;34m)\u001b[0m\u001b[0;34m)\u001b[0m\u001b[0;34m\u001b[0m\u001b[0;34m\u001b[0m\u001b[0m\n\u001b[1;32m   1154\u001b[0m             \u001b[0;32mif\u001b[0m \u001b[0manswer\u001b[0m\u001b[0;34m.\u001b[0m\u001b[0mstartswith\u001b[0m\u001b[0;34m(\u001b[0m\u001b[0mproto\u001b[0m\u001b[0;34m.\u001b[0m\u001b[0mRETURN_MESSAGE\u001b[0m\u001b[0;34m)\u001b[0m\u001b[0;34m:\u001b[0m\u001b[0;34m\u001b[0m\u001b[0;34m\u001b[0m\u001b[0m\n",
            "\u001b[0;32m/usr/lib/python3.6/socket.py\u001b[0m in \u001b[0;36mreadinto\u001b[0;34m(self, b)\u001b[0m\n\u001b[1;32m    584\u001b[0m         \u001b[0;32mwhile\u001b[0m \u001b[0;32mTrue\u001b[0m\u001b[0;34m:\u001b[0m\u001b[0;34m\u001b[0m\u001b[0;34m\u001b[0m\u001b[0m\n\u001b[1;32m    585\u001b[0m             \u001b[0;32mtry\u001b[0m\u001b[0;34m:\u001b[0m\u001b[0;34m\u001b[0m\u001b[0;34m\u001b[0m\u001b[0m\n\u001b[0;32m--> 586\u001b[0;31m                 \u001b[0;32mreturn\u001b[0m \u001b[0mself\u001b[0m\u001b[0;34m.\u001b[0m\u001b[0m_sock\u001b[0m\u001b[0;34m.\u001b[0m\u001b[0mrecv_into\u001b[0m\u001b[0;34m(\u001b[0m\u001b[0mb\u001b[0m\u001b[0;34m)\u001b[0m\u001b[0;34m\u001b[0m\u001b[0;34m\u001b[0m\u001b[0m\n\u001b[0m\u001b[1;32m    587\u001b[0m             \u001b[0;32mexcept\u001b[0m \u001b[0mtimeout\u001b[0m\u001b[0;34m:\u001b[0m\u001b[0;34m\u001b[0m\u001b[0;34m\u001b[0m\u001b[0m\n\u001b[1;32m    588\u001b[0m                 \u001b[0mself\u001b[0m\u001b[0;34m.\u001b[0m\u001b[0m_timeout_occurred\u001b[0m \u001b[0;34m=\u001b[0m \u001b[0;32mTrue\u001b[0m\u001b[0;34m\u001b[0m\u001b[0;34m\u001b[0m\u001b[0m\n",
            "\u001b[0;31mKeyboardInterrupt\u001b[0m: "
          ]
        }
      ]
    },
    {
      "cell_type": "code",
      "metadata": {
        "id": "lf4wCwFjlQ9v",
        "colab_type": "code",
        "outputId": "a7a88572-4f16-480a-fcec-c6d5a1bfa9ef",
        "colab": {
          "base_uri": "https://localhost:8080/",
          "height": 478
        }
      },
      "source": [
        "#What is the Total Paymnents 2014 to 2016 by Recipient State?\n",
        "df.groupby('Recipient_State').sum('Total_Amount_of_Payment_USDollars').orderBy('Recipient_State', ascending = True).show()"
      ],
      "execution_count": 0,
      "outputs": [
        {
          "output_type": "stream",
          "text": [
            "+---------------+--------------------------------------+\n",
            "|Recipient_State|sum(Total_Amount_of_Payment_USDollars)|\n",
            "+---------------+--------------------------------------+\n",
            "|           null|                                526486|\n",
            "|       FND 216\"|                                  null|\n",
            "|          07728|                                  null|\n",
            "|             0R|                                    30|\n",
            "|          22031|                                  null|\n",
            "|          98003|                                  null|\n",
            "|             AA|                                  5423|\n",
            "|             AE|                                 79328|\n",
            "|             AK|                               3184028|\n",
            "|             AL|                              86830476|\n",
            "|             AP|                                 46031|\n",
            "|             AR|                              46065934|\n",
            "|             AS|                                   177|\n",
            "|         AUSTIN|                                  null|\n",
            "|             AZ|                             249128161|\n",
            "|         Boston|                                  null|\n",
            "|             CA|                            2585721163|\n",
            "|             CO|                             223809690|\n",
            "|             CT|                             116578357|\n",
            "|             DC|                              69656470|\n",
            "+---------------+--------------------------------------+\n",
            "only showing top 20 rows\n",
            "\n"
          ],
          "name": "stdout"
        }
      ]
    },
    {
      "cell_type": "code",
      "metadata": {
        "id": "B4Z1eG2MkQsu",
        "colab_type": "code",
        "colab": {}
      },
      "source": [
        "# What type of payments are made?\n",
        "df.groupby('Nature_of_Payment_or_Transfer_of_Value').count().show()"
      ],
      "execution_count": 0,
      "outputs": []
    },
    {
      "cell_type": "code",
      "metadata": {
        "id": "rC-xEL4amHbl",
        "colab_type": "code",
        "colab": {}
      },
      "source": [
        "# What is the Physician Specialty?\n",
        "df.groupby('Physician_Primary_Type').count().show()"
      ],
      "execution_count": 0,
      "outputs": []
    },
    {
      "cell_type": "code",
      "metadata": {
        "id": "Dka_AGM-nEbT",
        "colab_type": "code",
        "outputId": "9d741a00-d7a0-450b-f77c-49cdcd9d5cda",
        "colab": {
          "base_uri": "https://localhost:8080/",
          "height": 35
        }
      },
      "source": [
        "# What is the Physician Specialty?\n",
        "df.groupby('Physician_Specialty').count().show()"
      ],
      "execution_count": 0,
      "outputs": [
        {
          "output_type": "execute_result",
          "data": {
            "text/plain": [
              "46167"
            ]
          },
          "metadata": {
            "tags": []
          },
          "execution_count": 50
        }
      ]
    },
    {
      "cell_type": "code",
      "metadata": {
        "id": "vZDCS0IrNNzc",
        "colab_type": "code",
        "colab": {}
      },
      "source": [
        "Physician_Primary_Type| Physician_Specialty"
      ],
      "execution_count": 0,
      "outputs": []
    },
    {
      "cell_type": "code",
      "metadata": {
        "id": "SXhc-SbqlbBk",
        "colab_type": "code",
        "colab": {}
      },
      "source": [
        ""
      ],
      "execution_count": 0,
      "outputs": []
    }
  ]
}