{
  "nbformat": 4,
  "nbformat_minor": 0,
  "metadata": {
    "colab": {
      "name": " SparK MLib - Credit Card Fraud Classification",
      "provenance": [],
      "collapsed_sections": []
    },
    "kernelspec": {
      "name": "python3",
      "display_name": "Python 3"
    }
  },
  "cells": [
    {
      "cell_type": "markdown",
      "metadata": {
        "id": "SAQyam-QFNoG"
      },
      "source": [
        "# SparK MLib - Credit Card Fraud Classification\n",
        "\n",
        "Data Source: Kaggle.com"
      ]
    },
    {
      "cell_type": "code",
      "metadata": {
        "id": "8tFRO-vxFUFR",
        "colab": {
          "base_uri": "https://localhost:8080/",
          "height": 125
        },
        "outputId": "8f53b607-d083-4794-9aba-e8971bba0f4a"
      },
      "source": [
        "#Let's mount Google Drive So We can Retrieve the Data\n",
        "from google.colab import drive\n",
        "drive.mount('/content/gdrive')"
      ],
      "execution_count": null,
      "outputs": [
        {
          "output_type": "stream",
          "text": [
            "Go to this URL in a browser: https://accounts.google.com/o/oauth2/auth?client_id=947318989803-6bn6qk8qdgf4n4g3pfee6491hc0brc4i.apps.googleusercontent.com&redirect_uri=urn%3Aietf%3Awg%3Aoauth%3A2.0%3Aoob&scope=email%20https%3A%2F%2Fwww.googleapis.com%2Fauth%2Fdocs.test%20https%3A%2F%2Fwww.googleapis.com%2Fauth%2Fdrive%20https%3A%2F%2Fwww.googleapis.com%2Fauth%2Fdrive.photos.readonly%20https%3A%2F%2Fwww.googleapis.com%2Fauth%2Fpeopleapi.readonly&response_type=code\n",
            "\n",
            "Enter your authorization code:\n",
            "··········\n",
            "Mounted at /content/gdrive\n"
          ],
          "name": "stdout"
        }
      ]
    },
    {
      "cell_type": "code",
      "metadata": {
        "id": "TwVoUT7hFa4v",
        "colab": {
          "base_uri": "https://localhost:8080/",
          "height": 35
        },
        "outputId": "dab77511-3729-4f51-e79b-f4df9ad1c3b7"
      },
      "source": [
        "#There is One File of Creit Card Data. Source  Kaggle.com\n",
        "!ls \"/content/gdrive/My Drive/CC Data/\""
      ],
      "execution_count": null,
      "outputs": [
        {
          "output_type": "stream",
          "text": [
            "creditcardfraud.zip\n"
          ],
          "name": "stdout"
        }
      ]
    },
    {
      "cell_type": "code",
      "metadata": {
        "id": "b1bhJ2SyFo1Z"
      },
      "source": [
        "#Unzip the files to reveal creditcard.csv\n",
        "#!rm -r *\n",
        "!unzip -qq \"/content/gdrive/My Drive/CC Data/creditcardfraud.zip\""
      ],
      "execution_count": null,
      "outputs": []
    },
    {
      "cell_type": "code",
      "metadata": {
        "id": "crNTe0bwFvQK",
        "colab": {
          "base_uri": "https://localhost:8080/",
          "height": 35
        },
        "outputId": "15e46832-88b5-4453-ab83-67da54de9d86"
      },
      "source": [
        "!ls"
      ],
      "execution_count": null,
      "outputs": [
        {
          "output_type": "stream",
          "text": [
            "creditcard.csv\tgdrive\tsample_data\n"
          ],
          "name": "stdout"
        }
      ]
    },
    {
      "cell_type": "markdown",
      "metadata": {
        "id": "hExXH9mpGV5h"
      },
      "source": [
        "# **Install and Load Up Spark**"
      ]
    },
    {
      "cell_type": "code",
      "metadata": {
        "id": "tj9qM0DMGWf-"
      },
      "source": [
        "#Install Latest Version of Spark As of Current Data. 2.4.3\n",
        "\n",
        "!apt-get install openjdk-8-jdk-headless -qq > /dev/null\n",
        "!wget -q http://www-eu.apache.org/dist/spark/spark-2.4.3/spark-2.4.3-bin-hadoop2.7.tgz\n",
        "!tar xf spark-2.4.3-bin-hadoop2.7.tgz\n",
        "!pip install -q findspark"
      ],
      "execution_count": null,
      "outputs": []
    },
    {
      "cell_type": "code",
      "metadata": {
        "id": "-jqUa9mNGa8d"
      },
      "source": [
        "import os\n",
        "os.environ[\"JAVA_HOME\"] = \"/usr/lib/jvm/java-8-openjdk-amd64\"\n",
        "os.environ[\"SPARK_HOME\"] = \"/content/spark-2.4.3-bin-hadoop2.7\""
      ],
      "execution_count": null,
      "outputs": []
    },
    {
      "cell_type": "code",
      "metadata": {
        "id": "e1l_L0E-GebH"
      },
      "source": [
        "import findspark\n",
        "findspark.init()\n",
        "from pyspark.sql import SparkSession\n",
        "\n",
        "spark = SparkSession.builder.master(\"local[*]\").getOrCreate()"
      ],
      "execution_count": null,
      "outputs": []
    },
    {
      "cell_type": "code",
      "metadata": {
        "id": "ImiT9SIOGhw1",
        "colab": {
          "base_uri": "https://localhost:8080/",
          "height": 158
        },
        "outputId": "cdad8b18-7af6-462f-9799-bf9389e9e855"
      },
      "source": [
        "df = spark.read.format(\"csv\").option(\"inferSchema\", True).option(\"header\", True).load('creditcard.csv').withColumnRenamed('Class', 'label')\n",
        "df.toPandas().head(5).style.hide_index()"
      ],
      "execution_count": null,
      "outputs": [
        {
          "output_type": "execute_result",
          "data": {
            "text/html": [
              "<style  type=\"text/css\" >\n",
              "</style><table id=\"T_273a8198_9149_11e9_a907_0242ac1c0002\" ><thead>    <tr>        <th class=\"col_heading level0 col0\" >Time</th>        <th class=\"col_heading level0 col1\" >V1</th>        <th class=\"col_heading level0 col2\" >V2</th>        <th class=\"col_heading level0 col3\" >V3</th>        <th class=\"col_heading level0 col4\" >V4</th>        <th class=\"col_heading level0 col5\" >V5</th>        <th class=\"col_heading level0 col6\" >V6</th>        <th class=\"col_heading level0 col7\" >V7</th>        <th class=\"col_heading level0 col8\" >V8</th>        <th class=\"col_heading level0 col9\" >V9</th>        <th class=\"col_heading level0 col10\" >V10</th>        <th class=\"col_heading level0 col11\" >V11</th>        <th class=\"col_heading level0 col12\" >V12</th>        <th class=\"col_heading level0 col13\" >V13</th>        <th class=\"col_heading level0 col14\" >V14</th>        <th class=\"col_heading level0 col15\" >V15</th>        <th class=\"col_heading level0 col16\" >V16</th>        <th class=\"col_heading level0 col17\" >V17</th>        <th class=\"col_heading level0 col18\" >V18</th>        <th class=\"col_heading level0 col19\" >V19</th>        <th class=\"col_heading level0 col20\" >V20</th>        <th class=\"col_heading level0 col21\" >V21</th>        <th class=\"col_heading level0 col22\" >V22</th>        <th class=\"col_heading level0 col23\" >V23</th>        <th class=\"col_heading level0 col24\" >V24</th>        <th class=\"col_heading level0 col25\" >V25</th>        <th class=\"col_heading level0 col26\" >V26</th>        <th class=\"col_heading level0 col27\" >V27</th>        <th class=\"col_heading level0 col28\" >V28</th>        <th class=\"col_heading level0 col29\" >Amount</th>        <th class=\"col_heading level0 col30\" >label</th>    </tr></thead><tbody>\n",
              "                <tr>\n",
              "                                <td id=\"T_273a8198_9149_11e9_a907_0242ac1c0002row0_col0\" class=\"data row0 col0\" >0</td>\n",
              "                        <td id=\"T_273a8198_9149_11e9_a907_0242ac1c0002row0_col1\" class=\"data row0 col1\" >-1.35981</td>\n",
              "                        <td id=\"T_273a8198_9149_11e9_a907_0242ac1c0002row0_col2\" class=\"data row0 col2\" >-0.0727812</td>\n",
              "                        <td id=\"T_273a8198_9149_11e9_a907_0242ac1c0002row0_col3\" class=\"data row0 col3\" >2.53635</td>\n",
              "                        <td id=\"T_273a8198_9149_11e9_a907_0242ac1c0002row0_col4\" class=\"data row0 col4\" >1.37816</td>\n",
              "                        <td id=\"T_273a8198_9149_11e9_a907_0242ac1c0002row0_col5\" class=\"data row0 col5\" >-0.338321</td>\n",
              "                        <td id=\"T_273a8198_9149_11e9_a907_0242ac1c0002row0_col6\" class=\"data row0 col6\" >0.462388</td>\n",
              "                        <td id=\"T_273a8198_9149_11e9_a907_0242ac1c0002row0_col7\" class=\"data row0 col7\" >0.239599</td>\n",
              "                        <td id=\"T_273a8198_9149_11e9_a907_0242ac1c0002row0_col8\" class=\"data row0 col8\" >0.0986979</td>\n",
              "                        <td id=\"T_273a8198_9149_11e9_a907_0242ac1c0002row0_col9\" class=\"data row0 col9\" >0.363787</td>\n",
              "                        <td id=\"T_273a8198_9149_11e9_a907_0242ac1c0002row0_col10\" class=\"data row0 col10\" >0.0907942</td>\n",
              "                        <td id=\"T_273a8198_9149_11e9_a907_0242ac1c0002row0_col11\" class=\"data row0 col11\" >-0.5516</td>\n",
              "                        <td id=\"T_273a8198_9149_11e9_a907_0242ac1c0002row0_col12\" class=\"data row0 col12\" >-0.617801</td>\n",
              "                        <td id=\"T_273a8198_9149_11e9_a907_0242ac1c0002row0_col13\" class=\"data row0 col13\" >-0.99139</td>\n",
              "                        <td id=\"T_273a8198_9149_11e9_a907_0242ac1c0002row0_col14\" class=\"data row0 col14\" >-0.311169</td>\n",
              "                        <td id=\"T_273a8198_9149_11e9_a907_0242ac1c0002row0_col15\" class=\"data row0 col15\" >1.46818</td>\n",
              "                        <td id=\"T_273a8198_9149_11e9_a907_0242ac1c0002row0_col16\" class=\"data row0 col16\" >-0.470401</td>\n",
              "                        <td id=\"T_273a8198_9149_11e9_a907_0242ac1c0002row0_col17\" class=\"data row0 col17\" >0.207971</td>\n",
              "                        <td id=\"T_273a8198_9149_11e9_a907_0242ac1c0002row0_col18\" class=\"data row0 col18\" >0.0257906</td>\n",
              "                        <td id=\"T_273a8198_9149_11e9_a907_0242ac1c0002row0_col19\" class=\"data row0 col19\" >0.403993</td>\n",
              "                        <td id=\"T_273a8198_9149_11e9_a907_0242ac1c0002row0_col20\" class=\"data row0 col20\" >0.251412</td>\n",
              "                        <td id=\"T_273a8198_9149_11e9_a907_0242ac1c0002row0_col21\" class=\"data row0 col21\" >-0.0183068</td>\n",
              "                        <td id=\"T_273a8198_9149_11e9_a907_0242ac1c0002row0_col22\" class=\"data row0 col22\" >0.277838</td>\n",
              "                        <td id=\"T_273a8198_9149_11e9_a907_0242ac1c0002row0_col23\" class=\"data row0 col23\" >-0.110474</td>\n",
              "                        <td id=\"T_273a8198_9149_11e9_a907_0242ac1c0002row0_col24\" class=\"data row0 col24\" >0.0669281</td>\n",
              "                        <td id=\"T_273a8198_9149_11e9_a907_0242ac1c0002row0_col25\" class=\"data row0 col25\" >0.128539</td>\n",
              "                        <td id=\"T_273a8198_9149_11e9_a907_0242ac1c0002row0_col26\" class=\"data row0 col26\" >-0.189115</td>\n",
              "                        <td id=\"T_273a8198_9149_11e9_a907_0242ac1c0002row0_col27\" class=\"data row0 col27\" >0.133558</td>\n",
              "                        <td id=\"T_273a8198_9149_11e9_a907_0242ac1c0002row0_col28\" class=\"data row0 col28\" >-0.0210531</td>\n",
              "                        <td id=\"T_273a8198_9149_11e9_a907_0242ac1c0002row0_col29\" class=\"data row0 col29\" >149.62</td>\n",
              "                        <td id=\"T_273a8198_9149_11e9_a907_0242ac1c0002row0_col30\" class=\"data row0 col30\" >0</td>\n",
              "            </tr>\n",
              "            <tr>\n",
              "                                <td id=\"T_273a8198_9149_11e9_a907_0242ac1c0002row1_col0\" class=\"data row1 col0\" >0</td>\n",
              "                        <td id=\"T_273a8198_9149_11e9_a907_0242ac1c0002row1_col1\" class=\"data row1 col1\" >1.19186</td>\n",
              "                        <td id=\"T_273a8198_9149_11e9_a907_0242ac1c0002row1_col2\" class=\"data row1 col2\" >0.266151</td>\n",
              "                        <td id=\"T_273a8198_9149_11e9_a907_0242ac1c0002row1_col3\" class=\"data row1 col3\" >0.16648</td>\n",
              "                        <td id=\"T_273a8198_9149_11e9_a907_0242ac1c0002row1_col4\" class=\"data row1 col4\" >0.448154</td>\n",
              "                        <td id=\"T_273a8198_9149_11e9_a907_0242ac1c0002row1_col5\" class=\"data row1 col5\" >0.0600176</td>\n",
              "                        <td id=\"T_273a8198_9149_11e9_a907_0242ac1c0002row1_col6\" class=\"data row1 col6\" >-0.0823608</td>\n",
              "                        <td id=\"T_273a8198_9149_11e9_a907_0242ac1c0002row1_col7\" class=\"data row1 col7\" >-0.078803</td>\n",
              "                        <td id=\"T_273a8198_9149_11e9_a907_0242ac1c0002row1_col8\" class=\"data row1 col8\" >0.0851017</td>\n",
              "                        <td id=\"T_273a8198_9149_11e9_a907_0242ac1c0002row1_col9\" class=\"data row1 col9\" >-0.255425</td>\n",
              "                        <td id=\"T_273a8198_9149_11e9_a907_0242ac1c0002row1_col10\" class=\"data row1 col10\" >-0.166974</td>\n",
              "                        <td id=\"T_273a8198_9149_11e9_a907_0242ac1c0002row1_col11\" class=\"data row1 col11\" >1.61273</td>\n",
              "                        <td id=\"T_273a8198_9149_11e9_a907_0242ac1c0002row1_col12\" class=\"data row1 col12\" >1.06524</td>\n",
              "                        <td id=\"T_273a8198_9149_11e9_a907_0242ac1c0002row1_col13\" class=\"data row1 col13\" >0.489095</td>\n",
              "                        <td id=\"T_273a8198_9149_11e9_a907_0242ac1c0002row1_col14\" class=\"data row1 col14\" >-0.143772</td>\n",
              "                        <td id=\"T_273a8198_9149_11e9_a907_0242ac1c0002row1_col15\" class=\"data row1 col15\" >0.635558</td>\n",
              "                        <td id=\"T_273a8198_9149_11e9_a907_0242ac1c0002row1_col16\" class=\"data row1 col16\" >0.463917</td>\n",
              "                        <td id=\"T_273a8198_9149_11e9_a907_0242ac1c0002row1_col17\" class=\"data row1 col17\" >-0.114805</td>\n",
              "                        <td id=\"T_273a8198_9149_11e9_a907_0242ac1c0002row1_col18\" class=\"data row1 col18\" >-0.183361</td>\n",
              "                        <td id=\"T_273a8198_9149_11e9_a907_0242ac1c0002row1_col19\" class=\"data row1 col19\" >-0.145783</td>\n",
              "                        <td id=\"T_273a8198_9149_11e9_a907_0242ac1c0002row1_col20\" class=\"data row1 col20\" >-0.0690831</td>\n",
              "                        <td id=\"T_273a8198_9149_11e9_a907_0242ac1c0002row1_col21\" class=\"data row1 col21\" >-0.225775</td>\n",
              "                        <td id=\"T_273a8198_9149_11e9_a907_0242ac1c0002row1_col22\" class=\"data row1 col22\" >-0.638672</td>\n",
              "                        <td id=\"T_273a8198_9149_11e9_a907_0242ac1c0002row1_col23\" class=\"data row1 col23\" >0.101288</td>\n",
              "                        <td id=\"T_273a8198_9149_11e9_a907_0242ac1c0002row1_col24\" class=\"data row1 col24\" >-0.339846</td>\n",
              "                        <td id=\"T_273a8198_9149_11e9_a907_0242ac1c0002row1_col25\" class=\"data row1 col25\" >0.16717</td>\n",
              "                        <td id=\"T_273a8198_9149_11e9_a907_0242ac1c0002row1_col26\" class=\"data row1 col26\" >0.125895</td>\n",
              "                        <td id=\"T_273a8198_9149_11e9_a907_0242ac1c0002row1_col27\" class=\"data row1 col27\" >-0.0089831</td>\n",
              "                        <td id=\"T_273a8198_9149_11e9_a907_0242ac1c0002row1_col28\" class=\"data row1 col28\" >0.0147242</td>\n",
              "                        <td id=\"T_273a8198_9149_11e9_a907_0242ac1c0002row1_col29\" class=\"data row1 col29\" >2.69</td>\n",
              "                        <td id=\"T_273a8198_9149_11e9_a907_0242ac1c0002row1_col30\" class=\"data row1 col30\" >0</td>\n",
              "            </tr>\n",
              "            <tr>\n",
              "                                <td id=\"T_273a8198_9149_11e9_a907_0242ac1c0002row2_col0\" class=\"data row2 col0\" >1</td>\n",
              "                        <td id=\"T_273a8198_9149_11e9_a907_0242ac1c0002row2_col1\" class=\"data row2 col1\" >-1.35835</td>\n",
              "                        <td id=\"T_273a8198_9149_11e9_a907_0242ac1c0002row2_col2\" class=\"data row2 col2\" >-1.34016</td>\n",
              "                        <td id=\"T_273a8198_9149_11e9_a907_0242ac1c0002row2_col3\" class=\"data row2 col3\" >1.77321</td>\n",
              "                        <td id=\"T_273a8198_9149_11e9_a907_0242ac1c0002row2_col4\" class=\"data row2 col4\" >0.37978</td>\n",
              "                        <td id=\"T_273a8198_9149_11e9_a907_0242ac1c0002row2_col5\" class=\"data row2 col5\" >-0.503198</td>\n",
              "                        <td id=\"T_273a8198_9149_11e9_a907_0242ac1c0002row2_col6\" class=\"data row2 col6\" >1.8005</td>\n",
              "                        <td id=\"T_273a8198_9149_11e9_a907_0242ac1c0002row2_col7\" class=\"data row2 col7\" >0.791461</td>\n",
              "                        <td id=\"T_273a8198_9149_11e9_a907_0242ac1c0002row2_col8\" class=\"data row2 col8\" >0.247676</td>\n",
              "                        <td id=\"T_273a8198_9149_11e9_a907_0242ac1c0002row2_col9\" class=\"data row2 col9\" >-1.51465</td>\n",
              "                        <td id=\"T_273a8198_9149_11e9_a907_0242ac1c0002row2_col10\" class=\"data row2 col10\" >0.207643</td>\n",
              "                        <td id=\"T_273a8198_9149_11e9_a907_0242ac1c0002row2_col11\" class=\"data row2 col11\" >0.624501</td>\n",
              "                        <td id=\"T_273a8198_9149_11e9_a907_0242ac1c0002row2_col12\" class=\"data row2 col12\" >0.0660837</td>\n",
              "                        <td id=\"T_273a8198_9149_11e9_a907_0242ac1c0002row2_col13\" class=\"data row2 col13\" >0.717293</td>\n",
              "                        <td id=\"T_273a8198_9149_11e9_a907_0242ac1c0002row2_col14\" class=\"data row2 col14\" >-0.165946</td>\n",
              "                        <td id=\"T_273a8198_9149_11e9_a907_0242ac1c0002row2_col15\" class=\"data row2 col15\" >2.34586</td>\n",
              "                        <td id=\"T_273a8198_9149_11e9_a907_0242ac1c0002row2_col16\" class=\"data row2 col16\" >-2.89008</td>\n",
              "                        <td id=\"T_273a8198_9149_11e9_a907_0242ac1c0002row2_col17\" class=\"data row2 col17\" >1.10997</td>\n",
              "                        <td id=\"T_273a8198_9149_11e9_a907_0242ac1c0002row2_col18\" class=\"data row2 col18\" >-0.121359</td>\n",
              "                        <td id=\"T_273a8198_9149_11e9_a907_0242ac1c0002row2_col19\" class=\"data row2 col19\" >-2.26186</td>\n",
              "                        <td id=\"T_273a8198_9149_11e9_a907_0242ac1c0002row2_col20\" class=\"data row2 col20\" >0.52498</td>\n",
              "                        <td id=\"T_273a8198_9149_11e9_a907_0242ac1c0002row2_col21\" class=\"data row2 col21\" >0.247998</td>\n",
              "                        <td id=\"T_273a8198_9149_11e9_a907_0242ac1c0002row2_col22\" class=\"data row2 col22\" >0.771679</td>\n",
              "                        <td id=\"T_273a8198_9149_11e9_a907_0242ac1c0002row2_col23\" class=\"data row2 col23\" >0.909412</td>\n",
              "                        <td id=\"T_273a8198_9149_11e9_a907_0242ac1c0002row2_col24\" class=\"data row2 col24\" >-0.689281</td>\n",
              "                        <td id=\"T_273a8198_9149_11e9_a907_0242ac1c0002row2_col25\" class=\"data row2 col25\" >-0.327642</td>\n",
              "                        <td id=\"T_273a8198_9149_11e9_a907_0242ac1c0002row2_col26\" class=\"data row2 col26\" >-0.139097</td>\n",
              "                        <td id=\"T_273a8198_9149_11e9_a907_0242ac1c0002row2_col27\" class=\"data row2 col27\" >-0.0553528</td>\n",
              "                        <td id=\"T_273a8198_9149_11e9_a907_0242ac1c0002row2_col28\" class=\"data row2 col28\" >-0.0597518</td>\n",
              "                        <td id=\"T_273a8198_9149_11e9_a907_0242ac1c0002row2_col29\" class=\"data row2 col29\" >378.66</td>\n",
              "                        <td id=\"T_273a8198_9149_11e9_a907_0242ac1c0002row2_col30\" class=\"data row2 col30\" >0</td>\n",
              "            </tr>\n",
              "            <tr>\n",
              "                                <td id=\"T_273a8198_9149_11e9_a907_0242ac1c0002row3_col0\" class=\"data row3 col0\" >1</td>\n",
              "                        <td id=\"T_273a8198_9149_11e9_a907_0242ac1c0002row3_col1\" class=\"data row3 col1\" >-0.966272</td>\n",
              "                        <td id=\"T_273a8198_9149_11e9_a907_0242ac1c0002row3_col2\" class=\"data row3 col2\" >-0.185226</td>\n",
              "                        <td id=\"T_273a8198_9149_11e9_a907_0242ac1c0002row3_col3\" class=\"data row3 col3\" >1.79299</td>\n",
              "                        <td id=\"T_273a8198_9149_11e9_a907_0242ac1c0002row3_col4\" class=\"data row3 col4\" >-0.863291</td>\n",
              "                        <td id=\"T_273a8198_9149_11e9_a907_0242ac1c0002row3_col5\" class=\"data row3 col5\" >-0.0103089</td>\n",
              "                        <td id=\"T_273a8198_9149_11e9_a907_0242ac1c0002row3_col6\" class=\"data row3 col6\" >1.2472</td>\n",
              "                        <td id=\"T_273a8198_9149_11e9_a907_0242ac1c0002row3_col7\" class=\"data row3 col7\" >0.237609</td>\n",
              "                        <td id=\"T_273a8198_9149_11e9_a907_0242ac1c0002row3_col8\" class=\"data row3 col8\" >0.377436</td>\n",
              "                        <td id=\"T_273a8198_9149_11e9_a907_0242ac1c0002row3_col9\" class=\"data row3 col9\" >-1.38702</td>\n",
              "                        <td id=\"T_273a8198_9149_11e9_a907_0242ac1c0002row3_col10\" class=\"data row3 col10\" >-0.0549519</td>\n",
              "                        <td id=\"T_273a8198_9149_11e9_a907_0242ac1c0002row3_col11\" class=\"data row3 col11\" >-0.226487</td>\n",
              "                        <td id=\"T_273a8198_9149_11e9_a907_0242ac1c0002row3_col12\" class=\"data row3 col12\" >0.178228</td>\n",
              "                        <td id=\"T_273a8198_9149_11e9_a907_0242ac1c0002row3_col13\" class=\"data row3 col13\" >0.507757</td>\n",
              "                        <td id=\"T_273a8198_9149_11e9_a907_0242ac1c0002row3_col14\" class=\"data row3 col14\" >-0.287924</td>\n",
              "                        <td id=\"T_273a8198_9149_11e9_a907_0242ac1c0002row3_col15\" class=\"data row3 col15\" >-0.631418</td>\n",
              "                        <td id=\"T_273a8198_9149_11e9_a907_0242ac1c0002row3_col16\" class=\"data row3 col16\" >-1.05965</td>\n",
              "                        <td id=\"T_273a8198_9149_11e9_a907_0242ac1c0002row3_col17\" class=\"data row3 col17\" >-0.684093</td>\n",
              "                        <td id=\"T_273a8198_9149_11e9_a907_0242ac1c0002row3_col18\" class=\"data row3 col18\" >1.96578</td>\n",
              "                        <td id=\"T_273a8198_9149_11e9_a907_0242ac1c0002row3_col19\" class=\"data row3 col19\" >-1.23262</td>\n",
              "                        <td id=\"T_273a8198_9149_11e9_a907_0242ac1c0002row3_col20\" class=\"data row3 col20\" >-0.208038</td>\n",
              "                        <td id=\"T_273a8198_9149_11e9_a907_0242ac1c0002row3_col21\" class=\"data row3 col21\" >-0.1083</td>\n",
              "                        <td id=\"T_273a8198_9149_11e9_a907_0242ac1c0002row3_col22\" class=\"data row3 col22\" >0.0052736</td>\n",
              "                        <td id=\"T_273a8198_9149_11e9_a907_0242ac1c0002row3_col23\" class=\"data row3 col23\" >-0.190321</td>\n",
              "                        <td id=\"T_273a8198_9149_11e9_a907_0242ac1c0002row3_col24\" class=\"data row3 col24\" >-1.17558</td>\n",
              "                        <td id=\"T_273a8198_9149_11e9_a907_0242ac1c0002row3_col25\" class=\"data row3 col25\" >0.647376</td>\n",
              "                        <td id=\"T_273a8198_9149_11e9_a907_0242ac1c0002row3_col26\" class=\"data row3 col26\" >-0.221929</td>\n",
              "                        <td id=\"T_273a8198_9149_11e9_a907_0242ac1c0002row3_col27\" class=\"data row3 col27\" >0.0627228</td>\n",
              "                        <td id=\"T_273a8198_9149_11e9_a907_0242ac1c0002row3_col28\" class=\"data row3 col28\" >0.0614576</td>\n",
              "                        <td id=\"T_273a8198_9149_11e9_a907_0242ac1c0002row3_col29\" class=\"data row3 col29\" >123.5</td>\n",
              "                        <td id=\"T_273a8198_9149_11e9_a907_0242ac1c0002row3_col30\" class=\"data row3 col30\" >0</td>\n",
              "            </tr>\n",
              "            <tr>\n",
              "                                <td id=\"T_273a8198_9149_11e9_a907_0242ac1c0002row4_col0\" class=\"data row4 col0\" >2</td>\n",
              "                        <td id=\"T_273a8198_9149_11e9_a907_0242ac1c0002row4_col1\" class=\"data row4 col1\" >-1.15823</td>\n",
              "                        <td id=\"T_273a8198_9149_11e9_a907_0242ac1c0002row4_col2\" class=\"data row4 col2\" >0.877737</td>\n",
              "                        <td id=\"T_273a8198_9149_11e9_a907_0242ac1c0002row4_col3\" class=\"data row4 col3\" >1.54872</td>\n",
              "                        <td id=\"T_273a8198_9149_11e9_a907_0242ac1c0002row4_col4\" class=\"data row4 col4\" >0.403034</td>\n",
              "                        <td id=\"T_273a8198_9149_11e9_a907_0242ac1c0002row4_col5\" class=\"data row4 col5\" >-0.407193</td>\n",
              "                        <td id=\"T_273a8198_9149_11e9_a907_0242ac1c0002row4_col6\" class=\"data row4 col6\" >0.0959215</td>\n",
              "                        <td id=\"T_273a8198_9149_11e9_a907_0242ac1c0002row4_col7\" class=\"data row4 col7\" >0.592941</td>\n",
              "                        <td id=\"T_273a8198_9149_11e9_a907_0242ac1c0002row4_col8\" class=\"data row4 col8\" >-0.270533</td>\n",
              "                        <td id=\"T_273a8198_9149_11e9_a907_0242ac1c0002row4_col9\" class=\"data row4 col9\" >0.817739</td>\n",
              "                        <td id=\"T_273a8198_9149_11e9_a907_0242ac1c0002row4_col10\" class=\"data row4 col10\" >0.753074</td>\n",
              "                        <td id=\"T_273a8198_9149_11e9_a907_0242ac1c0002row4_col11\" class=\"data row4 col11\" >-0.822843</td>\n",
              "                        <td id=\"T_273a8198_9149_11e9_a907_0242ac1c0002row4_col12\" class=\"data row4 col12\" >0.538196</td>\n",
              "                        <td id=\"T_273a8198_9149_11e9_a907_0242ac1c0002row4_col13\" class=\"data row4 col13\" >1.34585</td>\n",
              "                        <td id=\"T_273a8198_9149_11e9_a907_0242ac1c0002row4_col14\" class=\"data row4 col14\" >-1.11967</td>\n",
              "                        <td id=\"T_273a8198_9149_11e9_a907_0242ac1c0002row4_col15\" class=\"data row4 col15\" >0.175121</td>\n",
              "                        <td id=\"T_273a8198_9149_11e9_a907_0242ac1c0002row4_col16\" class=\"data row4 col16\" >-0.451449</td>\n",
              "                        <td id=\"T_273a8198_9149_11e9_a907_0242ac1c0002row4_col17\" class=\"data row4 col17\" >-0.237033</td>\n",
              "                        <td id=\"T_273a8198_9149_11e9_a907_0242ac1c0002row4_col18\" class=\"data row4 col18\" >-0.0381948</td>\n",
              "                        <td id=\"T_273a8198_9149_11e9_a907_0242ac1c0002row4_col19\" class=\"data row4 col19\" >0.803487</td>\n",
              "                        <td id=\"T_273a8198_9149_11e9_a907_0242ac1c0002row4_col20\" class=\"data row4 col20\" >0.408542</td>\n",
              "                        <td id=\"T_273a8198_9149_11e9_a907_0242ac1c0002row4_col21\" class=\"data row4 col21\" >-0.0094307</td>\n",
              "                        <td id=\"T_273a8198_9149_11e9_a907_0242ac1c0002row4_col22\" class=\"data row4 col22\" >0.798278</td>\n",
              "                        <td id=\"T_273a8198_9149_11e9_a907_0242ac1c0002row4_col23\" class=\"data row4 col23\" >-0.137458</td>\n",
              "                        <td id=\"T_273a8198_9149_11e9_a907_0242ac1c0002row4_col24\" class=\"data row4 col24\" >0.141267</td>\n",
              "                        <td id=\"T_273a8198_9149_11e9_a907_0242ac1c0002row4_col25\" class=\"data row4 col25\" >-0.20601</td>\n",
              "                        <td id=\"T_273a8198_9149_11e9_a907_0242ac1c0002row4_col26\" class=\"data row4 col26\" >0.502292</td>\n",
              "                        <td id=\"T_273a8198_9149_11e9_a907_0242ac1c0002row4_col27\" class=\"data row4 col27\" >0.219422</td>\n",
              "                        <td id=\"T_273a8198_9149_11e9_a907_0242ac1c0002row4_col28\" class=\"data row4 col28\" >0.215153</td>\n",
              "                        <td id=\"T_273a8198_9149_11e9_a907_0242ac1c0002row4_col29\" class=\"data row4 col29\" >69.99</td>\n",
              "                        <td id=\"T_273a8198_9149_11e9_a907_0242ac1c0002row4_col30\" class=\"data row4 col30\" >0</td>\n",
              "            </tr>\n",
              "    </tbody></table>"
            ],
            "text/plain": [
              "<pandas.io.formats.style.Styler at 0x7fea32adb748>"
            ]
          },
          "metadata": {
            "tags": []
          },
          "execution_count": 8
        }
      ]
    },
    {
      "cell_type": "code",
      "metadata": {
        "id": "VTRtd5LlGq4o",
        "colab": {
          "base_uri": "https://localhost:8080/",
          "height": 602
        },
        "outputId": "5d88e233-1371-4e16-b562-3d60c5220562"
      },
      "source": [
        "df.printSchema()"
      ],
      "execution_count": null,
      "outputs": [
        {
          "output_type": "stream",
          "text": [
            "root\n",
            " |-- Time: decimal(10,0) (nullable = true)\n",
            " |-- V1: double (nullable = true)\n",
            " |-- V2: double (nullable = true)\n",
            " |-- V3: double (nullable = true)\n",
            " |-- V4: double (nullable = true)\n",
            " |-- V5: double (nullable = true)\n",
            " |-- V6: double (nullable = true)\n",
            " |-- V7: double (nullable = true)\n",
            " |-- V8: double (nullable = true)\n",
            " |-- V9: double (nullable = true)\n",
            " |-- V10: double (nullable = true)\n",
            " |-- V11: double (nullable = true)\n",
            " |-- V12: double (nullable = true)\n",
            " |-- V13: double (nullable = true)\n",
            " |-- V14: double (nullable = true)\n",
            " |-- V15: double (nullable = true)\n",
            " |-- V16: double (nullable = true)\n",
            " |-- V17: double (nullable = true)\n",
            " |-- V18: double (nullable = true)\n",
            " |-- V19: double (nullable = true)\n",
            " |-- V20: double (nullable = true)\n",
            " |-- V21: double (nullable = true)\n",
            " |-- V22: double (nullable = true)\n",
            " |-- V23: double (nullable = true)\n",
            " |-- V24: double (nullable = true)\n",
            " |-- V25: double (nullable = true)\n",
            " |-- V26: double (nullable = true)\n",
            " |-- V27: double (nullable = true)\n",
            " |-- V28: double (nullable = true)\n",
            " |-- Amount: double (nullable = true)\n",
            " |-- label: integer (nullable = true)\n",
            "\n"
          ],
          "name": "stdout"
        }
      ]
    },
    {
      "cell_type": "markdown",
      "metadata": {
        "id": "R06aoAICG5NN"
      },
      "source": [
        "####ANALYSIS\n",
        "\n",
        "Examining the table above. This data is a collection of PCA features (to protect privacy) along with an amount total and a class total."
      ]
    },
    {
      "cell_type": "code",
      "metadata": {
        "id": "RQvSkqCAG528",
        "colab": {
          "base_uri": "https://localhost:8080/",
          "height": 35
        },
        "outputId": "fcdb45b6-887f-441c-ee6b-4587aefd9f70"
      },
      "source": [
        "# total amount of records is 284807\n",
        "print('Total amount of records is', df.count())"
      ],
      "execution_count": null,
      "outputs": [
        {
          "output_type": "stream",
          "text": [
            "Total amount of records is 284807\n"
          ],
          "name": "stdout"
        }
      ]
    },
    {
      "cell_type": "code",
      "metadata": {
        "id": "cA1ejvnvHC5t",
        "colab": {
          "base_uri": "https://localhost:8080/",
          "height": 175
        },
        "outputId": "1371c299-516a-417c-f0b5-7be2254e68d4"
      },
      "source": [
        "df.describe().toPandas().style.hide_index().set_properties(**{'background-color': 'lightgrey', 'color': 'Black','border-color': 'white', \"text-align\" : \"right\"})"
      ],
      "execution_count": null,
      "outputs": [
        {
          "output_type": "execute_result",
          "data": {
            "text/html": [
              "<style  type=\"text/css\" >\n",
              "    #T_319f1554_9149_11e9_a907_0242ac1c0002row0_col0 {\n",
              "            background-color:  lightgrey;\n",
              "            color:  Black;\n",
              "            border-color:  white;\n",
              "            text-align:  right;\n",
              "        }    #T_319f1554_9149_11e9_a907_0242ac1c0002row0_col1 {\n",
              "            background-color:  lightgrey;\n",
              "            color:  Black;\n",
              "            border-color:  white;\n",
              "            text-align:  right;\n",
              "        }    #T_319f1554_9149_11e9_a907_0242ac1c0002row0_col2 {\n",
              "            background-color:  lightgrey;\n",
              "            color:  Black;\n",
              "            border-color:  white;\n",
              "            text-align:  right;\n",
              "        }    #T_319f1554_9149_11e9_a907_0242ac1c0002row0_col3 {\n",
              "            background-color:  lightgrey;\n",
              "            color:  Black;\n",
              "            border-color:  white;\n",
              "            text-align:  right;\n",
              "        }    #T_319f1554_9149_11e9_a907_0242ac1c0002row0_col4 {\n",
              "            background-color:  lightgrey;\n",
              "            color:  Black;\n",
              "            border-color:  white;\n",
              "            text-align:  right;\n",
              "        }    #T_319f1554_9149_11e9_a907_0242ac1c0002row0_col5 {\n",
              "            background-color:  lightgrey;\n",
              "            color:  Black;\n",
              "            border-color:  white;\n",
              "            text-align:  right;\n",
              "        }    #T_319f1554_9149_11e9_a907_0242ac1c0002row0_col6 {\n",
              "            background-color:  lightgrey;\n",
              "            color:  Black;\n",
              "            border-color:  white;\n",
              "            text-align:  right;\n",
              "        }    #T_319f1554_9149_11e9_a907_0242ac1c0002row0_col7 {\n",
              "            background-color:  lightgrey;\n",
              "            color:  Black;\n",
              "            border-color:  white;\n",
              "            text-align:  right;\n",
              "        }    #T_319f1554_9149_11e9_a907_0242ac1c0002row0_col8 {\n",
              "            background-color:  lightgrey;\n",
              "            color:  Black;\n",
              "            border-color:  white;\n",
              "            text-align:  right;\n",
              "        }    #T_319f1554_9149_11e9_a907_0242ac1c0002row0_col9 {\n",
              "            background-color:  lightgrey;\n",
              "            color:  Black;\n",
              "            border-color:  white;\n",
              "            text-align:  right;\n",
              "        }    #T_319f1554_9149_11e9_a907_0242ac1c0002row0_col10 {\n",
              "            background-color:  lightgrey;\n",
              "            color:  Black;\n",
              "            border-color:  white;\n",
              "            text-align:  right;\n",
              "        }    #T_319f1554_9149_11e9_a907_0242ac1c0002row0_col11 {\n",
              "            background-color:  lightgrey;\n",
              "            color:  Black;\n",
              "            border-color:  white;\n",
              "            text-align:  right;\n",
              "        }    #T_319f1554_9149_11e9_a907_0242ac1c0002row0_col12 {\n",
              "            background-color:  lightgrey;\n",
              "            color:  Black;\n",
              "            border-color:  white;\n",
              "            text-align:  right;\n",
              "        }    #T_319f1554_9149_11e9_a907_0242ac1c0002row0_col13 {\n",
              "            background-color:  lightgrey;\n",
              "            color:  Black;\n",
              "            border-color:  white;\n",
              "            text-align:  right;\n",
              "        }    #T_319f1554_9149_11e9_a907_0242ac1c0002row0_col14 {\n",
              "            background-color:  lightgrey;\n",
              "            color:  Black;\n",
              "            border-color:  white;\n",
              "            text-align:  right;\n",
              "        }    #T_319f1554_9149_11e9_a907_0242ac1c0002row0_col15 {\n",
              "            background-color:  lightgrey;\n",
              "            color:  Black;\n",
              "            border-color:  white;\n",
              "            text-align:  right;\n",
              "        }    #T_319f1554_9149_11e9_a907_0242ac1c0002row0_col16 {\n",
              "            background-color:  lightgrey;\n",
              "            color:  Black;\n",
              "            border-color:  white;\n",
              "            text-align:  right;\n",
              "        }    #T_319f1554_9149_11e9_a907_0242ac1c0002row0_col17 {\n",
              "            background-color:  lightgrey;\n",
              "            color:  Black;\n",
              "            border-color:  white;\n",
              "            text-align:  right;\n",
              "        }    #T_319f1554_9149_11e9_a907_0242ac1c0002row0_col18 {\n",
              "            background-color:  lightgrey;\n",
              "            color:  Black;\n",
              "            border-color:  white;\n",
              "            text-align:  right;\n",
              "        }    #T_319f1554_9149_11e9_a907_0242ac1c0002row0_col19 {\n",
              "            background-color:  lightgrey;\n",
              "            color:  Black;\n",
              "            border-color:  white;\n",
              "            text-align:  right;\n",
              "        }    #T_319f1554_9149_11e9_a907_0242ac1c0002row0_col20 {\n",
              "            background-color:  lightgrey;\n",
              "            color:  Black;\n",
              "            border-color:  white;\n",
              "            text-align:  right;\n",
              "        }    #T_319f1554_9149_11e9_a907_0242ac1c0002row0_col21 {\n",
              "            background-color:  lightgrey;\n",
              "            color:  Black;\n",
              "            border-color:  white;\n",
              "            text-align:  right;\n",
              "        }    #T_319f1554_9149_11e9_a907_0242ac1c0002row0_col22 {\n",
              "            background-color:  lightgrey;\n",
              "            color:  Black;\n",
              "            border-color:  white;\n",
              "            text-align:  right;\n",
              "        }    #T_319f1554_9149_11e9_a907_0242ac1c0002row0_col23 {\n",
              "            background-color:  lightgrey;\n",
              "            color:  Black;\n",
              "            border-color:  white;\n",
              "            text-align:  right;\n",
              "        }    #T_319f1554_9149_11e9_a907_0242ac1c0002row0_col24 {\n",
              "            background-color:  lightgrey;\n",
              "            color:  Black;\n",
              "            border-color:  white;\n",
              "            text-align:  right;\n",
              "        }    #T_319f1554_9149_11e9_a907_0242ac1c0002row0_col25 {\n",
              "            background-color:  lightgrey;\n",
              "            color:  Black;\n",
              "            border-color:  white;\n",
              "            text-align:  right;\n",
              "        }    #T_319f1554_9149_11e9_a907_0242ac1c0002row0_col26 {\n",
              "            background-color:  lightgrey;\n",
              "            color:  Black;\n",
              "            border-color:  white;\n",
              "            text-align:  right;\n",
              "        }    #T_319f1554_9149_11e9_a907_0242ac1c0002row0_col27 {\n",
              "            background-color:  lightgrey;\n",
              "            color:  Black;\n",
              "            border-color:  white;\n",
              "            text-align:  right;\n",
              "        }    #T_319f1554_9149_11e9_a907_0242ac1c0002row0_col28 {\n",
              "            background-color:  lightgrey;\n",
              "            color:  Black;\n",
              "            border-color:  white;\n",
              "            text-align:  right;\n",
              "        }    #T_319f1554_9149_11e9_a907_0242ac1c0002row0_col29 {\n",
              "            background-color:  lightgrey;\n",
              "            color:  Black;\n",
              "            border-color:  white;\n",
              "            text-align:  right;\n",
              "        }    #T_319f1554_9149_11e9_a907_0242ac1c0002row0_col30 {\n",
              "            background-color:  lightgrey;\n",
              "            color:  Black;\n",
              "            border-color:  white;\n",
              "            text-align:  right;\n",
              "        }    #T_319f1554_9149_11e9_a907_0242ac1c0002row0_col31 {\n",
              "            background-color:  lightgrey;\n",
              "            color:  Black;\n",
              "            border-color:  white;\n",
              "            text-align:  right;\n",
              "        }    #T_319f1554_9149_11e9_a907_0242ac1c0002row1_col0 {\n",
              "            background-color:  lightgrey;\n",
              "            color:  Black;\n",
              "            border-color:  white;\n",
              "            text-align:  right;\n",
              "        }    #T_319f1554_9149_11e9_a907_0242ac1c0002row1_col1 {\n",
              "            background-color:  lightgrey;\n",
              "            color:  Black;\n",
              "            border-color:  white;\n",
              "            text-align:  right;\n",
              "        }    #T_319f1554_9149_11e9_a907_0242ac1c0002row1_col2 {\n",
              "            background-color:  lightgrey;\n",
              "            color:  Black;\n",
              "            border-color:  white;\n",
              "            text-align:  right;\n",
              "        }    #T_319f1554_9149_11e9_a907_0242ac1c0002row1_col3 {\n",
              "            background-color:  lightgrey;\n",
              "            color:  Black;\n",
              "            border-color:  white;\n",
              "            text-align:  right;\n",
              "        }    #T_319f1554_9149_11e9_a907_0242ac1c0002row1_col4 {\n",
              "            background-color:  lightgrey;\n",
              "            color:  Black;\n",
              "            border-color:  white;\n",
              "            text-align:  right;\n",
              "        }    #T_319f1554_9149_11e9_a907_0242ac1c0002row1_col5 {\n",
              "            background-color:  lightgrey;\n",
              "            color:  Black;\n",
              "            border-color:  white;\n",
              "            text-align:  right;\n",
              "        }    #T_319f1554_9149_11e9_a907_0242ac1c0002row1_col6 {\n",
              "            background-color:  lightgrey;\n",
              "            color:  Black;\n",
              "            border-color:  white;\n",
              "            text-align:  right;\n",
              "        }    #T_319f1554_9149_11e9_a907_0242ac1c0002row1_col7 {\n",
              "            background-color:  lightgrey;\n",
              "            color:  Black;\n",
              "            border-color:  white;\n",
              "            text-align:  right;\n",
              "        }    #T_319f1554_9149_11e9_a907_0242ac1c0002row1_col8 {\n",
              "            background-color:  lightgrey;\n",
              "            color:  Black;\n",
              "            border-color:  white;\n",
              "            text-align:  right;\n",
              "        }    #T_319f1554_9149_11e9_a907_0242ac1c0002row1_col9 {\n",
              "            background-color:  lightgrey;\n",
              "            color:  Black;\n",
              "            border-color:  white;\n",
              "            text-align:  right;\n",
              "        }    #T_319f1554_9149_11e9_a907_0242ac1c0002row1_col10 {\n",
              "            background-color:  lightgrey;\n",
              "            color:  Black;\n",
              "            border-color:  white;\n",
              "            text-align:  right;\n",
              "        }    #T_319f1554_9149_11e9_a907_0242ac1c0002row1_col11 {\n",
              "            background-color:  lightgrey;\n",
              "            color:  Black;\n",
              "            border-color:  white;\n",
              "            text-align:  right;\n",
              "        }    #T_319f1554_9149_11e9_a907_0242ac1c0002row1_col12 {\n",
              "            background-color:  lightgrey;\n",
              "            color:  Black;\n",
              "            border-color:  white;\n",
              "            text-align:  right;\n",
              "        }    #T_319f1554_9149_11e9_a907_0242ac1c0002row1_col13 {\n",
              "            background-color:  lightgrey;\n",
              "            color:  Black;\n",
              "            border-color:  white;\n",
              "            text-align:  right;\n",
              "        }    #T_319f1554_9149_11e9_a907_0242ac1c0002row1_col14 {\n",
              "            background-color:  lightgrey;\n",
              "            color:  Black;\n",
              "            border-color:  white;\n",
              "            text-align:  right;\n",
              "        }    #T_319f1554_9149_11e9_a907_0242ac1c0002row1_col15 {\n",
              "            background-color:  lightgrey;\n",
              "            color:  Black;\n",
              "            border-color:  white;\n",
              "            text-align:  right;\n",
              "        }    #T_319f1554_9149_11e9_a907_0242ac1c0002row1_col16 {\n",
              "            background-color:  lightgrey;\n",
              "            color:  Black;\n",
              "            border-color:  white;\n",
              "            text-align:  right;\n",
              "        }    #T_319f1554_9149_11e9_a907_0242ac1c0002row1_col17 {\n",
              "            background-color:  lightgrey;\n",
              "            color:  Black;\n",
              "            border-color:  white;\n",
              "            text-align:  right;\n",
              "        }    #T_319f1554_9149_11e9_a907_0242ac1c0002row1_col18 {\n",
              "            background-color:  lightgrey;\n",
              "            color:  Black;\n",
              "            border-color:  white;\n",
              "            text-align:  right;\n",
              "        }    #T_319f1554_9149_11e9_a907_0242ac1c0002row1_col19 {\n",
              "            background-color:  lightgrey;\n",
              "            color:  Black;\n",
              "            border-color:  white;\n",
              "            text-align:  right;\n",
              "        }    #T_319f1554_9149_11e9_a907_0242ac1c0002row1_col20 {\n",
              "            background-color:  lightgrey;\n",
              "            color:  Black;\n",
              "            border-color:  white;\n",
              "            text-align:  right;\n",
              "        }    #T_319f1554_9149_11e9_a907_0242ac1c0002row1_col21 {\n",
              "            background-color:  lightgrey;\n",
              "            color:  Black;\n",
              "            border-color:  white;\n",
              "            text-align:  right;\n",
              "        }    #T_319f1554_9149_11e9_a907_0242ac1c0002row1_col22 {\n",
              "            background-color:  lightgrey;\n",
              "            color:  Black;\n",
              "            border-color:  white;\n",
              "            text-align:  right;\n",
              "        }    #T_319f1554_9149_11e9_a907_0242ac1c0002row1_col23 {\n",
              "            background-color:  lightgrey;\n",
              "            color:  Black;\n",
              "            border-color:  white;\n",
              "            text-align:  right;\n",
              "        }    #T_319f1554_9149_11e9_a907_0242ac1c0002row1_col24 {\n",
              "            background-color:  lightgrey;\n",
              "            color:  Black;\n",
              "            border-color:  white;\n",
              "            text-align:  right;\n",
              "        }    #T_319f1554_9149_11e9_a907_0242ac1c0002row1_col25 {\n",
              "            background-color:  lightgrey;\n",
              "            color:  Black;\n",
              "            border-color:  white;\n",
              "            text-align:  right;\n",
              "        }    #T_319f1554_9149_11e9_a907_0242ac1c0002row1_col26 {\n",
              "            background-color:  lightgrey;\n",
              "            color:  Black;\n",
              "            border-color:  white;\n",
              "            text-align:  right;\n",
              "        }    #T_319f1554_9149_11e9_a907_0242ac1c0002row1_col27 {\n",
              "            background-color:  lightgrey;\n",
              "            color:  Black;\n",
              "            border-color:  white;\n",
              "            text-align:  right;\n",
              "        }    #T_319f1554_9149_11e9_a907_0242ac1c0002row1_col28 {\n",
              "            background-color:  lightgrey;\n",
              "            color:  Black;\n",
              "            border-color:  white;\n",
              "            text-align:  right;\n",
              "        }    #T_319f1554_9149_11e9_a907_0242ac1c0002row1_col29 {\n",
              "            background-color:  lightgrey;\n",
              "            color:  Black;\n",
              "            border-color:  white;\n",
              "            text-align:  right;\n",
              "        }    #T_319f1554_9149_11e9_a907_0242ac1c0002row1_col30 {\n",
              "            background-color:  lightgrey;\n",
              "            color:  Black;\n",
              "            border-color:  white;\n",
              "            text-align:  right;\n",
              "        }    #T_319f1554_9149_11e9_a907_0242ac1c0002row1_col31 {\n",
              "            background-color:  lightgrey;\n",
              "            color:  Black;\n",
              "            border-color:  white;\n",
              "            text-align:  right;\n",
              "        }    #T_319f1554_9149_11e9_a907_0242ac1c0002row2_col0 {\n",
              "            background-color:  lightgrey;\n",
              "            color:  Black;\n",
              "            border-color:  white;\n",
              "            text-align:  right;\n",
              "        }    #T_319f1554_9149_11e9_a907_0242ac1c0002row2_col1 {\n",
              "            background-color:  lightgrey;\n",
              "            color:  Black;\n",
              "            border-color:  white;\n",
              "            text-align:  right;\n",
              "        }    #T_319f1554_9149_11e9_a907_0242ac1c0002row2_col2 {\n",
              "            background-color:  lightgrey;\n",
              "            color:  Black;\n",
              "            border-color:  white;\n",
              "            text-align:  right;\n",
              "        }    #T_319f1554_9149_11e9_a907_0242ac1c0002row2_col3 {\n",
              "            background-color:  lightgrey;\n",
              "            color:  Black;\n",
              "            border-color:  white;\n",
              "            text-align:  right;\n",
              "        }    #T_319f1554_9149_11e9_a907_0242ac1c0002row2_col4 {\n",
              "            background-color:  lightgrey;\n",
              "            color:  Black;\n",
              "            border-color:  white;\n",
              "            text-align:  right;\n",
              "        }    #T_319f1554_9149_11e9_a907_0242ac1c0002row2_col5 {\n",
              "            background-color:  lightgrey;\n",
              "            color:  Black;\n",
              "            border-color:  white;\n",
              "            text-align:  right;\n",
              "        }    #T_319f1554_9149_11e9_a907_0242ac1c0002row2_col6 {\n",
              "            background-color:  lightgrey;\n",
              "            color:  Black;\n",
              "            border-color:  white;\n",
              "            text-align:  right;\n",
              "        }    #T_319f1554_9149_11e9_a907_0242ac1c0002row2_col7 {\n",
              "            background-color:  lightgrey;\n",
              "            color:  Black;\n",
              "            border-color:  white;\n",
              "            text-align:  right;\n",
              "        }    #T_319f1554_9149_11e9_a907_0242ac1c0002row2_col8 {\n",
              "            background-color:  lightgrey;\n",
              "            color:  Black;\n",
              "            border-color:  white;\n",
              "            text-align:  right;\n",
              "        }    #T_319f1554_9149_11e9_a907_0242ac1c0002row2_col9 {\n",
              "            background-color:  lightgrey;\n",
              "            color:  Black;\n",
              "            border-color:  white;\n",
              "            text-align:  right;\n",
              "        }    #T_319f1554_9149_11e9_a907_0242ac1c0002row2_col10 {\n",
              "            background-color:  lightgrey;\n",
              "            color:  Black;\n",
              "            border-color:  white;\n",
              "            text-align:  right;\n",
              "        }    #T_319f1554_9149_11e9_a907_0242ac1c0002row2_col11 {\n",
              "            background-color:  lightgrey;\n",
              "            color:  Black;\n",
              "            border-color:  white;\n",
              "            text-align:  right;\n",
              "        }    #T_319f1554_9149_11e9_a907_0242ac1c0002row2_col12 {\n",
              "            background-color:  lightgrey;\n",
              "            color:  Black;\n",
              "            border-color:  white;\n",
              "            text-align:  right;\n",
              "        }    #T_319f1554_9149_11e9_a907_0242ac1c0002row2_col13 {\n",
              "            background-color:  lightgrey;\n",
              "            color:  Black;\n",
              "            border-color:  white;\n",
              "            text-align:  right;\n",
              "        }    #T_319f1554_9149_11e9_a907_0242ac1c0002row2_col14 {\n",
              "            background-color:  lightgrey;\n",
              "            color:  Black;\n",
              "            border-color:  white;\n",
              "            text-align:  right;\n",
              "        }    #T_319f1554_9149_11e9_a907_0242ac1c0002row2_col15 {\n",
              "            background-color:  lightgrey;\n",
              "            color:  Black;\n",
              "            border-color:  white;\n",
              "            text-align:  right;\n",
              "        }    #T_319f1554_9149_11e9_a907_0242ac1c0002row2_col16 {\n",
              "            background-color:  lightgrey;\n",
              "            color:  Black;\n",
              "            border-color:  white;\n",
              "            text-align:  right;\n",
              "        }    #T_319f1554_9149_11e9_a907_0242ac1c0002row2_col17 {\n",
              "            background-color:  lightgrey;\n",
              "            color:  Black;\n",
              "            border-color:  white;\n",
              "            text-align:  right;\n",
              "        }    #T_319f1554_9149_11e9_a907_0242ac1c0002row2_col18 {\n",
              "            background-color:  lightgrey;\n",
              "            color:  Black;\n",
              "            border-color:  white;\n",
              "            text-align:  right;\n",
              "        }    #T_319f1554_9149_11e9_a907_0242ac1c0002row2_col19 {\n",
              "            background-color:  lightgrey;\n",
              "            color:  Black;\n",
              "            border-color:  white;\n",
              "            text-align:  right;\n",
              "        }    #T_319f1554_9149_11e9_a907_0242ac1c0002row2_col20 {\n",
              "            background-color:  lightgrey;\n",
              "            color:  Black;\n",
              "            border-color:  white;\n",
              "            text-align:  right;\n",
              "        }    #T_319f1554_9149_11e9_a907_0242ac1c0002row2_col21 {\n",
              "            background-color:  lightgrey;\n",
              "            color:  Black;\n",
              "            border-color:  white;\n",
              "            text-align:  right;\n",
              "        }    #T_319f1554_9149_11e9_a907_0242ac1c0002row2_col22 {\n",
              "            background-color:  lightgrey;\n",
              "            color:  Black;\n",
              "            border-color:  white;\n",
              "            text-align:  right;\n",
              "        }    #T_319f1554_9149_11e9_a907_0242ac1c0002row2_col23 {\n",
              "            background-color:  lightgrey;\n",
              "            color:  Black;\n",
              "            border-color:  white;\n",
              "            text-align:  right;\n",
              "        }    #T_319f1554_9149_11e9_a907_0242ac1c0002row2_col24 {\n",
              "            background-color:  lightgrey;\n",
              "            color:  Black;\n",
              "            border-color:  white;\n",
              "            text-align:  right;\n",
              "        }    #T_319f1554_9149_11e9_a907_0242ac1c0002row2_col25 {\n",
              "            background-color:  lightgrey;\n",
              "            color:  Black;\n",
              "            border-color:  white;\n",
              "            text-align:  right;\n",
              "        }    #T_319f1554_9149_11e9_a907_0242ac1c0002row2_col26 {\n",
              "            background-color:  lightgrey;\n",
              "            color:  Black;\n",
              "            border-color:  white;\n",
              "            text-align:  right;\n",
              "        }    #T_319f1554_9149_11e9_a907_0242ac1c0002row2_col27 {\n",
              "            background-color:  lightgrey;\n",
              "            color:  Black;\n",
              "            border-color:  white;\n",
              "            text-align:  right;\n",
              "        }    #T_319f1554_9149_11e9_a907_0242ac1c0002row2_col28 {\n",
              "            background-color:  lightgrey;\n",
              "            color:  Black;\n",
              "            border-color:  white;\n",
              "            text-align:  right;\n",
              "        }    #T_319f1554_9149_11e9_a907_0242ac1c0002row2_col29 {\n",
              "            background-color:  lightgrey;\n",
              "            color:  Black;\n",
              "            border-color:  white;\n",
              "            text-align:  right;\n",
              "        }    #T_319f1554_9149_11e9_a907_0242ac1c0002row2_col30 {\n",
              "            background-color:  lightgrey;\n",
              "            color:  Black;\n",
              "            border-color:  white;\n",
              "            text-align:  right;\n",
              "        }    #T_319f1554_9149_11e9_a907_0242ac1c0002row2_col31 {\n",
              "            background-color:  lightgrey;\n",
              "            color:  Black;\n",
              "            border-color:  white;\n",
              "            text-align:  right;\n",
              "        }    #T_319f1554_9149_11e9_a907_0242ac1c0002row3_col0 {\n",
              "            background-color:  lightgrey;\n",
              "            color:  Black;\n",
              "            border-color:  white;\n",
              "            text-align:  right;\n",
              "        }    #T_319f1554_9149_11e9_a907_0242ac1c0002row3_col1 {\n",
              "            background-color:  lightgrey;\n",
              "            color:  Black;\n",
              "            border-color:  white;\n",
              "            text-align:  right;\n",
              "        }    #T_319f1554_9149_11e9_a907_0242ac1c0002row3_col2 {\n",
              "            background-color:  lightgrey;\n",
              "            color:  Black;\n",
              "            border-color:  white;\n",
              "            text-align:  right;\n",
              "        }    #T_319f1554_9149_11e9_a907_0242ac1c0002row3_col3 {\n",
              "            background-color:  lightgrey;\n",
              "            color:  Black;\n",
              "            border-color:  white;\n",
              "            text-align:  right;\n",
              "        }    #T_319f1554_9149_11e9_a907_0242ac1c0002row3_col4 {\n",
              "            background-color:  lightgrey;\n",
              "            color:  Black;\n",
              "            border-color:  white;\n",
              "            text-align:  right;\n",
              "        }    #T_319f1554_9149_11e9_a907_0242ac1c0002row3_col5 {\n",
              "            background-color:  lightgrey;\n",
              "            color:  Black;\n",
              "            border-color:  white;\n",
              "            text-align:  right;\n",
              "        }    #T_319f1554_9149_11e9_a907_0242ac1c0002row3_col6 {\n",
              "            background-color:  lightgrey;\n",
              "            color:  Black;\n",
              "            border-color:  white;\n",
              "            text-align:  right;\n",
              "        }    #T_319f1554_9149_11e9_a907_0242ac1c0002row3_col7 {\n",
              "            background-color:  lightgrey;\n",
              "            color:  Black;\n",
              "            border-color:  white;\n",
              "            text-align:  right;\n",
              "        }    #T_319f1554_9149_11e9_a907_0242ac1c0002row3_col8 {\n",
              "            background-color:  lightgrey;\n",
              "            color:  Black;\n",
              "            border-color:  white;\n",
              "            text-align:  right;\n",
              "        }    #T_319f1554_9149_11e9_a907_0242ac1c0002row3_col9 {\n",
              "            background-color:  lightgrey;\n",
              "            color:  Black;\n",
              "            border-color:  white;\n",
              "            text-align:  right;\n",
              "        }    #T_319f1554_9149_11e9_a907_0242ac1c0002row3_col10 {\n",
              "            background-color:  lightgrey;\n",
              "            color:  Black;\n",
              "            border-color:  white;\n",
              "            text-align:  right;\n",
              "        }    #T_319f1554_9149_11e9_a907_0242ac1c0002row3_col11 {\n",
              "            background-color:  lightgrey;\n",
              "            color:  Black;\n",
              "            border-color:  white;\n",
              "            text-align:  right;\n",
              "        }    #T_319f1554_9149_11e9_a907_0242ac1c0002row3_col12 {\n",
              "            background-color:  lightgrey;\n",
              "            color:  Black;\n",
              "            border-color:  white;\n",
              "            text-align:  right;\n",
              "        }    #T_319f1554_9149_11e9_a907_0242ac1c0002row3_col13 {\n",
              "            background-color:  lightgrey;\n",
              "            color:  Black;\n",
              "            border-color:  white;\n",
              "            text-align:  right;\n",
              "        }    #T_319f1554_9149_11e9_a907_0242ac1c0002row3_col14 {\n",
              "            background-color:  lightgrey;\n",
              "            color:  Black;\n",
              "            border-color:  white;\n",
              "            text-align:  right;\n",
              "        }    #T_319f1554_9149_11e9_a907_0242ac1c0002row3_col15 {\n",
              "            background-color:  lightgrey;\n",
              "            color:  Black;\n",
              "            border-color:  white;\n",
              "            text-align:  right;\n",
              "        }    #T_319f1554_9149_11e9_a907_0242ac1c0002row3_col16 {\n",
              "            background-color:  lightgrey;\n",
              "            color:  Black;\n",
              "            border-color:  white;\n",
              "            text-align:  right;\n",
              "        }    #T_319f1554_9149_11e9_a907_0242ac1c0002row3_col17 {\n",
              "            background-color:  lightgrey;\n",
              "            color:  Black;\n",
              "            border-color:  white;\n",
              "            text-align:  right;\n",
              "        }    #T_319f1554_9149_11e9_a907_0242ac1c0002row3_col18 {\n",
              "            background-color:  lightgrey;\n",
              "            color:  Black;\n",
              "            border-color:  white;\n",
              "            text-align:  right;\n",
              "        }    #T_319f1554_9149_11e9_a907_0242ac1c0002row3_col19 {\n",
              "            background-color:  lightgrey;\n",
              "            color:  Black;\n",
              "            border-color:  white;\n",
              "            text-align:  right;\n",
              "        }    #T_319f1554_9149_11e9_a907_0242ac1c0002row3_col20 {\n",
              "            background-color:  lightgrey;\n",
              "            color:  Black;\n",
              "            border-color:  white;\n",
              "            text-align:  right;\n",
              "        }    #T_319f1554_9149_11e9_a907_0242ac1c0002row3_col21 {\n",
              "            background-color:  lightgrey;\n",
              "            color:  Black;\n",
              "            border-color:  white;\n",
              "            text-align:  right;\n",
              "        }    #T_319f1554_9149_11e9_a907_0242ac1c0002row3_col22 {\n",
              "            background-color:  lightgrey;\n",
              "            color:  Black;\n",
              "            border-color:  white;\n",
              "            text-align:  right;\n",
              "        }    #T_319f1554_9149_11e9_a907_0242ac1c0002row3_col23 {\n",
              "            background-color:  lightgrey;\n",
              "            color:  Black;\n",
              "            border-color:  white;\n",
              "            text-align:  right;\n",
              "        }    #T_319f1554_9149_11e9_a907_0242ac1c0002row3_col24 {\n",
              "            background-color:  lightgrey;\n",
              "            color:  Black;\n",
              "            border-color:  white;\n",
              "            text-align:  right;\n",
              "        }    #T_319f1554_9149_11e9_a907_0242ac1c0002row3_col25 {\n",
              "            background-color:  lightgrey;\n",
              "            color:  Black;\n",
              "            border-color:  white;\n",
              "            text-align:  right;\n",
              "        }    #T_319f1554_9149_11e9_a907_0242ac1c0002row3_col26 {\n",
              "            background-color:  lightgrey;\n",
              "            color:  Black;\n",
              "            border-color:  white;\n",
              "            text-align:  right;\n",
              "        }    #T_319f1554_9149_11e9_a907_0242ac1c0002row3_col27 {\n",
              "            background-color:  lightgrey;\n",
              "            color:  Black;\n",
              "            border-color:  white;\n",
              "            text-align:  right;\n",
              "        }    #T_319f1554_9149_11e9_a907_0242ac1c0002row3_col28 {\n",
              "            background-color:  lightgrey;\n",
              "            color:  Black;\n",
              "            border-color:  white;\n",
              "            text-align:  right;\n",
              "        }    #T_319f1554_9149_11e9_a907_0242ac1c0002row3_col29 {\n",
              "            background-color:  lightgrey;\n",
              "            color:  Black;\n",
              "            border-color:  white;\n",
              "            text-align:  right;\n",
              "        }    #T_319f1554_9149_11e9_a907_0242ac1c0002row3_col30 {\n",
              "            background-color:  lightgrey;\n",
              "            color:  Black;\n",
              "            border-color:  white;\n",
              "            text-align:  right;\n",
              "        }    #T_319f1554_9149_11e9_a907_0242ac1c0002row3_col31 {\n",
              "            background-color:  lightgrey;\n",
              "            color:  Black;\n",
              "            border-color:  white;\n",
              "            text-align:  right;\n",
              "        }    #T_319f1554_9149_11e9_a907_0242ac1c0002row4_col0 {\n",
              "            background-color:  lightgrey;\n",
              "            color:  Black;\n",
              "            border-color:  white;\n",
              "            text-align:  right;\n",
              "        }    #T_319f1554_9149_11e9_a907_0242ac1c0002row4_col1 {\n",
              "            background-color:  lightgrey;\n",
              "            color:  Black;\n",
              "            border-color:  white;\n",
              "            text-align:  right;\n",
              "        }    #T_319f1554_9149_11e9_a907_0242ac1c0002row4_col2 {\n",
              "            background-color:  lightgrey;\n",
              "            color:  Black;\n",
              "            border-color:  white;\n",
              "            text-align:  right;\n",
              "        }    #T_319f1554_9149_11e9_a907_0242ac1c0002row4_col3 {\n",
              "            background-color:  lightgrey;\n",
              "            color:  Black;\n",
              "            border-color:  white;\n",
              "            text-align:  right;\n",
              "        }    #T_319f1554_9149_11e9_a907_0242ac1c0002row4_col4 {\n",
              "            background-color:  lightgrey;\n",
              "            color:  Black;\n",
              "            border-color:  white;\n",
              "            text-align:  right;\n",
              "        }    #T_319f1554_9149_11e9_a907_0242ac1c0002row4_col5 {\n",
              "            background-color:  lightgrey;\n",
              "            color:  Black;\n",
              "            border-color:  white;\n",
              "            text-align:  right;\n",
              "        }    #T_319f1554_9149_11e9_a907_0242ac1c0002row4_col6 {\n",
              "            background-color:  lightgrey;\n",
              "            color:  Black;\n",
              "            border-color:  white;\n",
              "            text-align:  right;\n",
              "        }    #T_319f1554_9149_11e9_a907_0242ac1c0002row4_col7 {\n",
              "            background-color:  lightgrey;\n",
              "            color:  Black;\n",
              "            border-color:  white;\n",
              "            text-align:  right;\n",
              "        }    #T_319f1554_9149_11e9_a907_0242ac1c0002row4_col8 {\n",
              "            background-color:  lightgrey;\n",
              "            color:  Black;\n",
              "            border-color:  white;\n",
              "            text-align:  right;\n",
              "        }    #T_319f1554_9149_11e9_a907_0242ac1c0002row4_col9 {\n",
              "            background-color:  lightgrey;\n",
              "            color:  Black;\n",
              "            border-color:  white;\n",
              "            text-align:  right;\n",
              "        }    #T_319f1554_9149_11e9_a907_0242ac1c0002row4_col10 {\n",
              "            background-color:  lightgrey;\n",
              "            color:  Black;\n",
              "            border-color:  white;\n",
              "            text-align:  right;\n",
              "        }    #T_319f1554_9149_11e9_a907_0242ac1c0002row4_col11 {\n",
              "            background-color:  lightgrey;\n",
              "            color:  Black;\n",
              "            border-color:  white;\n",
              "            text-align:  right;\n",
              "        }    #T_319f1554_9149_11e9_a907_0242ac1c0002row4_col12 {\n",
              "            background-color:  lightgrey;\n",
              "            color:  Black;\n",
              "            border-color:  white;\n",
              "            text-align:  right;\n",
              "        }    #T_319f1554_9149_11e9_a907_0242ac1c0002row4_col13 {\n",
              "            background-color:  lightgrey;\n",
              "            color:  Black;\n",
              "            border-color:  white;\n",
              "            text-align:  right;\n",
              "        }    #T_319f1554_9149_11e9_a907_0242ac1c0002row4_col14 {\n",
              "            background-color:  lightgrey;\n",
              "            color:  Black;\n",
              "            border-color:  white;\n",
              "            text-align:  right;\n",
              "        }    #T_319f1554_9149_11e9_a907_0242ac1c0002row4_col15 {\n",
              "            background-color:  lightgrey;\n",
              "            color:  Black;\n",
              "            border-color:  white;\n",
              "            text-align:  right;\n",
              "        }    #T_319f1554_9149_11e9_a907_0242ac1c0002row4_col16 {\n",
              "            background-color:  lightgrey;\n",
              "            color:  Black;\n",
              "            border-color:  white;\n",
              "            text-align:  right;\n",
              "        }    #T_319f1554_9149_11e9_a907_0242ac1c0002row4_col17 {\n",
              "            background-color:  lightgrey;\n",
              "            color:  Black;\n",
              "            border-color:  white;\n",
              "            text-align:  right;\n",
              "        }    #T_319f1554_9149_11e9_a907_0242ac1c0002row4_col18 {\n",
              "            background-color:  lightgrey;\n",
              "            color:  Black;\n",
              "            border-color:  white;\n",
              "            text-align:  right;\n",
              "        }    #T_319f1554_9149_11e9_a907_0242ac1c0002row4_col19 {\n",
              "            background-color:  lightgrey;\n",
              "            color:  Black;\n",
              "            border-color:  white;\n",
              "            text-align:  right;\n",
              "        }    #T_319f1554_9149_11e9_a907_0242ac1c0002row4_col20 {\n",
              "            background-color:  lightgrey;\n",
              "            color:  Black;\n",
              "            border-color:  white;\n",
              "            text-align:  right;\n",
              "        }    #T_319f1554_9149_11e9_a907_0242ac1c0002row4_col21 {\n",
              "            background-color:  lightgrey;\n",
              "            color:  Black;\n",
              "            border-color:  white;\n",
              "            text-align:  right;\n",
              "        }    #T_319f1554_9149_11e9_a907_0242ac1c0002row4_col22 {\n",
              "            background-color:  lightgrey;\n",
              "            color:  Black;\n",
              "            border-color:  white;\n",
              "            text-align:  right;\n",
              "        }    #T_319f1554_9149_11e9_a907_0242ac1c0002row4_col23 {\n",
              "            background-color:  lightgrey;\n",
              "            color:  Black;\n",
              "            border-color:  white;\n",
              "            text-align:  right;\n",
              "        }    #T_319f1554_9149_11e9_a907_0242ac1c0002row4_col24 {\n",
              "            background-color:  lightgrey;\n",
              "            color:  Black;\n",
              "            border-color:  white;\n",
              "            text-align:  right;\n",
              "        }    #T_319f1554_9149_11e9_a907_0242ac1c0002row4_col25 {\n",
              "            background-color:  lightgrey;\n",
              "            color:  Black;\n",
              "            border-color:  white;\n",
              "            text-align:  right;\n",
              "        }    #T_319f1554_9149_11e9_a907_0242ac1c0002row4_col26 {\n",
              "            background-color:  lightgrey;\n",
              "            color:  Black;\n",
              "            border-color:  white;\n",
              "            text-align:  right;\n",
              "        }    #T_319f1554_9149_11e9_a907_0242ac1c0002row4_col27 {\n",
              "            background-color:  lightgrey;\n",
              "            color:  Black;\n",
              "            border-color:  white;\n",
              "            text-align:  right;\n",
              "        }    #T_319f1554_9149_11e9_a907_0242ac1c0002row4_col28 {\n",
              "            background-color:  lightgrey;\n",
              "            color:  Black;\n",
              "            border-color:  white;\n",
              "            text-align:  right;\n",
              "        }    #T_319f1554_9149_11e9_a907_0242ac1c0002row4_col29 {\n",
              "            background-color:  lightgrey;\n",
              "            color:  Black;\n",
              "            border-color:  white;\n",
              "            text-align:  right;\n",
              "        }    #T_319f1554_9149_11e9_a907_0242ac1c0002row4_col30 {\n",
              "            background-color:  lightgrey;\n",
              "            color:  Black;\n",
              "            border-color:  white;\n",
              "            text-align:  right;\n",
              "        }    #T_319f1554_9149_11e9_a907_0242ac1c0002row4_col31 {\n",
              "            background-color:  lightgrey;\n",
              "            color:  Black;\n",
              "            border-color:  white;\n",
              "            text-align:  right;\n",
              "        }</style><table id=\"T_319f1554_9149_11e9_a907_0242ac1c0002\" ><thead>    <tr>        <th class=\"col_heading level0 col0\" >summary</th>        <th class=\"col_heading level0 col1\" >Time</th>        <th class=\"col_heading level0 col2\" >V1</th>        <th class=\"col_heading level0 col3\" >V2</th>        <th class=\"col_heading level0 col4\" >V3</th>        <th class=\"col_heading level0 col5\" >V4</th>        <th class=\"col_heading level0 col6\" >V5</th>        <th class=\"col_heading level0 col7\" >V6</th>        <th class=\"col_heading level0 col8\" >V7</th>        <th class=\"col_heading level0 col9\" >V8</th>        <th class=\"col_heading level0 col10\" >V9</th>        <th class=\"col_heading level0 col11\" >V10</th>        <th class=\"col_heading level0 col12\" >V11</th>        <th class=\"col_heading level0 col13\" >V12</th>        <th class=\"col_heading level0 col14\" >V13</th>        <th class=\"col_heading level0 col15\" >V14</th>        <th class=\"col_heading level0 col16\" >V15</th>        <th class=\"col_heading level0 col17\" >V16</th>        <th class=\"col_heading level0 col18\" >V17</th>        <th class=\"col_heading level0 col19\" >V18</th>        <th class=\"col_heading level0 col20\" >V19</th>        <th class=\"col_heading level0 col21\" >V20</th>        <th class=\"col_heading level0 col22\" >V21</th>        <th class=\"col_heading level0 col23\" >V22</th>        <th class=\"col_heading level0 col24\" >V23</th>        <th class=\"col_heading level0 col25\" >V24</th>        <th class=\"col_heading level0 col26\" >V25</th>        <th class=\"col_heading level0 col27\" >V26</th>        <th class=\"col_heading level0 col28\" >V27</th>        <th class=\"col_heading level0 col29\" >V28</th>        <th class=\"col_heading level0 col30\" >Amount</th>        <th class=\"col_heading level0 col31\" >label</th>    </tr></thead><tbody>\n",
              "                <tr>\n",
              "                                <td id=\"T_319f1554_9149_11e9_a907_0242ac1c0002row0_col0\" class=\"data row0 col0\" >count</td>\n",
              "                        <td id=\"T_319f1554_9149_11e9_a907_0242ac1c0002row0_col1\" class=\"data row0 col1\" >284807</td>\n",
              "                        <td id=\"T_319f1554_9149_11e9_a907_0242ac1c0002row0_col2\" class=\"data row0 col2\" >284807</td>\n",
              "                        <td id=\"T_319f1554_9149_11e9_a907_0242ac1c0002row0_col3\" class=\"data row0 col3\" >284807</td>\n",
              "                        <td id=\"T_319f1554_9149_11e9_a907_0242ac1c0002row0_col4\" class=\"data row0 col4\" >284807</td>\n",
              "                        <td id=\"T_319f1554_9149_11e9_a907_0242ac1c0002row0_col5\" class=\"data row0 col5\" >284807</td>\n",
              "                        <td id=\"T_319f1554_9149_11e9_a907_0242ac1c0002row0_col6\" class=\"data row0 col6\" >284807</td>\n",
              "                        <td id=\"T_319f1554_9149_11e9_a907_0242ac1c0002row0_col7\" class=\"data row0 col7\" >284807</td>\n",
              "                        <td id=\"T_319f1554_9149_11e9_a907_0242ac1c0002row0_col8\" class=\"data row0 col8\" >284807</td>\n",
              "                        <td id=\"T_319f1554_9149_11e9_a907_0242ac1c0002row0_col9\" class=\"data row0 col9\" >284807</td>\n",
              "                        <td id=\"T_319f1554_9149_11e9_a907_0242ac1c0002row0_col10\" class=\"data row0 col10\" >284807</td>\n",
              "                        <td id=\"T_319f1554_9149_11e9_a907_0242ac1c0002row0_col11\" class=\"data row0 col11\" >284807</td>\n",
              "                        <td id=\"T_319f1554_9149_11e9_a907_0242ac1c0002row0_col12\" class=\"data row0 col12\" >284807</td>\n",
              "                        <td id=\"T_319f1554_9149_11e9_a907_0242ac1c0002row0_col13\" class=\"data row0 col13\" >284807</td>\n",
              "                        <td id=\"T_319f1554_9149_11e9_a907_0242ac1c0002row0_col14\" class=\"data row0 col14\" >284807</td>\n",
              "                        <td id=\"T_319f1554_9149_11e9_a907_0242ac1c0002row0_col15\" class=\"data row0 col15\" >284807</td>\n",
              "                        <td id=\"T_319f1554_9149_11e9_a907_0242ac1c0002row0_col16\" class=\"data row0 col16\" >284807</td>\n",
              "                        <td id=\"T_319f1554_9149_11e9_a907_0242ac1c0002row0_col17\" class=\"data row0 col17\" >284807</td>\n",
              "                        <td id=\"T_319f1554_9149_11e9_a907_0242ac1c0002row0_col18\" class=\"data row0 col18\" >284807</td>\n",
              "                        <td id=\"T_319f1554_9149_11e9_a907_0242ac1c0002row0_col19\" class=\"data row0 col19\" >284807</td>\n",
              "                        <td id=\"T_319f1554_9149_11e9_a907_0242ac1c0002row0_col20\" class=\"data row0 col20\" >284807</td>\n",
              "                        <td id=\"T_319f1554_9149_11e9_a907_0242ac1c0002row0_col21\" class=\"data row0 col21\" >284807</td>\n",
              "                        <td id=\"T_319f1554_9149_11e9_a907_0242ac1c0002row0_col22\" class=\"data row0 col22\" >284807</td>\n",
              "                        <td id=\"T_319f1554_9149_11e9_a907_0242ac1c0002row0_col23\" class=\"data row0 col23\" >284807</td>\n",
              "                        <td id=\"T_319f1554_9149_11e9_a907_0242ac1c0002row0_col24\" class=\"data row0 col24\" >284807</td>\n",
              "                        <td id=\"T_319f1554_9149_11e9_a907_0242ac1c0002row0_col25\" class=\"data row0 col25\" >284807</td>\n",
              "                        <td id=\"T_319f1554_9149_11e9_a907_0242ac1c0002row0_col26\" class=\"data row0 col26\" >284807</td>\n",
              "                        <td id=\"T_319f1554_9149_11e9_a907_0242ac1c0002row0_col27\" class=\"data row0 col27\" >284807</td>\n",
              "                        <td id=\"T_319f1554_9149_11e9_a907_0242ac1c0002row0_col28\" class=\"data row0 col28\" >284807</td>\n",
              "                        <td id=\"T_319f1554_9149_11e9_a907_0242ac1c0002row0_col29\" class=\"data row0 col29\" >284807</td>\n",
              "                        <td id=\"T_319f1554_9149_11e9_a907_0242ac1c0002row0_col30\" class=\"data row0 col30\" >284807</td>\n",
              "                        <td id=\"T_319f1554_9149_11e9_a907_0242ac1c0002row0_col31\" class=\"data row0 col31\" >284807</td>\n",
              "            </tr>\n",
              "            <tr>\n",
              "                                <td id=\"T_319f1554_9149_11e9_a907_0242ac1c0002row1_col0\" class=\"data row1 col0\" >mean</td>\n",
              "                        <td id=\"T_319f1554_9149_11e9_a907_0242ac1c0002row1_col1\" class=\"data row1 col1\" >94813.8596</td>\n",
              "                        <td id=\"T_319f1554_9149_11e9_a907_0242ac1c0002row1_col2\" class=\"data row1 col2\" >5.1093952144318264E-17</td>\n",
              "                        <td id=\"T_319f1554_9149_11e9_a907_0242ac1c0002row1_col3\" class=\"data row1 col3\" >2.554697607215913E-16</td>\n",
              "                        <td id=\"T_319f1554_9149_11e9_a907_0242ac1c0002row1_col4\" class=\"data row1 col4\" >-8.634877912389787E-15</td>\n",
              "                        <td id=\"T_319f1554_9149_11e9_a907_0242ac1c0002row1_col5\" class=\"data row1 col5\" >3.5254826979579603E-15</td>\n",
              "                        <td id=\"T_319f1554_9149_11e9_a907_0242ac1c0002row1_col6\" class=\"data row1 col6\" >2.0437580857727305E-15</td>\n",
              "                        <td id=\"T_319f1554_9149_11e9_a907_0242ac1c0002row1_col7\" class=\"data row1 col7\" >2.088465293899009E-15</td>\n",
              "                        <td id=\"T_319f1554_9149_11e9_a907_0242ac1c0002row1_col8\" class=\"data row1 col8\" >-2.2864543584582423E-15</td>\n",
              "                        <td id=\"T_319f1554_9149_11e9_a907_0242ac1c0002row1_col9\" class=\"data row1 col9\" >-3.5765766501022783E-16</td>\n",
              "                        <td id=\"T_319f1554_9149_11e9_a907_0242ac1c0002row1_col10\" class=\"data row1 col10\" >-1.3412162437883544E-15</td>\n",
              "                        <td id=\"T_319f1554_9149_11e9_a907_0242ac1c0002row1_col11\" class=\"data row1 col11\" >1.9000563453668355E-15</td>\n",
              "                        <td id=\"T_319f1554_9149_11e9_a907_0242ac1c0002row1_col12\" class=\"data row1 col12\" >2.05653157380881E-15</td>\n",
              "                        <td id=\"T_319f1554_9149_11e9_a907_0242ac1c0002row1_col13\" class=\"data row1 col13\" >-2.672852371549649E-15</td>\n",
              "                        <td id=\"T_319f1554_9149_11e9_a907_0242ac1c0002row1_col14\" class=\"data row1 col14\" >7.887628862279132E-16</td>\n",
              "                        <td id=\"T_319f1554_9149_11e9_a907_0242ac1c0002row1_col15\" class=\"data row1 col15\" >1.4976914722303291E-15</td>\n",
              "                        <td id=\"T_319f1554_9149_11e9_a907_0242ac1c0002row1_col16\" class=\"data row1 col16\" >2.707979463648868E-15</td>\n",
              "                        <td id=\"T_319f1554_9149_11e9_a907_0242ac1c0002row1_col17\" class=\"data row1 col17\" >1.444202491079246E-15</td>\n",
              "                        <td id=\"T_319f1554_9149_11e9_a907_0242ac1c0002row1_col18\" class=\"data row1 col18\" >-3.1933720090198914E-17</td>\n",
              "                        <td id=\"T_319f1554_9149_11e9_a907_0242ac1c0002row1_col19\" class=\"data row1 col19\" >3.640444090282676E-16</td>\n",
              "                        <td id=\"T_319f1554_9149_11e9_a907_0242ac1c0002row1_col20\" class=\"data row1 col20\" >9.468348006743977E-16</td>\n",
              "                        <td id=\"T_319f1554_9149_11e9_a907_0242ac1c0002row1_col21\" class=\"data row1 col21\" >1.820222045141338E-16</td>\n",
              "                        <td id=\"T_319f1554_9149_11e9_a907_0242ac1c0002row1_col22\" class=\"data row1 col22\" >2.554697607215913E-16</td>\n",
              "                        <td id=\"T_319f1554_9149_11e9_a907_0242ac1c0002row1_col23\" class=\"data row1 col23\" >8.941441625255696E-16</td>\n",
              "                        <td id=\"T_319f1554_9149_11e9_a907_0242ac1c0002row1_col24\" class=\"data row1 col24\" >7.664092821647739E-16</td>\n",
              "                        <td id=\"T_319f1554_9149_11e9_a907_0242ac1c0002row1_col25\" class=\"data row1 col25\" >4.515428020754126E-15</td>\n",
              "                        <td id=\"T_319f1554_9149_11e9_a907_0242ac1c0002row1_col26\" class=\"data row1 col26\" >1.5455920523656276E-15</td>\n",
              "                        <td id=\"T_319f1554_9149_11e9_a907_0242ac1c0002row1_col27\" class=\"data row1 col27\" >1.737194372906821E-15</td>\n",
              "                        <td id=\"T_319f1554_9149_11e9_a907_0242ac1c0002row1_col28\" class=\"data row1 col28\" >-3.5456408587648983E-16</td>\n",
              "                        <td id=\"T_319f1554_9149_11e9_a907_0242ac1c0002row1_col29\" class=\"data row1 col29\" >-1.311278381203793E-16</td>\n",
              "                        <td id=\"T_319f1554_9149_11e9_a907_0242ac1c0002row1_col30\" class=\"data row1 col30\" >88.3496192509508</td>\n",
              "                        <td id=\"T_319f1554_9149_11e9_a907_0242ac1c0002row1_col31\" class=\"data row1 col31\" >0.001727485630620034</td>\n",
              "            </tr>\n",
              "            <tr>\n",
              "                                <td id=\"T_319f1554_9149_11e9_a907_0242ac1c0002row2_col0\" class=\"data row2 col0\" >stddev</td>\n",
              "                        <td id=\"T_319f1554_9149_11e9_a907_0242ac1c0002row2_col1\" class=\"data row2 col1\" >47488.145954566906</td>\n",
              "                        <td id=\"T_319f1554_9149_11e9_a907_0242ac1c0002row2_col2\" class=\"data row2 col2\" >1.9586958038574882</td>\n",
              "                        <td id=\"T_319f1554_9149_11e9_a907_0242ac1c0002row2_col3\" class=\"data row2 col3\" >1.651308579476995</td>\n",
              "                        <td id=\"T_319f1554_9149_11e9_a907_0242ac1c0002row2_col4\" class=\"data row2 col4\" >1.5162550051777774</td>\n",
              "                        <td id=\"T_319f1554_9149_11e9_a907_0242ac1c0002row2_col5\" class=\"data row2 col5\" >1.4158685749409223</td>\n",
              "                        <td id=\"T_319f1554_9149_11e9_a907_0242ac1c0002row2_col6\" class=\"data row2 col6\" >1.3802467340314277</td>\n",
              "                        <td id=\"T_319f1554_9149_11e9_a907_0242ac1c0002row2_col7\" class=\"data row2 col7\" >1.3322710897575698</td>\n",
              "                        <td id=\"T_319f1554_9149_11e9_a907_0242ac1c0002row2_col8\" class=\"data row2 col8\" >1.2370935981826607</td>\n",
              "                        <td id=\"T_319f1554_9149_11e9_a907_0242ac1c0002row2_col9\" class=\"data row2 col9\" >1.1943529026691984</td>\n",
              "                        <td id=\"T_319f1554_9149_11e9_a907_0242ac1c0002row2_col10\" class=\"data row2 col10\" >1.0986320892243164</td>\n",
              "                        <td id=\"T_319f1554_9149_11e9_a907_0242ac1c0002row2_col11\" class=\"data row2 col11\" >1.0888497654025246</td>\n",
              "                        <td id=\"T_319f1554_9149_11e9_a907_0242ac1c0002row2_col12\" class=\"data row2 col12\" >1.0207130277115635</td>\n",
              "                        <td id=\"T_319f1554_9149_11e9_a907_0242ac1c0002row2_col13\" class=\"data row2 col13\" >0.9992013895301407</td>\n",
              "                        <td id=\"T_319f1554_9149_11e9_a907_0242ac1c0002row2_col14\" class=\"data row2 col14\" >0.9952742301251535</td>\n",
              "                        <td id=\"T_319f1554_9149_11e9_a907_0242ac1c0002row2_col15\" class=\"data row2 col15\" >0.958595611257067</td>\n",
              "                        <td id=\"T_319f1554_9149_11e9_a907_0242ac1c0002row2_col16\" class=\"data row2 col16\" >0.9153160116104393</td>\n",
              "                        <td id=\"T_319f1554_9149_11e9_a907_0242ac1c0002row2_col17\" class=\"data row2 col17\" >0.8762528873883741</td>\n",
              "                        <td id=\"T_319f1554_9149_11e9_a907_0242ac1c0002row2_col18\" class=\"data row2 col18\" >0.8493370636743898</td>\n",
              "                        <td id=\"T_319f1554_9149_11e9_a907_0242ac1c0002row2_col19\" class=\"data row2 col19\" >0.8381762095288434</td>\n",
              "                        <td id=\"T_319f1554_9149_11e9_a907_0242ac1c0002row2_col20\" class=\"data row2 col20\" >0.8140405007685821</td>\n",
              "                        <td id=\"T_319f1554_9149_11e9_a907_0242ac1c0002row2_col21\" class=\"data row2 col21\" >0.7709250248871147</td>\n",
              "                        <td id=\"T_319f1554_9149_11e9_a907_0242ac1c0002row2_col22\" class=\"data row2 col22\" >0.7345240143713111</td>\n",
              "                        <td id=\"T_319f1554_9149_11e9_a907_0242ac1c0002row2_col23\" class=\"data row2 col23\" >0.7257015604409144</td>\n",
              "                        <td id=\"T_319f1554_9149_11e9_a907_0242ac1c0002row2_col24\" class=\"data row2 col24\" >0.6244602955949919</td>\n",
              "                        <td id=\"T_319f1554_9149_11e9_a907_0242ac1c0002row2_col25\" class=\"data row2 col25\" >0.605647067827159</td>\n",
              "                        <td id=\"T_319f1554_9149_11e9_a907_0242ac1c0002row2_col26\" class=\"data row2 col26\" >0.5212780705409377</td>\n",
              "                        <td id=\"T_319f1554_9149_11e9_a907_0242ac1c0002row2_col27\" class=\"data row2 col27\" >0.48222701326105777</td>\n",
              "                        <td id=\"T_319f1554_9149_11e9_a907_0242ac1c0002row2_col28\" class=\"data row2 col28\" >0.4036324949650308</td>\n",
              "                        <td id=\"T_319f1554_9149_11e9_a907_0242ac1c0002row2_col29\" class=\"data row2 col29\" >0.33008326416025036</td>\n",
              "                        <td id=\"T_319f1554_9149_11e9_a907_0242ac1c0002row2_col30\" class=\"data row2 col30\" >250.12010924018736</td>\n",
              "                        <td id=\"T_319f1554_9149_11e9_a907_0242ac1c0002row2_col31\" class=\"data row2 col31\" >0.04152718963546528</td>\n",
              "            </tr>\n",
              "            <tr>\n",
              "                                <td id=\"T_319f1554_9149_11e9_a907_0242ac1c0002row3_col0\" class=\"data row3 col0\" >min</td>\n",
              "                        <td id=\"T_319f1554_9149_11e9_a907_0242ac1c0002row3_col1\" class=\"data row3 col1\" >0</td>\n",
              "                        <td id=\"T_319f1554_9149_11e9_a907_0242ac1c0002row3_col2\" class=\"data row3 col2\" >-56.407509631329</td>\n",
              "                        <td id=\"T_319f1554_9149_11e9_a907_0242ac1c0002row3_col3\" class=\"data row3 col3\" >-72.7157275629303</td>\n",
              "                        <td id=\"T_319f1554_9149_11e9_a907_0242ac1c0002row3_col4\" class=\"data row3 col4\" >-48.3255893623954</td>\n",
              "                        <td id=\"T_319f1554_9149_11e9_a907_0242ac1c0002row3_col5\" class=\"data row3 col5\" >-5.68317119816995</td>\n",
              "                        <td id=\"T_319f1554_9149_11e9_a907_0242ac1c0002row3_col6\" class=\"data row3 col6\" >-113.743306711146</td>\n",
              "                        <td id=\"T_319f1554_9149_11e9_a907_0242ac1c0002row3_col7\" class=\"data row3 col7\" >-26.1605059358433</td>\n",
              "                        <td id=\"T_319f1554_9149_11e9_a907_0242ac1c0002row3_col8\" class=\"data row3 col8\" >-43.5572415712451</td>\n",
              "                        <td id=\"T_319f1554_9149_11e9_a907_0242ac1c0002row3_col9\" class=\"data row3 col9\" >-73.2167184552674</td>\n",
              "                        <td id=\"T_319f1554_9149_11e9_a907_0242ac1c0002row3_col10\" class=\"data row3 col10\" >-13.4340663182301</td>\n",
              "                        <td id=\"T_319f1554_9149_11e9_a907_0242ac1c0002row3_col11\" class=\"data row3 col11\" >-24.5882624372475</td>\n",
              "                        <td id=\"T_319f1554_9149_11e9_a907_0242ac1c0002row3_col12\" class=\"data row3 col12\" >-4.79747346479757</td>\n",
              "                        <td id=\"T_319f1554_9149_11e9_a907_0242ac1c0002row3_col13\" class=\"data row3 col13\" >-18.6837146333443</td>\n",
              "                        <td id=\"T_319f1554_9149_11e9_a907_0242ac1c0002row3_col14\" class=\"data row3 col14\" >-5.79188120632084</td>\n",
              "                        <td id=\"T_319f1554_9149_11e9_a907_0242ac1c0002row3_col15\" class=\"data row3 col15\" >-19.2143254902614</td>\n",
              "                        <td id=\"T_319f1554_9149_11e9_a907_0242ac1c0002row3_col16\" class=\"data row3 col16\" >-4.49894467676621</td>\n",
              "                        <td id=\"T_319f1554_9149_11e9_a907_0242ac1c0002row3_col17\" class=\"data row3 col17\" >-14.1298545174931</td>\n",
              "                        <td id=\"T_319f1554_9149_11e9_a907_0242ac1c0002row3_col18\" class=\"data row3 col18\" >-25.1627993693248</td>\n",
              "                        <td id=\"T_319f1554_9149_11e9_a907_0242ac1c0002row3_col19\" class=\"data row3 col19\" >-9.49874592104677</td>\n",
              "                        <td id=\"T_319f1554_9149_11e9_a907_0242ac1c0002row3_col20\" class=\"data row3 col20\" >-7.21352743017759</td>\n",
              "                        <td id=\"T_319f1554_9149_11e9_a907_0242ac1c0002row3_col21\" class=\"data row3 col21\" >-54.497720494566</td>\n",
              "                        <td id=\"T_319f1554_9149_11e9_a907_0242ac1c0002row3_col22\" class=\"data row3 col22\" >-34.8303821448146</td>\n",
              "                        <td id=\"T_319f1554_9149_11e9_a907_0242ac1c0002row3_col23\" class=\"data row3 col23\" >-10.933143697655</td>\n",
              "                        <td id=\"T_319f1554_9149_11e9_a907_0242ac1c0002row3_col24\" class=\"data row3 col24\" >-44.8077352037913</td>\n",
              "                        <td id=\"T_319f1554_9149_11e9_a907_0242ac1c0002row3_col25\" class=\"data row3 col25\" >-2.83662691870341</td>\n",
              "                        <td id=\"T_319f1554_9149_11e9_a907_0242ac1c0002row3_col26\" class=\"data row3 col26\" >-10.2953970749851</td>\n",
              "                        <td id=\"T_319f1554_9149_11e9_a907_0242ac1c0002row3_col27\" class=\"data row3 col27\" >-2.60455055280817</td>\n",
              "                        <td id=\"T_319f1554_9149_11e9_a907_0242ac1c0002row3_col28\" class=\"data row3 col28\" >-22.5656793207827</td>\n",
              "                        <td id=\"T_319f1554_9149_11e9_a907_0242ac1c0002row3_col29\" class=\"data row3 col29\" >-15.4300839055349</td>\n",
              "                        <td id=\"T_319f1554_9149_11e9_a907_0242ac1c0002row3_col30\" class=\"data row3 col30\" >0.0</td>\n",
              "                        <td id=\"T_319f1554_9149_11e9_a907_0242ac1c0002row3_col31\" class=\"data row3 col31\" >0</td>\n",
              "            </tr>\n",
              "            <tr>\n",
              "                                <td id=\"T_319f1554_9149_11e9_a907_0242ac1c0002row4_col0\" class=\"data row4 col0\" >max</td>\n",
              "                        <td id=\"T_319f1554_9149_11e9_a907_0242ac1c0002row4_col1\" class=\"data row4 col1\" >172792</td>\n",
              "                        <td id=\"T_319f1554_9149_11e9_a907_0242ac1c0002row4_col2\" class=\"data row4 col2\" >2.45492999121121</td>\n",
              "                        <td id=\"T_319f1554_9149_11e9_a907_0242ac1c0002row4_col3\" class=\"data row4 col3\" >22.0577289904909</td>\n",
              "                        <td id=\"T_319f1554_9149_11e9_a907_0242ac1c0002row4_col4\" class=\"data row4 col4\" >9.38255843282114</td>\n",
              "                        <td id=\"T_319f1554_9149_11e9_a907_0242ac1c0002row4_col5\" class=\"data row4 col5\" >16.8753440335975</td>\n",
              "                        <td id=\"T_319f1554_9149_11e9_a907_0242ac1c0002row4_col6\" class=\"data row4 col6\" >34.8016658766686</td>\n",
              "                        <td id=\"T_319f1554_9149_11e9_a907_0242ac1c0002row4_col7\" class=\"data row4 col7\" >73.3016255459646</td>\n",
              "                        <td id=\"T_319f1554_9149_11e9_a907_0242ac1c0002row4_col8\" class=\"data row4 col8\" >120.589493945238</td>\n",
              "                        <td id=\"T_319f1554_9149_11e9_a907_0242ac1c0002row4_col9\" class=\"data row4 col9\" >20.0072083651213</td>\n",
              "                        <td id=\"T_319f1554_9149_11e9_a907_0242ac1c0002row4_col10\" class=\"data row4 col10\" >15.5949946071278</td>\n",
              "                        <td id=\"T_319f1554_9149_11e9_a907_0242ac1c0002row4_col11\" class=\"data row4 col11\" >23.7451361206545</td>\n",
              "                        <td id=\"T_319f1554_9149_11e9_a907_0242ac1c0002row4_col12\" class=\"data row4 col12\" >12.0189131816199</td>\n",
              "                        <td id=\"T_319f1554_9149_11e9_a907_0242ac1c0002row4_col13\" class=\"data row4 col13\" >7.8483920756446</td>\n",
              "                        <td id=\"T_319f1554_9149_11e9_a907_0242ac1c0002row4_col14\" class=\"data row4 col14\" >7.12688295859376</td>\n",
              "                        <td id=\"T_319f1554_9149_11e9_a907_0242ac1c0002row4_col15\" class=\"data row4 col15\" >10.5267660517847</td>\n",
              "                        <td id=\"T_319f1554_9149_11e9_a907_0242ac1c0002row4_col16\" class=\"data row4 col16\" >8.87774159774277</td>\n",
              "                        <td id=\"T_319f1554_9149_11e9_a907_0242ac1c0002row4_col17\" class=\"data row4 col17\" >17.3151115176278</td>\n",
              "                        <td id=\"T_319f1554_9149_11e9_a907_0242ac1c0002row4_col18\" class=\"data row4 col18\" >9.25352625047285</td>\n",
              "                        <td id=\"T_319f1554_9149_11e9_a907_0242ac1c0002row4_col19\" class=\"data row4 col19\" >5.04106918541184</td>\n",
              "                        <td id=\"T_319f1554_9149_11e9_a907_0242ac1c0002row4_col20\" class=\"data row4 col20\" >5.59197142733558</td>\n",
              "                        <td id=\"T_319f1554_9149_11e9_a907_0242ac1c0002row4_col21\" class=\"data row4 col21\" >39.4209042482199</td>\n",
              "                        <td id=\"T_319f1554_9149_11e9_a907_0242ac1c0002row4_col22\" class=\"data row4 col22\" >27.2028391573154</td>\n",
              "                        <td id=\"T_319f1554_9149_11e9_a907_0242ac1c0002row4_col23\" class=\"data row4 col23\" >10.5030900899454</td>\n",
              "                        <td id=\"T_319f1554_9149_11e9_a907_0242ac1c0002row4_col24\" class=\"data row4 col24\" >22.5284116897749</td>\n",
              "                        <td id=\"T_319f1554_9149_11e9_a907_0242ac1c0002row4_col25\" class=\"data row4 col25\" >4.58454913689817</td>\n",
              "                        <td id=\"T_319f1554_9149_11e9_a907_0242ac1c0002row4_col26\" class=\"data row4 col26\" >7.51958867870916</td>\n",
              "                        <td id=\"T_319f1554_9149_11e9_a907_0242ac1c0002row4_col27\" class=\"data row4 col27\" >3.5173456116238</td>\n",
              "                        <td id=\"T_319f1554_9149_11e9_a907_0242ac1c0002row4_col28\" class=\"data row4 col28\" >31.6121981061363</td>\n",
              "                        <td id=\"T_319f1554_9149_11e9_a907_0242ac1c0002row4_col29\" class=\"data row4 col29\" >33.8478078188831</td>\n",
              "                        <td id=\"T_319f1554_9149_11e9_a907_0242ac1c0002row4_col30\" class=\"data row4 col30\" >25691.16</td>\n",
              "                        <td id=\"T_319f1554_9149_11e9_a907_0242ac1c0002row4_col31\" class=\"data row4 col31\" >1</td>\n",
              "            </tr>\n",
              "    </tbody></table>"
            ],
            "text/plain": [
              "<pandas.io.formats.style.Styler at 0x7fea24a79860>"
            ]
          },
          "metadata": {
            "tags": []
          },
          "execution_count": 11
        }
      ]
    },
    {
      "cell_type": "code",
      "metadata": {
        "id": "Wklef_yyS1nq",
        "colab": {
          "base_uri": "https://localhost:8080/",
          "height": 78
        },
        "outputId": "e7ebbafb-e697-4661-939f-ccdb7087424e"
      },
      "source": [
        "#check missing values for each column\n",
        "from pyspark.sql.functions import isnan, when, count, col\n",
        "\n",
        "df.select([count(when(isnan(column), column)).alias('MV') for column in df.columns]).toPandas()"
      ],
      "execution_count": null,
      "outputs": [
        {
          "output_type": "execute_result",
          "data": {
            "text/html": [
              "<div>\n",
              "<style scoped>\n",
              "    .dataframe tbody tr th:only-of-type {\n",
              "        vertical-align: middle;\n",
              "    }\n",
              "\n",
              "    .dataframe tbody tr th {\n",
              "        vertical-align: top;\n",
              "    }\n",
              "\n",
              "    .dataframe thead th {\n",
              "        text-align: right;\n",
              "    }\n",
              "</style>\n",
              "<table border=\"1\" class=\"dataframe\">\n",
              "  <thead>\n",
              "    <tr style=\"text-align: right;\">\n",
              "      <th></th>\n",
              "      <th>MV</th>\n",
              "      <th>MV</th>\n",
              "      <th>MV</th>\n",
              "      <th>MV</th>\n",
              "      <th>MV</th>\n",
              "      <th>MV</th>\n",
              "      <th>MV</th>\n",
              "      <th>MV</th>\n",
              "      <th>MV</th>\n",
              "      <th>MV</th>\n",
              "      <th>MV</th>\n",
              "      <th>MV</th>\n",
              "      <th>MV</th>\n",
              "      <th>MV</th>\n",
              "      <th>MV</th>\n",
              "      <th>MV</th>\n",
              "      <th>MV</th>\n",
              "      <th>MV</th>\n",
              "      <th>MV</th>\n",
              "      <th>MV</th>\n",
              "      <th>MV</th>\n",
              "      <th>MV</th>\n",
              "      <th>MV</th>\n",
              "      <th>MV</th>\n",
              "      <th>MV</th>\n",
              "      <th>MV</th>\n",
              "      <th>MV</th>\n",
              "      <th>MV</th>\n",
              "      <th>MV</th>\n",
              "      <th>MV</th>\n",
              "      <th>MV</th>\n",
              "    </tr>\n",
              "  </thead>\n",
              "  <tbody>\n",
              "    <tr>\n",
              "      <th>0</th>\n",
              "      <td>0</td>\n",
              "      <td>0</td>\n",
              "      <td>0</td>\n",
              "      <td>0</td>\n",
              "      <td>0</td>\n",
              "      <td>0</td>\n",
              "      <td>0</td>\n",
              "      <td>0</td>\n",
              "      <td>0</td>\n",
              "      <td>0</td>\n",
              "      <td>0</td>\n",
              "      <td>0</td>\n",
              "      <td>0</td>\n",
              "      <td>0</td>\n",
              "      <td>0</td>\n",
              "      <td>0</td>\n",
              "      <td>0</td>\n",
              "      <td>0</td>\n",
              "      <td>0</td>\n",
              "      <td>0</td>\n",
              "      <td>0</td>\n",
              "      <td>0</td>\n",
              "      <td>0</td>\n",
              "      <td>0</td>\n",
              "      <td>0</td>\n",
              "      <td>0</td>\n",
              "      <td>0</td>\n",
              "      <td>0</td>\n",
              "      <td>0</td>\n",
              "      <td>0</td>\n",
              "      <td>0</td>\n",
              "    </tr>\n",
              "  </tbody>\n",
              "</table>\n",
              "</div>"
            ],
            "text/plain": [
              "   MV  MV  MV  MV  MV  MV  MV  MV  MV  ...  MV  MV  MV  MV  MV  MV  MV  MV  MV\n",
              "0   0   0   0   0   0   0   0   0   0  ...   0   0   0   0   0   0   0   0   0\n",
              "\n",
              "[1 rows x 31 columns]"
            ]
          },
          "metadata": {
            "tags": []
          },
          "execution_count": 13
        }
      ]
    },
    {
      "cell_type": "code",
      "metadata": {
        "id": "8Dw78pIhHYeC",
        "colab": {
          "base_uri": "https://localhost:8080/",
          "height": 78
        },
        "outputId": "5a35dde1-e7b4-4604-bf23-fbfc747ddc77"
      },
      "source": [
        "#Lets Check the distribution of the class feature. Note  0 = No Fraud, while 1 = Fraud\n",
        "df.groupby('label').count().toPandas().style.hide_index().set_properties(**{'background-color': 'lightgrey', 'color': 'Black','border-color': 'white', \"text-align\" : \"right\"})"
      ],
      "execution_count": null,
      "outputs": [
        {
          "output_type": "execute_result",
          "data": {
            "text/html": [
              "<style  type=\"text/css\" >\n",
              "    #T_51aa98f0_9149_11e9_a907_0242ac1c0002row0_col0 {\n",
              "            background-color:  lightgrey;\n",
              "            color:  Black;\n",
              "            border-color:  white;\n",
              "            text-align:  right;\n",
              "        }    #T_51aa98f0_9149_11e9_a907_0242ac1c0002row0_col1 {\n",
              "            background-color:  lightgrey;\n",
              "            color:  Black;\n",
              "            border-color:  white;\n",
              "            text-align:  right;\n",
              "        }    #T_51aa98f0_9149_11e9_a907_0242ac1c0002row1_col0 {\n",
              "            background-color:  lightgrey;\n",
              "            color:  Black;\n",
              "            border-color:  white;\n",
              "            text-align:  right;\n",
              "        }    #T_51aa98f0_9149_11e9_a907_0242ac1c0002row1_col1 {\n",
              "            background-color:  lightgrey;\n",
              "            color:  Black;\n",
              "            border-color:  white;\n",
              "            text-align:  right;\n",
              "        }</style><table id=\"T_51aa98f0_9149_11e9_a907_0242ac1c0002\" ><thead>    <tr>        <th class=\"col_heading level0 col0\" >label</th>        <th class=\"col_heading level0 col1\" >count</th>    </tr></thead><tbody>\n",
              "                <tr>\n",
              "                                <td id=\"T_51aa98f0_9149_11e9_a907_0242ac1c0002row0_col0\" class=\"data row0 col0\" >1</td>\n",
              "                        <td id=\"T_51aa98f0_9149_11e9_a907_0242ac1c0002row0_col1\" class=\"data row0 col1\" >492</td>\n",
              "            </tr>\n",
              "            <tr>\n",
              "                                <td id=\"T_51aa98f0_9149_11e9_a907_0242ac1c0002row1_col0\" class=\"data row1 col0\" >0</td>\n",
              "                        <td id=\"T_51aa98f0_9149_11e9_a907_0242ac1c0002row1_col1\" class=\"data row1 col1\" >284315</td>\n",
              "            </tr>\n",
              "    </tbody></table>"
            ],
            "text/plain": [
              "<pandas.io.formats.style.Styler at 0x7fea20d95a90>"
            ]
          },
          "metadata": {
            "tags": []
          },
          "execution_count": 14
        }
      ]
    },
    {
      "cell_type": "markdown",
      "metadata": {
        "id": "uUdaVhdBKMf9"
      },
      "source": [
        "###Unbalanced Class Problem\n",
        "As you can see above, the fraud class (1) is only 492 records out to the 284315. This is a unbalanced class situation."
      ]
    },
    {
      "cell_type": "code",
      "metadata": {
        "id": "lfdSw1iIU8Sz",
        "colab": {
          "base_uri": "https://localhost:8080/",
          "height": 35
        },
        "outputId": "13e9d14f-0968-4be4-fca6-b46315f2982b"
      },
      "source": [
        "#Split the data train vs test\n",
        "\n",
        "weights = [.8, .2]  #80% Train, 20% Test given the unbalanced nature of the data\n",
        "seed = 42\n",
        "dfTrain, dfTest = df.randomSplit(weights, seed)\n",
        "dfTrain.cache(), dfTest.cache()  #IMPORTANT TO CACHE!!!!\n",
        "print('The Train count is', dfTrain.count(), 'and the Test count is', dfTest.count())"
      ],
      "execution_count": null,
      "outputs": [
        {
          "output_type": "stream",
          "text": [
            "The Train count is 228135 and the Test count is 56672\n"
          ],
          "name": "stdout"
        }
      ]
    },
    {
      "cell_type": "markdown",
      "metadata": {
        "id": "HKd_Qeg3U5gn"
      },
      "source": [
        "# Running A Model On the Unbalanced Data"
      ]
    },
    {
      "cell_type": "code",
      "metadata": {
        "id": "4ziDdkrCViON"
      },
      "source": [
        "#Logistic Regression Model\n",
        "from pyspark.ml.classification import LogisticRegression\n",
        "lr = LogisticRegression().setLabelCol(\"label\")\n",
        "paramMap = {lr.maxIter: 10, lr.regParam: .1, lr.elasticNetParam: 0.01}"
      ],
      "execution_count": null,
      "outputs": []
    },
    {
      "cell_type": "code",
      "metadata": {
        "id": "0SdyZaSfWEUe"
      },
      "source": [
        "#All our features are numberical, we can use VectorAssembler right away to create a feature vector that Spark needs\n",
        "\n",
        "from pyspark.ml.feature import VectorAssembler\n",
        "\n",
        "#assemble our features\n",
        "IntFeat = df.columns[1:31]\n",
        "assembler = VectorAssembler(inputCols= IntFeat, outputCol = \"features\")"
      ],
      "execution_count": null,
      "outputs": []
    },
    {
      "cell_type": "code",
      "metadata": {
        "id": "YHYRWyZrYKSq"
      },
      "source": [
        "#Define a pipeline\n",
        "from pyspark.ml import Pipeline\n",
        "pipeline = Pipeline(stages=[assembler] + [lr])\n",
        "model_Train = pipeline.fit(dfTrain, paramMap)"
      ],
      "execution_count": null,
      "outputs": []
    },
    {
      "cell_type": "code",
      "metadata": {
        "id": "AJV500eFZC92"
      },
      "source": [
        "#run the model on the Test Data (holdout)\n",
        "\n",
        "output = model_Train.transform(dfTest).select(\"features\",\"label\", \"prediction\", \"rawPrediction\", \"probability\")\n",
        "prediction = output.select(\"label\", \"prediction\", \"rawPrediction\", )"
      ],
      "execution_count": null,
      "outputs": []
    },
    {
      "cell_type": "code",
      "metadata": {
        "id": "wz-rxYGwb_Cu",
        "colab": {
          "base_uri": "https://localhost:8080/",
          "height": 35
        },
        "outputId": "fd7d5767-a834-4ece-f48e-04f78c0fa43b"
      },
      "source": [
        "from pyspark.ml.evaluation import MulticlassClassificationEvaluator\n",
        "\n",
        "evaluator = MulticlassClassificationEvaluator(predictionCol='prediction', labelCol='label', metricName='accuracy')\n",
        "metric = evaluator.evaluate(prediction)\n",
        "print(\"Accuracy = %s\" % metric)"
      ],
      "execution_count": null,
      "outputs": [
        {
          "output_type": "stream",
          "text": [
            "Accuracy = 0.9987648221343873\n"
          ],
          "name": "stdout"
        }
      ]
    },
    {
      "cell_type": "markdown",
      "metadata": {
        "id": "HkSGICWplyou"
      },
      "source": [
        "#### ANALYSIS\n",
        "\n",
        "Keep in mind, given the unbalanced class, a high accuracy means the model is good at predicting the non fraud class, but what about the fraud class? Let's run some more statistics and a confusion matrix."
      ]
    },
    {
      "cell_type": "code",
      "metadata": {
        "id": "fAH59ucIgSr7",
        "colab": {
          "base_uri": "https://localhost:8080/",
          "height": 70
        },
        "outputId": "10edef7a-b4f8-4d6b-e44d-f26284aaa4ed"
      },
      "source": [
        "#Metrics\n",
        "from pyspark.mllib.evaluation import BinaryClassificationMetrics\n",
        "predRDD = prediction.select('label', 'prediction').withColumn(\"label\", prediction.label.cast('float')).rdd\n",
        "metrics = BinaryClassificationMetrics(predRDD)\n",
        "\n",
        "print(\"Summary Stats:\")\n",
        "print(\"Area Under Precision Recall = %s\" %  metrics.areaUnderPR)\n",
        "print(\"Area Under ROC = %s\" % metrics.areaUnderROC)"
      ],
      "execution_count": null,
      "outputs": [
        {
          "output_type": "stream",
          "text": [
            "Summary Stats:\n",
            "Area Under Precision Recall = 0.34579439252336447\n",
            "Area Under ROC = 0.9993820075924781\n"
          ],
          "name": "stdout"
        }
      ]
    },
    {
      "cell_type": "code",
      "metadata": {
        "id": "Ps-fCCk5X0oE",
        "colab": {
          "base_uri": "https://localhost:8080/",
          "height": 78
        },
        "outputId": "096372f2-88c5-4042-8ed6-4072004956fc"
      },
      "source": [
        "#The above scores for accuracy and Area Under ROC look good, however, when we look at Area Under PR, the results are quite poor.\n",
        "#This is not a suprise when your classes are heavily unbalanced. Looking at the actual Class vs predected class.\n",
        "#This model only classifies only 30% of true fraud cases. We can do better.\n",
        "\n",
        "prediction.crosstab(\"label\", 'prediction').\\\n",
        "toPandas().style.hide_index().set_properties(**{'background-color': 'lightgrey', 'color': 'Black','border-color': 'white', \"text-align\" : \"right\"})"
      ],
      "execution_count": null,
      "outputs": [
        {
          "output_type": "execute_result",
          "data": {
            "text/html": [
              "<style  type=\"text/css\" >\n",
              "    #T_7a940aa8_9149_11e9_a907_0242ac1c0002row0_col0 {\n",
              "            background-color:  lightgrey;\n",
              "            color:  Black;\n",
              "            border-color:  white;\n",
              "            text-align:  right;\n",
              "        }    #T_7a940aa8_9149_11e9_a907_0242ac1c0002row0_col1 {\n",
              "            background-color:  lightgrey;\n",
              "            color:  Black;\n",
              "            border-color:  white;\n",
              "            text-align:  right;\n",
              "        }    #T_7a940aa8_9149_11e9_a907_0242ac1c0002row0_col2 {\n",
              "            background-color:  lightgrey;\n",
              "            color:  Black;\n",
              "            border-color:  white;\n",
              "            text-align:  right;\n",
              "        }    #T_7a940aa8_9149_11e9_a907_0242ac1c0002row1_col0 {\n",
              "            background-color:  lightgrey;\n",
              "            color:  Black;\n",
              "            border-color:  white;\n",
              "            text-align:  right;\n",
              "        }    #T_7a940aa8_9149_11e9_a907_0242ac1c0002row1_col1 {\n",
              "            background-color:  lightgrey;\n",
              "            color:  Black;\n",
              "            border-color:  white;\n",
              "            text-align:  right;\n",
              "        }    #T_7a940aa8_9149_11e9_a907_0242ac1c0002row1_col2 {\n",
              "            background-color:  lightgrey;\n",
              "            color:  Black;\n",
              "            border-color:  white;\n",
              "            text-align:  right;\n",
              "        }</style><table id=\"T_7a940aa8_9149_11e9_a907_0242ac1c0002\" ><thead>    <tr>        <th class=\"col_heading level0 col0\" >label_prediction</th>        <th class=\"col_heading level0 col1\" >0.0</th>        <th class=\"col_heading level0 col2\" >1.0</th>    </tr></thead><tbody>\n",
              "                <tr>\n",
              "                                <td id=\"T_7a940aa8_9149_11e9_a907_0242ac1c0002row0_col0\" class=\"data row0 col0\" >1</td>\n",
              "                        <td id=\"T_7a940aa8_9149_11e9_a907_0242ac1c0002row0_col1\" class=\"data row0 col1\" >70</td>\n",
              "                        <td id=\"T_7a940aa8_9149_11e9_a907_0242ac1c0002row0_col2\" class=\"data row0 col2\" >37</td>\n",
              "            </tr>\n",
              "            <tr>\n",
              "                                <td id=\"T_7a940aa8_9149_11e9_a907_0242ac1c0002row1_col0\" class=\"data row1 col0\" >0</td>\n",
              "                        <td id=\"T_7a940aa8_9149_11e9_a907_0242ac1c0002row1_col1\" class=\"data row1 col1\" >56565</td>\n",
              "                        <td id=\"T_7a940aa8_9149_11e9_a907_0242ac1c0002row1_col2\" class=\"data row1 col2\" >0</td>\n",
              "            </tr>\n",
              "    </tbody></table>"
            ],
            "text/plain": [
              "<pandas.io.formats.style.Styler at 0x7fea1cbd26a0>"
            ]
          },
          "metadata": {
            "tags": []
          },
          "execution_count": 22
        }
      ]
    },
    {
      "cell_type": "markdown",
      "metadata": {
        "id": "Y-3IzxGAm4Xq"
      },
      "source": [
        "#### ANALYSIS\n",
        "As you can see above, auPR is quite low, while auROC is quite high. This is not unusual when the classes are unbalanced. Taking a look at the confusion matrix, only 37 out of 107 of fraud cases were classified correctly. Not exactly great performance. The model did correctly classify all the non-fraud cases. Given that the point of this exercise is to detect fraud cases, that is not very helpful."
      ]
    },
    {
      "cell_type": "markdown",
      "metadata": {
        "id": "-MQaGcUcaju_"
      },
      "source": [
        "# Running A Model On a More Balanced Dataset"
      ]
    },
    {
      "cell_type": "markdown",
      "metadata": {
        "id": "amCCGHnpKurX"
      },
      "source": [
        "###What to do about Unbalanced Class problem?\n",
        "In general, there are a number of things you can do to help aleviate the problem of unbalanced classes such as trying different algorithms, collecting more data, sub-sampling the majority class, over-sampling the minority class, etc... In this example, we are going to over-weight the loss function towards the minority class, known fraud cases. This should provide a more robust model. The function below was inspired by the following post...\n",
        "\n",
        "https://stackoverflow.com/questions/33372838/dealing-with-unbalanced-datasets-in-spark-mllib"
      ]
    },
    {
      "cell_type": "code",
      "metadata": {
        "id": "h-FscmthjYD8"
      },
      "source": [
        "#Lets increase the balance among classes\n",
        "\n",
        "#from pyspark.sql.functions import udf\n",
        "\n",
        "def balanceDataset(DataFrame, String = \"label\"):\n",
        "  datasetSize= DataFrame.count()                                       \n",
        "  positives = DataFrame.filter(dfTrain.label == 1).count()\n",
        "  balancingRatio = positives/datasetSize\n",
        "  weighteddfTrain = DataFrame.withColumn(\"classWeightCol\", (when(col(\"label\") == 1, 1 - balancingRatio).otherwise(balancingRatio)))\n",
        "  return weighteddfTrain\n",
        "  \n",
        "#spark.udf.register(\"BalanceDataset\", balanceDataset)  "
      ],
      "execution_count": null,
      "outputs": []
    },
    {
      "cell_type": "code",
      "metadata": {
        "id": "X9AoyDsskXJp"
      },
      "source": [
        "from pyspark.sql.functions import isnan, when, count, col\n",
        "\n",
        "weightedDatasetdf= balanceDataset(dfTrain)"
      ],
      "execution_count": null,
      "outputs": []
    },
    {
      "cell_type": "code",
      "metadata": {
        "id": "You20P3TXj_U"
      },
      "source": [
        "#Logistic Regression Model\n",
        "from pyspark.ml.classification import LogisticRegression\n",
        "lr = LogisticRegression().setWeightCol('classWeightCol').setLabelCol(\"label\")\n",
        "#paramMap = {lr.maxIter: 10, lr.regParam: .1, lr.elasticNetParam: 0.01}\n",
        "paramMap = {lr.maxIter: 5, lr.regParam: .01, lr.elasticNetParam: 0.1}"
      ],
      "execution_count": null,
      "outputs": []
    },
    {
      "cell_type": "code",
      "metadata": {
        "id": "LCTJ4kObobHD"
      },
      "source": [
        "#All our features are numberical, we can use VectorAssembler right away to create a feature vector that Spark needs\n",
        "\n",
        "from pyspark.ml.feature import VectorAssembler\n",
        "\n",
        "#assemble our features\n",
        "IntFeat = weightedDatasetdf.columns[1:30]\n",
        "assembler = VectorAssembler(inputCols= IntFeat, outputCol = \"features\")"
      ],
      "execution_count": null,
      "outputs": []
    },
    {
      "cell_type": "code",
      "metadata": {
        "id": "s9RuWvsaogsj"
      },
      "source": [
        "#Define a pipeline\n",
        "from pyspark.ml import Pipeline\n",
        "pipeline = Pipeline(stages=[assembler] + [lr])\n",
        "model_Train = pipeline.fit(weightedDatasetdf, paramMap)"
      ],
      "execution_count": null,
      "outputs": []
    },
    {
      "cell_type": "code",
      "metadata": {
        "id": "VNbDnHm5ozO8"
      },
      "source": [
        "#run the model on the Test Data (holdout)\n",
        "weightedDatasetdftest= balanceDataset(dfTest)\n",
        "\n",
        "output = model_Train.transform(weightedDatasetdftest).select(\"features\",\"label\", \"prediction\", \"rawPrediction\", \"probability\")\n",
        "prediction = output.select(\"label\", \"prediction\")"
      ],
      "execution_count": null,
      "outputs": []
    },
    {
      "cell_type": "code",
      "metadata": {
        "id": "mlZQ8X_OtmYe",
        "colab": {
          "base_uri": "https://localhost:8080/",
          "height": 35
        },
        "outputId": "745af5be-ef4b-432f-c461-4c5597f8306d"
      },
      "source": [
        "from pyspark.ml.evaluation import MulticlassClassificationEvaluator\n",
        "\n",
        "evaluator = MulticlassClassificationEvaluator(predictionCol='prediction', labelCol='label', metricName='accuracy')\n",
        "metric = evaluator.evaluate(prediction)\n",
        "print(\"Accuracy = %s\" % metric)"
      ],
      "execution_count": null,
      "outputs": [
        {
          "output_type": "stream",
          "text": [
            "Accuracy = 0.9945475719932242\n"
          ],
          "name": "stdout"
        }
      ]
    },
    {
      "cell_type": "code",
      "metadata": {
        "id": "m1qoe9KEs-8B",
        "colab": {
          "base_uri": "https://localhost:8080/",
          "height": 70
        },
        "outputId": "383ba359-4861-437a-dca4-e1dbd5bd7ac4"
      },
      "source": [
        "#Metrics\n",
        "from pyspark.mllib.evaluation import BinaryClassificationMetrics\n",
        "predRDD = prediction.select('label', 'prediction').withColumn(\"label\", prediction.label.cast('float')).rdd\n",
        "metrics = BinaryClassificationMetrics(predRDD)\n",
        "\n",
        "print(\"Summary Stats:\")\n",
        "print(\"Area Under Precision Recall = %s\" %  metrics.areaUnderPR)\n",
        "print(\"Area Under ROC = %s\" % metrics.areaUnderROC)"
      ],
      "execution_count": null,
      "outputs": [
        {
          "output_type": "stream",
          "text": [
            "Summary Stats:\n",
            "Area Under Precision Recall = 0.5413467948775839\n",
            "Area Under ROC = 0.6197209915546122\n"
          ],
          "name": "stdout"
        }
      ]
    },
    {
      "cell_type": "code",
      "metadata": {
        "id": "uDYuaK_NtB27",
        "colab": {
          "base_uri": "https://localhost:8080/",
          "height": 78
        },
        "outputId": "5bff0c06-e99f-421a-e347-0124c11957f3"
      },
      "source": [
        "prediction.crosstab(\"label\", 'prediction').\\\n",
        "toPandas().style.hide_index().set_properties(**{'background-color': 'lightgrey', 'color': 'Black','border-color': 'white', \"text-align\" : \"right\"})"
      ],
      "execution_count": null,
      "outputs": [
        {
          "output_type": "execute_result",
          "data": {
            "text/html": [
              "<style  type=\"text/css\" >\n",
              "    #T_d5ff1cb6_9149_11e9_a907_0242ac1c0002row0_col0 {\n",
              "            background-color:  lightgrey;\n",
              "            color:  Black;\n",
              "            border-color:  white;\n",
              "            text-align:  right;\n",
              "        }    #T_d5ff1cb6_9149_11e9_a907_0242ac1c0002row0_col1 {\n",
              "            background-color:  lightgrey;\n",
              "            color:  Black;\n",
              "            border-color:  white;\n",
              "            text-align:  right;\n",
              "        }    #T_d5ff1cb6_9149_11e9_a907_0242ac1c0002row0_col2 {\n",
              "            background-color:  lightgrey;\n",
              "            color:  Black;\n",
              "            border-color:  white;\n",
              "            text-align:  right;\n",
              "        }    #T_d5ff1cb6_9149_11e9_a907_0242ac1c0002row1_col0 {\n",
              "            background-color:  lightgrey;\n",
              "            color:  Black;\n",
              "            border-color:  white;\n",
              "            text-align:  right;\n",
              "        }    #T_d5ff1cb6_9149_11e9_a907_0242ac1c0002row1_col1 {\n",
              "            background-color:  lightgrey;\n",
              "            color:  Black;\n",
              "            border-color:  white;\n",
              "            text-align:  right;\n",
              "        }    #T_d5ff1cb6_9149_11e9_a907_0242ac1c0002row1_col2 {\n",
              "            background-color:  lightgrey;\n",
              "            color:  Black;\n",
              "            border-color:  white;\n",
              "            text-align:  right;\n",
              "        }</style><table id=\"T_d5ff1cb6_9149_11e9_a907_0242ac1c0002\" ><thead>    <tr>        <th class=\"col_heading level0 col0\" >label_prediction</th>        <th class=\"col_heading level0 col1\" >0.0</th>        <th class=\"col_heading level0 col2\" >1.0</th>    </tr></thead><tbody>\n",
              "                <tr>\n",
              "                                <td id=\"T_d5ff1cb6_9149_11e9_a907_0242ac1c0002row0_col0\" class=\"data row0 col0\" >1</td>\n",
              "                        <td id=\"T_d5ff1cb6_9149_11e9_a907_0242ac1c0002row0_col1\" class=\"data row0 col1\" >14</td>\n",
              "                        <td id=\"T_d5ff1cb6_9149_11e9_a907_0242ac1c0002row0_col2\" class=\"data row0 col2\" >93</td>\n",
              "            </tr>\n",
              "            <tr>\n",
              "                                <td id=\"T_d5ff1cb6_9149_11e9_a907_0242ac1c0002row1_col0\" class=\"data row1 col0\" >0</td>\n",
              "                        <td id=\"T_d5ff1cb6_9149_11e9_a907_0242ac1c0002row1_col1\" class=\"data row1 col1\" >56270</td>\n",
              "                        <td id=\"T_d5ff1cb6_9149_11e9_a907_0242ac1c0002row1_col2\" class=\"data row1 col2\" >295</td>\n",
              "            </tr>\n",
              "    </tbody></table>"
            ],
            "text/plain": [
              "<pandas.io.formats.style.Styler at 0x7fea18e539e8>"
            ]
          },
          "metadata": {
            "tags": []
          },
          "execution_count": 31
        }
      ]
    },
    {
      "cell_type": "markdown",
      "metadata": {
        "id": "OD4eXuBpJaA0"
      },
      "source": [
        "####ANALYSIS\n",
        "\n",
        "Over-weighting the loss function to the fraud cases in the logisitc regression model significantly improves our accuracy with respect to the fraud class. AuPR jumps to .61 from .53. All good results. Can we further improve the model by using cross validation and a grid search for hyperparamters?"
      ]
    },
    {
      "cell_type": "markdown",
      "metadata": {
        "id": "PjV15t1-KEvR"
      },
      "source": [
        "# Adding Cross-Validation and Grid Search for Hyperparameters"
      ]
    },
    {
      "cell_type": "code",
      "metadata": {
        "id": "oV46MAlpuAYI"
      },
      "source": [
        "from pyspark.ml.tuning import CrossValidator, ParamGridBuilder\n",
        "from  pyspark.ml.evaluation import BinaryClassificationEvaluator\n",
        "\n",
        "#assemble our features\n",
        "\n",
        "cvevaluator = BinaryClassificationEvaluator(metricName = 'areaUnderPR')  #can select metric to evaluate\n",
        "cvparamGrid = ParamGridBuilder().addGrid(lr.maxIter, [1]).addGrid(lr.regParam, [.001, .005, .01, .09])\\\n",
        ".addGrid(lr.elasticNetParam, [.0001, .01, .02, .03]).build()\n",
        "\n",
        "numFolds=2\n",
        "\n",
        "crossval = CrossValidator(\n",
        "    estimator=pipeline,\n",
        "    estimatorParamMaps=cvparamGrid,\n",
        "    evaluator=cvevaluator,\n",
        "    numFolds=numFolds)\n",
        "\n",
        "cvModel = crossval.fit(weightedDatasetdf)\n",
        "\n",
        "#cvPrediction = cvModel.transform(weightedDatasetdftest).select(\"label\", \"prediction\")\n",
        "cvPrediction = cvModel.transform(weightedDatasetdftest).select(\"label\", \"prediction\")\n",
        "\n",
        "#Note: Automatically selects best model, if you would like to see bestmodel then:\n",
        "bestModel = cvModel.bestModel"
      ],
      "execution_count": null,
      "outputs": []
    },
    {
      "cell_type": "code",
      "metadata": {
        "id": "Q8cYUJlmPW3e",
        "colab": {
          "base_uri": "https://localhost:8080/",
          "height": 35
        },
        "outputId": "4e5a84c8-c2ec-4781-f6d9-0d883d8b7dac"
      },
      "source": [
        "cvPrediction = output.select(\"label\", \"prediction\")\n",
        "\n",
        "from pyspark.ml.evaluation import MulticlassClassificationEvaluator\n",
        "\n",
        "evaluator = MulticlassClassificationEvaluator(predictionCol='prediction', labelCol='label', metricName='accuracy')\n",
        "metric = evaluator.evaluate(cvPrediction)\n",
        "print(\"Accuracy = %s\" % metric)"
      ],
      "execution_count": null,
      "outputs": [
        {
          "output_type": "stream",
          "text": [
            "Accuracy = 0.9945475719932242\n"
          ],
          "name": "stdout"
        }
      ]
    },
    {
      "cell_type": "code",
      "metadata": {
        "id": "7U5oVsqnNQ9u",
        "colab": {
          "base_uri": "https://localhost:8080/",
          "height": 70
        },
        "outputId": "439ebde2-fa7b-4dab-bf1a-c70b98e106b3"
      },
      "source": [
        "#Metrics\n",
        "from pyspark.mllib.evaluation import BinaryClassificationMetrics\n",
        "predRDD = cvPrediction.select('label', 'prediction').withColumn(\"label\", cvPrediction.label.cast('float')).rdd\n",
        "metrics = BinaryClassificationMetrics(predRDD)\n",
        "\n",
        "print(\"Summary Stats:\")\n",
        "print(\"Area Under Presion Recall = %s\" %  metrics.areaUnderPR)\n",
        "print(\"Area Under ROC = %s\" % metrics.areaUnderROC)"
      ],
      "execution_count": null,
      "outputs": [
        {
          "output_type": "stream",
          "text": [
            "Summary Stats:\n",
            "Area Under Presion Recall = 0.5413467948775839\n",
            "Area Under ROC = 0.6197209915546122\n"
          ],
          "name": "stdout"
        }
      ]
    },
    {
      "cell_type": "code",
      "metadata": {
        "id": "Y3K7MT1oP8GN",
        "colab": {
          "base_uri": "https://localhost:8080/",
          "height": 78
        },
        "outputId": "d4c76fb3-b67f-4095-f777-d66766cbb115"
      },
      "source": [
        "cvPrediction.crosstab(\"label\", 'prediction').\\\n",
        "toPandas().style.hide_index().set_properties(**{'background-color': 'lightgrey', 'color': 'Black','border-color': 'white', \"text-align\" : \"right\"})"
      ],
      "execution_count": null,
      "outputs": [
        {
          "output_type": "execute_result",
          "data": {
            "text/html": [
              "<style  type=\"text/css\" >\n",
              "    #T_5f06d260_914a_11e9_a907_0242ac1c0002row0_col0 {\n",
              "            background-color:  lightgrey;\n",
              "            color:  Black;\n",
              "            border-color:  white;\n",
              "            text-align:  right;\n",
              "        }    #T_5f06d260_914a_11e9_a907_0242ac1c0002row0_col1 {\n",
              "            background-color:  lightgrey;\n",
              "            color:  Black;\n",
              "            border-color:  white;\n",
              "            text-align:  right;\n",
              "        }    #T_5f06d260_914a_11e9_a907_0242ac1c0002row0_col2 {\n",
              "            background-color:  lightgrey;\n",
              "            color:  Black;\n",
              "            border-color:  white;\n",
              "            text-align:  right;\n",
              "        }    #T_5f06d260_914a_11e9_a907_0242ac1c0002row1_col0 {\n",
              "            background-color:  lightgrey;\n",
              "            color:  Black;\n",
              "            border-color:  white;\n",
              "            text-align:  right;\n",
              "        }    #T_5f06d260_914a_11e9_a907_0242ac1c0002row1_col1 {\n",
              "            background-color:  lightgrey;\n",
              "            color:  Black;\n",
              "            border-color:  white;\n",
              "            text-align:  right;\n",
              "        }    #T_5f06d260_914a_11e9_a907_0242ac1c0002row1_col2 {\n",
              "            background-color:  lightgrey;\n",
              "            color:  Black;\n",
              "            border-color:  white;\n",
              "            text-align:  right;\n",
              "        }</style><table id=\"T_5f06d260_914a_11e9_a907_0242ac1c0002\" ><thead>    <tr>        <th class=\"col_heading level0 col0\" >label_prediction</th>        <th class=\"col_heading level0 col1\" >0.0</th>        <th class=\"col_heading level0 col2\" >1.0</th>    </tr></thead><tbody>\n",
              "                <tr>\n",
              "                                <td id=\"T_5f06d260_914a_11e9_a907_0242ac1c0002row0_col0\" class=\"data row0 col0\" >1</td>\n",
              "                        <td id=\"T_5f06d260_914a_11e9_a907_0242ac1c0002row0_col1\" class=\"data row0 col1\" >14</td>\n",
              "                        <td id=\"T_5f06d260_914a_11e9_a907_0242ac1c0002row0_col2\" class=\"data row0 col2\" >93</td>\n",
              "            </tr>\n",
              "            <tr>\n",
              "                                <td id=\"T_5f06d260_914a_11e9_a907_0242ac1c0002row1_col0\" class=\"data row1 col0\" >0</td>\n",
              "                        <td id=\"T_5f06d260_914a_11e9_a907_0242ac1c0002row1_col1\" class=\"data row1 col1\" >56270</td>\n",
              "                        <td id=\"T_5f06d260_914a_11e9_a907_0242ac1c0002row1_col2\" class=\"data row1 col2\" >295</td>\n",
              "            </tr>\n",
              "    </tbody></table>"
            ],
            "text/plain": [
              "<pandas.io.formats.style.Styler at 0x7fea20db12e8>"
            ]
          },
          "metadata": {
            "tags": []
          },
          "execution_count": 35
        }
      ]
    },
    {
      "cell_type": "code",
      "metadata": {
        "id": "LhDk11xgQYay",
        "colab": {
          "base_uri": "https://localhost:8080/",
          "height": 303
        },
        "outputId": "5eb9dafc-0d17-48c0-f34d-5cef86190630"
      },
      "source": [
        "#Look at the parameters for the best model\n",
        "\n",
        "bestParam = bestModel.stages[1].extractParamMap()\n",
        "bestParam"
      ],
      "execution_count": null,
      "outputs": [
        {
          "output_type": "execute_result",
          "data": {
            "text/plain": [
              "{Param(parent='LogisticRegression_63cbaba1add4', name='aggregationDepth', doc='suggested depth for treeAggregate (>= 2)'): 2,\n",
              " Param(parent='LogisticRegression_63cbaba1add4', name='elasticNetParam', doc='the ElasticNet mixing parameter, in range [0, 1]. For alpha = 0, the penalty is an L2 penalty. For alpha = 1, it is an L1 penalty'): 0.03,\n",
              " Param(parent='LogisticRegression_63cbaba1add4', name='family', doc='The name of family which is a description of the label distribution to be used in the model. Supported options: auto, binomial, multinomial.'): 'auto',\n",
              " Param(parent='LogisticRegression_63cbaba1add4', name='featuresCol', doc='features column name'): 'features',\n",
              " Param(parent='LogisticRegression_63cbaba1add4', name='fitIntercept', doc='whether to fit an intercept term'): True,\n",
              " Param(parent='LogisticRegression_63cbaba1add4', name='labelCol', doc='label column name'): 'label',\n",
              " Param(parent='LogisticRegression_63cbaba1add4', name='maxIter', doc='maximum number of iterations (>= 0)'): 1,\n",
              " Param(parent='LogisticRegression_63cbaba1add4', name='predictionCol', doc='prediction column name'): 'prediction',\n",
              " Param(parent='LogisticRegression_63cbaba1add4', name='probabilityCol', doc='Column name for predicted class conditional probabilities. Note: Not all models output well-calibrated probability estimates! These probabilities should be treated as confidences, not precise probabilities'): 'probability',\n",
              " Param(parent='LogisticRegression_63cbaba1add4', name='rawPredictionCol', doc='raw prediction (a.k.a. confidence) column name'): 'rawPrediction',\n",
              " Param(parent='LogisticRegression_63cbaba1add4', name='regParam', doc='regularization parameter (>= 0)'): 0.09,\n",
              " Param(parent='LogisticRegression_63cbaba1add4', name='standardization', doc='whether to standardize the training features before fitting the model'): True,\n",
              " Param(parent='LogisticRegression_63cbaba1add4', name='threshold', doc='threshold in binary classification prediction, in range [0, 1]'): 0.5,\n",
              " Param(parent='LogisticRegression_63cbaba1add4', name='tol', doc='the convergence tolerance for iterative algorithms (>= 0)'): 1e-06,\n",
              " Param(parent='LogisticRegression_63cbaba1add4', name='weightCol', doc='weight column name. If this is not set or empty, we treat all instance weights as 1.0'): 'classWeightCol'}"
            ]
          },
          "metadata": {
            "tags": []
          },
          "execution_count": 36
        }
      ]
    },
    {
      "cell_type": "markdown",
      "metadata": {
        "id": "EHkFOBLErF06"
      },
      "source": [
        "#### ANALYSIS\n",
        "\n",
        "Using cross-validation and grid-search, performance has improved slightly on the fraud cases at the cost of performance on the non-fraud cases. In scenarios like this, a business decision needs to be made whether the improvement in capturing more fraud cases is worth incorrectly classifying non-fraud cases."
      ]
    }
  ]
}