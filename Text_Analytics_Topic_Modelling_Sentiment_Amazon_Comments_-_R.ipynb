{
 "cells": [
  {
   "cell_type": "markdown",
   "metadata": {},
   "source": [
    "# R Text Analytics - Topic Modelling and Sentiment  on Amazon Comments\n",
    "\n",
    "## Retrieve comments from a product on Amazon and perform Text Analytics such as Topic Modelling and Sentiment."
   ]
  },
  {
   "cell_type": "code",
   "execution_count": null,
   "metadata": {},
   "outputs": [],
   "source": [
    "#Load Packages\n",
    "#suppressPackageStartupMessages()\n",
    "options(warn=-1) #surpress warnings for presentation purposes only\n",
    "#install.extras('NMF', repos=c(\"http://rstudio.org/_packages\", \"http://cran.rstudio.com\"), dependencies = TRUE)\n",
    "library(NMF)\n",
    "library(xml2)\n",
    "library(rvest)\n",
    "library(stringr)\n",
    "suppressWarnings(library(dplyr))\n",
    "library(wordcloud)\n",
    "library(tm)\n",
    "library(textstem)\n",
    "library(ggplot2)\n",
    "library(SnowballC)\n",
    "library(lubridate)\n",
    "library(topicmodels)\n",
    "library(cluster)\n",
    "library(proxy)\n",
    "library(slam)\n",
    "#install.packages(\"rngtools\", repos=\"http://R-Forge.R-project.org\", dependencies = TRUE )\n",
    "#install.packages('NMF', repos=c(\"http://rstudio.org/_packages\", \"http://cran.rstudio.com\"), dependencies = TRUE)\n",
    "#install.packages('methods', repos=c(\"http://rstudio.org/_packages\", \"http://cran.rstudio.com\"), dependencies = TRUE)\n",
    "#install.packages('fpc', repos=c(\"http://rstudio.org/_packages\", \"http://cran.rstudio.com\"), dependencies = TRUE)\n",
    "#install.packages('lattice', repos=c(\"http://rstudio.org/_packages\", \"http://cran.rstudio.com\"), dependencies = TRUE)\n",
    "suppressWarnings(library(fpc))\n",
    "suppressWarnings(library(nnet))\n",
    "suppressWarnings(library(MASS))\n",
    "suppressWarnings(library(lattice))\n",
    "\n",
    "th = theme_minimal() + theme(plot.title = element_text(hjust = 0.5))"
   ]
  },
  {
   "cell_type": "markdown",
   "metadata": {},
   "source": [
    "## Scrape the Data from Amazon's Website"
   ]
  },
  {
   "cell_type": "code",
   "execution_count": 2,
   "metadata": {},
   "outputs": [],
   "source": [
    "#Create a function that retries comment data from Amazon\n",
    "#Source: This function is based on the following blog...https://justrthings.com/2019/03/03/web-scraping-amazon-reviews-march-2019/\n",
    "\n",
    "scrape_amazon <- function(url, throttle = 0){\n",
    "  \n",
    "  webpage <- read_html(url)\n",
    "\n",
    "  # Set throttle between URL calls\n",
    "  sec = 0\n",
    "  if(throttle < 0) warning(\"throttle was less than 0: set to 0\")\n",
    "  if(throttle > 0) sec = max(0, throttle + runif(1, -1, 1))\n",
    "  \n",
    "  comments <- webpage %>%\n",
    "    html_nodes(\"#cm_cr-review_list .review-text\") %>%\n",
    "    html_text() \n",
    "  \n",
    "  date <- webpage %>%\n",
    "    html_nodes(\"#cm_cr-review_list .review-date\") %>%\n",
    "    html_text() %>% \n",
    "    gsub(\".*on \", \"\", .)\n",
    "  \n",
    "  stars <- webpage %>%\n",
    "    html_nodes(\"#cm_cr-review_list  .review-rating\") %>%\n",
    "    html_text() %>%\n",
    "    str_extract(\"\\\\d\") %>%\n",
    "    as.numeric() \n",
    "  \n",
    "  # Combine attributes into a single data frame\n",
    "  df <- data.frame(date, stars, comments, stringsAsFactors = F)\n",
    "  \n",
    "  return(df)\n",
    "}"
   ]
  },
  {
   "cell_type": "code",
   "execution_count": 3,
   "metadata": {},
   "outputs": [],
   "source": [
    "#Lets retrieve the comments from amazon\n",
    "#Examine a product comments, in this case a router\n",
    "#from the company ASUS...\n",
    "#https://www.amazon.com/product-reviews/B0167HG1V\n",
    "\n",
    "\n",
    "# Set # of pages to scrape. Note: each page contains 8 reviews.\n",
    "pages <- 1000\n",
    "\n",
    "# create empty object to write data into\n",
    "reviews_all <- NULL\n",
    "\n",
    "# loop over pages\n",
    "#for(page_num in 1:pages){\n",
    "#  url <- paste0(\"https://www.amazon.com/product-reviews/B0167HG1V6/ref=cm_cr_arp_d_paging_btm_next_2?pageNumber=\", page_num)\n",
    "#  reviews <- scrape_amazon(url, throttle = 3)\n",
    "#  reviews_all <- as.data.frame(rbind(reviews_all, reviews))\n",
    "#}"
   ]
  },
  {
   "cell_type": "code",
   "execution_count": 4,
   "metadata": {},
   "outputs": [],
   "source": [
    "#write to file\n",
    "#write.csv(reviews_all,\"Amazon Comments.csv\", row.names = FALSE)"
   ]
  },
  {
   "cell_type": "code",
   "execution_count": 5,
   "metadata": {},
   "outputs": [],
   "source": [
    "reviews_all <- read.csv(\"Amazon Comments.csv\", header = TRUE, stringsAsFactors=FALSE)"
   ]
  },
  {
   "cell_type": "code",
   "execution_count": 6,
   "metadata": {},
   "outputs": [
    {
     "data": {
      "text/html": [
       "<table>\n",
       "<caption>A data.frame: 1 × 3</caption>\n",
       "<thead>\n",
       "\t<tr><th scope=col>date</th><th scope=col>stars</th><th scope=col>comments</th></tr>\n",
       "\t<tr><th scope=col>&lt;chr&gt;</th><th scope=col>&lt;int&gt;</th><th scope=col>&lt;chr&gt;</th></tr>\n",
       "</thead>\n",
       "<tbody>\n",
       "\t<tr><td>March 9, 2017</td><td>5</td><td><span style=white-space:pre-wrap>I am a retired Network Specialist, I have install or configured at least 2000 router over the last 15 years just wanted to throw in a qualifier here. I have aprx 45 devices connected to my network including a Sinology DS415+, 2 network printers, Linksys Wireless-AC Universal Media Connector (WUMC710)  and a TP POE (Power over Ethernet) wireless 2.4 &amp; 5Ghz range extender. Cell and tablets are DHCP everything else is static  network setting  I have Comcast Blast 120 Mbps down and 12 Mbps up.So I waited for the bugs to be worked out and have had the RT-AC5300 up and running for about 2 months now. The main reason for purchasing this router was the Dual band 5 Ghz channels, our family streams a lot and I hate Buffer notices. First thing I did was turn off smart connect \" I think its a non usable feature for myself\" set up the wireless network and split my devises accordingly.I have had NO ISSUES with any disconnect at all the router has worked flawlessly.  Wireless signals throughout the house are higher and faster, I ask my 9yr old daughter who streams from the server to her pad nightly if she notices any problems, her response was the pad app was responding faster to her inputs. Good. I would recommend the router as a perfect performer in the above configuration. Like I stated Not one drop or reset yet.\n",
       "            </span></td></tr>\n",
       "</tbody>\n",
       "</table>\n"
      ],
      "text/latex": [
       "A data.frame: 1 × 3\n",
       "\\begin{tabular}{r|lll}\n",
       " date & stars & comments\\\\\n",
       " <chr> & <int> & <chr>\\\\\n",
       "\\hline\n",
       "\t March 9, 2017 & 5 & I am a retired Network Specialist, I have install or configured at least 2000 router over the last 15 years just wanted to throw in a qualifier here. I have aprx 45 devices connected to my network including a Sinology DS415+, 2 network printers, Linksys Wireless-AC Universal Media Connector (WUMC710)  and a TP POE (Power over Ethernet) wireless 2.4 \\& 5Ghz range extender. Cell and tablets are DHCP everything else is static  network setting  I have Comcast Blast 120 Mbps down and 12 Mbps up.So I waited for the bugs to be worked out and have had the RT-AC5300 up and running for about 2 months now. The main reason for purchasing this router was the Dual band 5 Ghz channels, our family streams a lot and I hate Buffer notices. First thing I did was turn off smart connect \" I think its a non usable feature for myself\" set up the wireless network and split my devises accordingly.I have had NO ISSUES with any disconnect at all the router has worked flawlessly.  Wireless signals throughout the house are higher and faster, I ask my 9yr old daughter who streams from the server to her pad nightly if she notices any problems, her response was the pad app was responding faster to her inputs. Good. I would recommend the router as a perfect performer in the above configuration. Like I stated Not one drop or reset yet.\n",
       "            \\\\\n",
       "\\end{tabular}\n"
      ],
      "text/markdown": [
       "\n",
       "A data.frame: 1 × 3\n",
       "\n",
       "| date &lt;chr&gt; | stars &lt;int&gt; | comments &lt;chr&gt; |\n",
       "|---|---|---|\n",
       "| March 9, 2017 | 5 | I am a retired Network Specialist, I have install or configured at least 2000 router over the last 15 years just wanted to throw in a qualifier here. I have aprx 45 devices connected to my network including a Sinology DS415+, 2 network printers, Linksys Wireless-AC Universal Media Connector (WUMC710)  and a TP POE (Power over Ethernet) wireless 2.4 &amp; 5Ghz range extender. Cell and tablets are DHCP everything else is static  network setting  I have Comcast Blast 120 Mbps down and 12 Mbps up.So I waited for the bugs to be worked out and have had the RT-AC5300 up and running for about 2 months now. The main reason for purchasing this router was the Dual band 5 Ghz channels, our family streams a lot and I hate Buffer notices. First thing I did was turn off smart connect \" I think its a non usable feature for myself\" set up the wireless network and split my devises accordingly.I have had NO ISSUES with any disconnect at all the router has worked flawlessly.  Wireless signals throughout the house are higher and faster, I ask my 9yr old daughter who streams from the server to her pad nightly if she notices any problems, her response was the pad app was responding faster to her inputs. Good. I would recommend the router as a perfect performer in the above configuration. Like I stated Not one drop or reset yet.\n",
       "             |\n",
       "\n"
      ],
      "text/plain": [
       "  date          stars\n",
       "1 March 9, 2017 5    \n",
       "  comments                                                                                                                                                                                                                                                                                                                                                                                                                                                                                                                                                                                                                                                                                                                                                                                                                                                                                                                                                                                                                                                                                                                                                                                                                                                                                                                                                                                \n",
       "1 I am a retired Network Specialist, I have install or configured at least 2000 router over the last 15 years just wanted to throw in a qualifier here. I have aprx 45 devices connected to my network including a Sinology DS415+, 2 network printers, Linksys Wireless-AC Universal Media Connector (WUMC710)  and a TP POE (Power over Ethernet) wireless 2.4 & 5Ghz range extender. Cell and tablets are DHCP everything else is static  network setting  I have Comcast Blast 120 Mbps down and 12 Mbps up.So I waited for the bugs to be worked out and have had the RT-AC5300 up and running for about 2 months now. The main reason for purchasing this router was the Dual band 5 Ghz channels, our family streams a lot and I hate Buffer notices. First thing I did was turn off smart connect \" I think its a non usable feature for myself\" set up the wireless network and split my devises accordingly.I have had NO ISSUES with any disconnect at all the router has worked flawlessly.  Wireless signals throughout the house are higher and faster, I ask my 9yr old daughter who streams from the server to her pad nightly if she notices any problems, her response was the pad app was responding faster to her inputs. Good. I would recommend the router as a perfect performer in the above configuration. Like I stated Not one drop or reset yet.\\n            "
      ]
     },
     "metadata": {},
     "output_type": "display_data"
    }
   ],
   "source": [
    "# display 1st record\n",
    "head(reviews_all, n=1)"
   ]
  },
  {
   "cell_type": "code",
   "execution_count": 7,
   "metadata": {},
   "outputs": [
    {
     "name": "stdout",
     "output_type": "stream",
     "text": [
      "'data.frame':\t380 obs. of  3 variables:\n",
      " $ date    : chr  \"March 9, 2017\" \"May 15, 2018\" \"November 22, 2016\" \"January 17, 2017\" ...\n",
      " $ stars   : int  5 5 1 5 1 3 1 5 1 5 ...\n",
      " $ comments: chr  \"I am a retired Network Specialist, I have install or configured at least 2000 router over the last 15 years jus\"| __truncated__ \"Pros: Extremely fast wifi, strong signal, Ai MeshCons: Not as easy to set up as other routers, the app is far l\"| __truncated__ \"Buyer Beware.... Got my shipment, shipment box was fine... the router box was not sealed, strange, but then I l\"| __truncated__ \"ASUS RT-AC3200 Wireless-AC3200 Tri-Band Wireless Gigabit Router, AiProtection with Trend Micro for Complete Net\"| __truncated__ ...\n"
     ]
    },
    {
     "data": {
      "text/plain": [
       "NULL"
      ]
     },
     "metadata": {},
     "output_type": "display_data"
    }
   ],
   "source": [
    "#Review the the structure of the data\n",
    "(str(reviews_all))"
   ]
  },
  {
   "cell_type": "code",
   "execution_count": 8,
   "metadata": {
    "scrolled": true
   },
   "outputs": [
    {
     "data": {
      "text/html": [
       "<ol class=list-inline>\n",
       "\t<li>'March 9, 2017'</li>\n",
       "\t<li>'May 15, 2018'</li>\n",
       "\t<li>'November 22, 2016'</li>\n",
       "\t<li>'January 17, 2017'</li>\n",
       "\t<li>'September 18, 2017'</li>\n",
       "\t<li>'June 6, 2016'</li>\n",
       "\t<li>'September 27, 2018'</li>\n",
       "\t<li>'November 23, 2018'</li>\n",
       "\t<li>'January 24, 2018'</li>\n",
       "\t<li>'March 22, 2018'</li>\n",
       "</ol>\n"
      ],
      "text/latex": [
       "\\begin{enumerate*}\n",
       "\\item 'March 9, 2017'\n",
       "\\item 'May 15, 2018'\n",
       "\\item 'November 22, 2016'\n",
       "\\item 'January 17, 2017'\n",
       "\\item 'September 18, 2017'\n",
       "\\item 'June 6, 2016'\n",
       "\\item 'September 27, 2018'\n",
       "\\item 'November 23, 2018'\n",
       "\\item 'January 24, 2018'\n",
       "\\item 'March 22, 2018'\n",
       "\\end{enumerate*}\n"
      ],
      "text/markdown": [
       "1. 'March 9, 2017'\n",
       "2. 'May 15, 2018'\n",
       "3. 'November 22, 2016'\n",
       "4. 'January 17, 2017'\n",
       "5. 'September 18, 2017'\n",
       "6. 'June 6, 2016'\n",
       "7. 'September 27, 2018'\n",
       "8. 'November 23, 2018'\n",
       "9. 'January 24, 2018'\n",
       "10. 'March 22, 2018'\n",
       "\n",
       "\n"
      ],
      "text/plain": [
       " [1] \"March 9, 2017\"      \"May 15, 2018\"       \"November 22, 2016\" \n",
       " [4] \"January 17, 2017\"   \"September 18, 2017\" \"June 6, 2016\"      \n",
       " [7] \"September 27, 2018\" \"November 23, 2018\"  \"January 24, 2018\"  \n",
       "[10] \"March 22, 2018\"    "
      ]
     },
     "metadata": {},
     "output_type": "display_data"
    }
   ],
   "source": [
    "#Check Date Format\n",
    "reviews_all$date[1:10]"
   ]
  },
  {
   "cell_type": "markdown",
   "metadata": {},
   "source": [
    "### ANALYSIS  \n",
    "\n",
    "The data contains multiple fields including the date, the number of stars (1 to 5) and the actual comments in text format. The date field is in a relatively standard format with a full month, day and full year. Overall, the data is in good shape to work with."
   ]
  },
  {
   "cell_type": "code",
   "execution_count": 9,
   "metadata": {},
   "outputs": [
    {
     "data": {
      "image/png": "[encoded data removed]",
      "text/plain": [
       "plot without title"
      ]
     },
     "metadata": {},
     "output_type": "display_data"
    }
   ],
   "source": [
    "#Create a density plot for date by month\n",
    "\n",
    "reviews_all$date <- as.Date(reviews_all$date, \"%b %d,%Y\")\n",
    "#str(reviews_all$date)\n",
    "\n",
    "library(scales)\n",
    "point <- format_format(big.mark = \" \", scientific = FALSE)\n",
    "\n",
    "ggplot(reviews_all, aes(x=date)) + \n",
    "  geom_histogram(aes(y=..density..), binwidth = 30, colour=\"black\", fill=\"red\")+\n",
    "  geom_density(alpha=.5, fill=\"#FF6666\") + \n",
    "  ggtitle(\"Density of Comments by Year: ASUS Router\", )  + scale_y_continuous(labels = point) +\n",
    "  xlab('Year') + ylab('Density') + th"
   ]
  },
  {
   "cell_type": "markdown",
   "metadata": {},
   "source": [
    "#### ANALYSIS\n",
    "\n",
    "The Density plot shows a somewhat typical pattern with regards to limited life products such as a router. The router is introduced in 2015 and reviews start to trickle in. Reviews reach a peak the following year and then tapers down as the product gets older."
   ]
  },
  {
   "cell_type": "code",
   "execution_count": 10,
   "metadata": {},
   "outputs": [],
   "source": [
    "#Define a function that will clean the text in the comments\n",
    "\n",
    "clean_reviews <- function(df) {\n",
    "  \n",
    "  clean_reviews <- df$comment\n",
    "  \n",
    "  #clean formatting\n",
    "  clean_reviews <- gsub(\"&amp;\", \"\", clean_reviews)\n",
    "  clean_reviews <- gsub(\"^RT\", \"\", clean_reviews)\n",
    "  clean_reviews <- gsub(\"/n\", \"\", clean_reviews)\n",
    "  \n",
    "  # remove all the punctuation\n",
    "  clean_reviews <- gsub(\"[[:punct:]]\", \"\", clean_reviews)\n",
    "  \n",
    "  # remove control characters\n",
    "  clean_reviews <- gsub('[[:cntrl:]]', \"\", clean_reviews)\n",
    "  \n",
    "  # remove html links\n",
    "  clean_reviews <- gsub(\"http\\\\w+\", \"\", clean_reviews)\n",
    "  \n",
    "  # remove tabs spaces\n",
    "  clean_reviews <- gsub(\"[ |\\t]{2,}\", \"\", clean_reviews)\n",
    "  \n",
    "  # Encoding(text) <- c(\"UTF-8\")\n",
    "  # remove all non-ASCII characters\n",
    "  clean_reviews <- iconv(clean_reviews, \"UTF-8\", \"ASCII\", sub = \"\")\n",
    "  \n",
    "  return(clean_reviews)\n",
    "  \n",
    "}"
   ]
  },
  {
   "cell_type": "code",
   "execution_count": 11,
   "metadata": {},
   "outputs": [],
   "source": [
    "#Define function that further cleans text and coverts to Corpus\n",
    "#Note: we moved obvious words such as ASUS And router from the corpus. \n",
    "\n",
    "create_corpus <- function(df) {\n",
    "  \n",
    "  clean_reviews <- df$cleantext\n",
    "  \n",
    "  #keep only unique items\n",
    "  clean_reviews = unique(clean_reviews)\n",
    "  \n",
    "  review_corpus <- Corpus(VectorSource(clean_reviews))\n",
    "  \n",
    "  # Remove contraction\n",
    "  #review_corpus <- tm_map(review_corpus, content_transformer(replace_contraction))\n",
    "  \n",
    "  # Remove abbreviation\n",
    "  #review_corpus <- tm_map(review_corpus, content_transformer(replace_abbreviation))\n",
    "  \n",
    "  # Remove numbers\n",
    "  review_corpus <- tm_map(review_corpus, removeNumbers)\n",
    "  \n",
    "  # Remove punctuation\n",
    "  review_corpus <- tm_map(review_corpus, removePunctuation)\n",
    "  \n",
    "  # All lowercase\n",
    "  review_corpus <- tm_map(review_corpus, content_transformer(tolower))\n",
    "  \n",
    "  # Remove white spaces\n",
    "  review_corpus <- tm_map(review_corpus, stripWhitespace)\n",
    "  \n",
    "  # Remove common words, a.k.a. Stop words\n",
    "  review_corpus <- tm_map(review_corpus, removeWords, stopwords (\"english\"))\n",
    "  \n",
    "  # Remove custom, common words\n",
    "  review_corpus <- tm_map(review_corpus, removeWords,\n",
    "                         c(\"asus\", \"router\"))\n",
    "  \n",
    "  #stem the corpus\n",
    "  review_corpus <- tm_map(review_corpus, stemDocument)\n",
    "  \n",
    "  #lemmatize the corpus\n",
    "  review_corpus <- tm_map(review_corpus, lemmatize_strings)\n",
    "  \n",
    "  return(review_corpus)\n",
    "  \n",
    "}\n"
   ]
  },
  {
   "cell_type": "code",
   "execution_count": 12,
   "metadata": {},
   "outputs": [],
   "source": [
    "#Call functions to clean text and create the corpus\n",
    "\n",
    "reviews_all$cleantext <- clean_reviews(reviews_all)\n",
    "myCorpus <- create_corpus(reviews_all)"
   ]
  },
  {
   "cell_type": "code",
   "execution_count": 13,
   "metadata": {},
   "outputs": [
    {
     "name": "stdout",
     "output_type": "stream",
     "text": [
      "<<TermDocumentMatrix (terms: 10, documents: 10)>>\n",
      "Non-/sparse entries: 23/77\n",
      "Sparsity           : 77%\n",
      "Maximal term length: 12\n",
      "Weighting          : term frequency (tf)\n",
      "Sample             :\n",
      "              Docs\n",
      "Terms          1 10 2 3 4 5 6 7 8 9\n",
      "  accordinglyi 1  0 0 0 0 0 0 0 0 0\n",
      "  app          1  2 1 0 0 0 0 0 0 0\n",
      "  aprx         1  0 0 0 0 0 0 0 0 0\n",
      "  ask          1  0 0 0 1 1 0 0 0 0\n",
      "  band         1  2 0 0 2 1 7 0 0 8\n",
      "  blast        1  0 0 0 0 0 0 0 0 0\n",
      "  buff         1  0 0 0 0 0 0 0 0 0\n",
      "  bug          1  0 0 0 0 0 1 0 0 0\n",
      "  cell         1  0 0 0 0 0 0 0 0 0\n",
      "  channel      1  0 0 0 0 1 6 1 0 0\n"
     ]
    }
   ],
   "source": [
    "#Convert to tdm\n",
    "myTdm <- TermDocumentMatrix(myCorpus, control = list(minWordLength = 3))\n",
    "#myTdm <- DocumentTermMatrix(myCorpus, control = list(minWordLength = 3))\n",
    "inspect(myTdm[1:10,1:10])"
   ]
  },
  {
   "cell_type": "markdown",
   "metadata": {},
   "source": [
    "#### ANALYSIS\n",
    "The above code cleans the text by stripping out whitespaces, punctuations, stopwords, etc and stems and lemmatizes the words. The words \"ASUS\" and 'Router\" have also been removed as these are likely to be in most reviews and thus, unhelpful with any analysis. The comments are then conveted to a term document matrix (TDM). A TDM is a matirx describes the frequency of terms that occur in a collection of documents. As shown above, the terms are listed down the side while documents are listed across the top with the respective frequency of occurence."
   ]
  },
  {
   "cell_type": "code",
   "execution_count": 14,
   "metadata": {},
   "outputs": [
    {
     "data": {
      "image/png": "[encoded data removed]",
      "text/plain": [
       "plot without title"
      ]
     },
     "metadata": {},
     "output_type": "display_data"
    }
   ],
   "source": [
    "#Graph Freq words\n",
    "freq <- sort(rowSums(as.matrix(removeSparseTerms(myTdm, .99))), decreasing =TRUE)\n",
    "wf <- data.frame(word=names(freq), freq=freq)\n",
    "ggplot(subset(wf,freq>150), aes(reorder(word, freq), freq)) + \n",
    "  geom_bar(stat=\"identity\", fill = \"red\") + ggtitle('Frequent Words: Over 150 Mentions in Documents') +\n",
    "  theme(axis.text.x=element_text(angle=45,hjust=1)) +\n",
    "  xlab(\"Word\") + ylab(\"Frequency\") +\n",
    "  coord_flip() + th"
   ]
  },
  {
   "cell_type": "code",
   "execution_count": 15,
   "metadata": {},
   "outputs": [
    {
     "data": {
      "text/html": [
       "<strong>$help</strong> = <dl class=dl-horizontal>\n",
       "\t<dt>support</dt>\n",
       "\t\t<dd>0.48</dd>\n",
       "\t<dt>backon</dt>\n",
       "\t\t<dd>0.45</dd>\n",
       "\t<dt>calledhow</dt>\n",
       "\t\t<dd>0.45</dd>\n",
       "\t<dt>flyer</dt>\n",
       "\t\t<dd>0.45</dd>\n",
       "\t<dt>michael</dt>\n",
       "\t\t<dd>0.45</dd>\n",
       "\t<dt>networkingi</dt>\n",
       "\t\t<dd>0.45</dd>\n",
       "\t<dt>productwors</dt>\n",
       "\t\t<dd>0.45</dd>\n",
       "\t<dt>questionsi</dt>\n",
       "\t\t<dd>0.45</dd>\n",
       "\t<dt>rest</dt>\n",
       "\t\t<dd>0.45</dd>\n",
       "\t<dt>samesimilar</dt>\n",
       "\t\t<dd>0.45</dd>\n",
       "\t<dt>ticket</dt>\n",
       "\t\t<dd>0.45</dd>\n",
       "\t<dt>timein</dt>\n",
       "\t\t<dd>0.45</dd>\n",
       "\t<dt>timesi</dt>\n",
       "\t\t<dd>0.45</dd>\n",
       "\t<dt>upanoth</dt>\n",
       "\t\t<dd>0.45</dd>\n",
       "\t<dt>utilityi</dt>\n",
       "\t\t<dd>0.45</dd>\n",
       "\t<dt>withat</dt>\n",
       "\t\t<dd>0.45</dd>\n",
       "\t<dt>compani</dt>\n",
       "\t\t<dd>0.42</dd>\n",
       "\t<dt>hand</dt>\n",
       "\t\t<dd>0.42</dd>\n",
       "\t<dt>overlook</dt>\n",
       "\t\t<dd>0.42</dd>\n",
       "</dl>\n"
      ],
      "text/latex": [
       "\\textbf{\\$help} = \\begin{description*}\n",
       "\\item[support] 0.48\n",
       "\\item[backon] 0.45\n",
       "\\item[calledhow] 0.45\n",
       "\\item[flyer] 0.45\n",
       "\\item[michael] 0.45\n",
       "\\item[networkingi] 0.45\n",
       "\\item[productwors] 0.45\n",
       "\\item[questionsi] 0.45\n",
       "\\item[rest] 0.45\n",
       "\\item[samesimilar] 0.45\n",
       "\\item[ticket] 0.45\n",
       "\\item[timein] 0.45\n",
       "\\item[timesi] 0.45\n",
       "\\item[upanoth] 0.45\n",
       "\\item[utilityi] 0.45\n",
       "\\item[withat] 0.45\n",
       "\\item[compani] 0.42\n",
       "\\item[hand] 0.42\n",
       "\\item[overlook] 0.42\n",
       "\\end{description*}\n"
      ],
      "text/markdown": [
       "**$help** = support\n",
       ":   0.48backon\n",
       ":   0.45calledhow\n",
       ":   0.45flyer\n",
       ":   0.45michael\n",
       ":   0.45networkingi\n",
       ":   0.45productwors\n",
       ":   0.45questionsi\n",
       ":   0.45rest\n",
       ":   0.45samesimilar\n",
       ":   0.45ticket\n",
       ":   0.45timein\n",
       ":   0.45timesi\n",
       ":   0.45upanoth\n",
       ":   0.45utilityi\n",
       ":   0.45withat\n",
       ":   0.45compani\n",
       ":   0.42hand\n",
       ":   0.42overlook\n",
       ":   0.42\n",
       "\n"
      ],
      "text/plain": [
       "$help\n",
       "    support      backon   calledhow       flyer     michael networkingi \n",
       "       0.48        0.45        0.45        0.45        0.45        0.45 \n",
       "productwors  questionsi        rest samesimilar      ticket      timein \n",
       "       0.45        0.45        0.45        0.45        0.45        0.45 \n",
       "     timesi     upanoth    utilityi      withat     compani        hand \n",
       "       0.45        0.45        0.45        0.45        0.42        0.42 \n",
       "   overlook \n",
       "       0.42 \n"
      ]
     },
     "metadata": {},
     "output_type": "display_data"
    }
   ],
   "source": [
    "#Find Associations\n",
    "#library(dplyr)\n",
    "findAssocs(myTdm, \"help\", 0.40)"
   ]
  },
  {
   "cell_type": "code",
   "execution_count": 16,
   "metadata": {},
   "outputs": [
    {
     "data": {
      "image/png": "[encoded data removed]",
      "text/plain": [
       "plot without title"
      ]
     },
     "metadata": {},
     "output_type": "display_data"
    }
   ],
   "source": [
    "#wordcloud\n",
    "wordcloud(myCorpus, scale=c(2,1), max.words=100, random.order=FALSE,\n",
    "          rot.per=0.35, use.r.layout=FALSE,\n",
    "          colors=brewer.pal(8, \"Dark2\"))"
   ]
  },
  {
   "cell_type": "markdown",
   "metadata": {},
   "source": [
    "#### ANALYSIS  \n",
    "The most common words in the comments, exluding the words ASUS and router are 'connect', 'work', 'device', 'good, 'get', 'one', 'use'. All positive words in context of rating a router and reflective of the generally good reviews the items receives. Looking at associations, if we look at common terms associated with the word 'help', words such as support and ticket are present.  \n",
    "  \n",
    "Wordclouds are generally the most overrated graphic in Text Analytics and the example above is no different. Generally, positive words are present, but otherwise, there isn't much to be gleaned from this graphic.\n"
   ]
  },
  {
   "cell_type": "markdown",
   "metadata": {},
   "source": [
    "## Topic Modelling"
   ]
  },
  {
   "cell_type": "code",
   "execution_count": 17,
   "metadata": {
    "scrolled": true
   },
   "outputs": [
    {
     "data": {
      "text/plain": [
       "Topic\n",
       " 1  2  3  4  5 \n",
       "96 64 71 64 73 "
      ]
     },
     "metadata": {},
     "output_type": "display_data"
    },
    {
     "data": {
      "text/html": [
       "<table>\n",
       "<caption>A matrix: 10 × 5 of type chr</caption>\n",
       "<thead>\n",
       "\t<tr><th scope=col>Topic 1</th><th scope=col>Topic 2</th><th scope=col>Topic 3</th><th scope=col>Topic 4</th><th scope=col>Topic 5</th></tr>\n",
       "</thead>\n",
       "<tbody>\n",
       "\t<tr><td>work    </td><td>connect</td><td>good   </td><td>get    </td><td>wifi </td></tr>\n",
       "\t<tr><td>one     </td><td>devic  </td><td>firmwar</td><td>can    </td><td>set  </td></tr>\n",
       "\t<tr><td>wireless</td><td>network</td><td>updat  </td><td>just   </td><td>great</td></tr>\n",
       "\t<tr><td>ghz     </td><td>time   </td><td>like   </td><td>support</td><td>use  </td></tr>\n",
       "\t<tr><td>now     </td><td>issu   </td><td>featur </td><td>will   </td><td>speed</td></tr>\n",
       "\t<tr><td>band    </td><td>drop   </td><td>hous   </td><td>say    </td><td>ring </td></tr>\n",
       "\t<tr><td>first   </td><td>signal </td><td>see    </td><td>thing  </td><td>old  </td></tr>\n",
       "\t<tr><td>even    </td><td>tri    </td><td>router </td><td>review </td><td>setup</td></tr>\n",
       "\t<tr><td>buy     </td><td>use    </td><td>ive    </td><td>new    </td><td>easi </td></tr>\n",
       "\t<tr><td>need    </td><td>problem</td><td>also   </td><td>day    </td><td>fast </td></tr>\n",
       "</tbody>\n",
       "</table>\n"
      ],
      "text/latex": [
       "A matrix: 10 × 5 of type chr\n",
       "\\begin{tabular}{lllll}\n",
       " Topic 1 & Topic 2 & Topic 3 & Topic 4 & Topic 5\\\\\n",
       "\\hline\n",
       "\t work     & connect & good    & get     & wifi \\\\\n",
       "\t one      & devic   & firmwar & can     & set  \\\\\n",
       "\t wireless & network & updat   & just    & great\\\\\n",
       "\t ghz      & time    & like    & support & use  \\\\\n",
       "\t now      & issu    & featur  & will    & speed\\\\\n",
       "\t band     & drop    & hous    & say     & ring \\\\\n",
       "\t first    & signal  & see     & thing   & old  \\\\\n",
       "\t even     & tri     & router  & review  & setup\\\\\n",
       "\t buy      & use     & ive     & new     & easi \\\\\n",
       "\t need     & problem & also    & day     & fast \\\\\n",
       "\\end{tabular}\n"
      ],
      "text/markdown": [
       "\n",
       "A matrix: 10 × 5 of type chr\n",
       "\n",
       "| Topic 1 | Topic 2 | Topic 3 | Topic 4 | Topic 5 |\n",
       "|---|---|---|---|---|\n",
       "| work     | connect | good    | get     | wifi  |\n",
       "| one      | devic   | firmwar | can     | set   |\n",
       "| wireless | network | updat   | just    | great |\n",
       "| ghz      | time    | like    | support | use   |\n",
       "| now      | issu    | featur  | will    | speed |\n",
       "| band     | drop    | hous    | say     | ring  |\n",
       "| first    | signal  | see     | thing   | old   |\n",
       "| even     | tri     | router  | review  | setup |\n",
       "| buy      | use     | ive     | new     | easi  |\n",
       "| need     | problem | also    | day     | fast  |\n",
       "\n"
      ],
      "text/plain": [
       "      Topic 1  Topic 2 Topic 3 Topic 4 Topic 5\n",
       " [1,] work     connect good    get     wifi   \n",
       " [2,] one      devic   firmwar can     set    \n",
       " [3,] wireless network updat   just    great  \n",
       " [4,] ghz      time    like    support use    \n",
       " [5,] now      issu    featur  will    speed  \n",
       " [6,] band     drop    hous    say     ring   \n",
       " [7,] first    signal  see     thing   old    \n",
       " [8,] even     tri     router  review  setup  \n",
       " [9,] buy      use     ive     new     easi   \n",
       "[10,] need     problem also    day     fast   "
      ]
     },
     "metadata": {},
     "output_type": "display_data"
    }
   ],
   "source": [
    "#Find the top 5 topics in the corpus using LDA (Latent Dirichlet Allocation) and Gibbs Sampling\n",
    "\n",
    "smyTdm <- removeSparseTerms(myTdm, 0.90) # This makes a matrix that is only 90% empty space, maximum.   \n",
    "#inspect(smyTdm)\n",
    "\n",
    "myTdmT<-t(smyTdm)\n",
    "rowTotals<- apply(myTdmT, 1, sum)\n",
    "myTdmT<- myTdmT[rowTotals> 0,]\n",
    "\n",
    "\n",
    "k = 5 #Note: How many topics you want to extract\n",
    "SEED = 5234\n",
    "my_TM = list(VEM = LDA(myTdmT, k = k, control = list(seed = SEED)),\n",
    "             VEM_fixed = LDA(myTdmT, k = k,\n",
    "                             control = list(estimate.alpha = FALSE, seed = SEED)),\n",
    "             Gibbs = LDA(myTdmT, k = k, method = \"Gibbs\",\n",
    "                         control = list(seed = SEED, burnin = 1000, thin = 100, iter = 1000)),\n",
    "             CTM = CTM(myTdmT, k = k, control = list(seed = SEED, var = list(tol = 10^-4),\n",
    "                                                    em = list(tol = 10^-3))))\n",
    "Topic = topics(my_TM[[\"Gibbs\"]], 1)\n",
    "table(Topic)\n",
    "Terms = terms(my_TM[[\"Gibbs\"]], 10) #Note: Where X = terms per topic\n",
    "Terms\n",
    "\n"
   ]
  },
  {
   "cell_type": "markdown",
   "metadata": {},
   "source": [
    "#### ANALYSIS\n",
    "Running Latent Dirichlet Allocation (LDA) on the corpus extracts topics and associated words. In this case, 5 topics were extracted. Topic 1 is present in 96 comments while topic 2 and 4 is present in 64. In general, these 5 most present topics are generally positive to the router and there is little separation among topics."
   ]
  },
  {
   "cell_type": "code",
   "execution_count": 18,
   "metadata": {},
   "outputs": [],
   "source": [
    "#Topic Modelling using non-negative matrix factorization TD-IDF weights\n",
    "\n",
    "my_TMnmf <- nmf(as.matrix(weightTfIdf((smyTdm[,1:100]))), 5)\n",
    "W <- basis(my_TMnmf)\n",
    "H <- coef(my_TMnmf)"
   ]
  },
  {
   "cell_type": "code",
   "execution_count": 19,
   "metadata": {},
   "outputs": [],
   "source": [
    "colnames(W) <- c(\"Topic1\", \n",
    "    \"Topic2\", \"Topic3\",\n",
    "    \"Topic4\", \"Topic5\")\n",
    "\n",
    "W <- as.data.frame(W)\n",
    "W$terms <-rownames(W)"
   ]
  },
  {
   "cell_type": "code",
   "execution_count": 20,
   "metadata": {},
   "outputs": [
    {
     "data": {
      "text/html": [
       "<table>\n",
       "<caption>A data.frame: 10 × 5</caption>\n",
       "<thead>\n",
       "\t<tr><th scope=col>Topic1</th><th scope=col>Topic2</th><th scope=col>Topic3</th><th scope=col>Topic4</th><th scope=col>Topic5</th></tr>\n",
       "\t<tr><th scope=col>&lt;fct&gt;</th><th scope=col>&lt;fct&gt;</th><th scope=col>&lt;fct&gt;</th><th scope=col>&lt;fct&gt;</th><th scope=col>&lt;fct&gt;</th></tr>\n",
       "</thead>\n",
       "<tbody>\n",
       "\t<tr><td>updat  </td><td>set   </td><td>product </td><td>return  </td><td>ghz    </td></tr>\n",
       "\t<tr><td>buy    </td><td>ring  </td><td>internet</td><td>good    </td><td>devic  </td></tr>\n",
       "\t<tr><td>firmwar</td><td>easi  </td><td>back    </td><td>can     </td><td>band   </td></tr>\n",
       "\t<tr><td>router </td><td>signal</td><td>issu    </td><td>wireless</td><td>see    </td></tr>\n",
       "\t<tr><td>old    </td><td>fast  </td><td>support </td><td>also    </td><td>connect</td></tr>\n",
       "\t<tr><td>wifi   </td><td>year  </td><td>new     </td><td>even    </td><td>ive    </td></tr>\n",
       "\t<tr><td>drop   </td><td>setup </td><td>time    </td><td>thing   </td><td>featur </td></tr>\n",
       "\t<tr><td>still  </td><td>home  </td><td>day     </td><td>connect </td><td>problem</td></tr>\n",
       "\t<tr><td>will   </td><td>one   </td><td>drop    </td><td>like    </td><td>network</td></tr>\n",
       "\t<tr><td>featur </td><td>great </td><td>sinc    </td><td>support </td><td>like   </td></tr>\n",
       "</tbody>\n",
       "</table>\n"
      ],
      "text/latex": [
       "A data.frame: 10 × 5\n",
       "\\begin{tabular}{r|lllll}\n",
       " Topic1 & Topic2 & Topic3 & Topic4 & Topic5\\\\\n",
       " <fct> & <fct> & <fct> & <fct> & <fct>\\\\\n",
       "\\hline\n",
       "\t updat   & set    & product  & return   & ghz    \\\\\n",
       "\t buy     & ring   & internet & good     & devic  \\\\\n",
       "\t firmwar & easi   & back     & can      & band   \\\\\n",
       "\t router  & signal & issu     & wireless & see    \\\\\n",
       "\t old     & fast   & support  & also     & connect\\\\\n",
       "\t wifi    & year   & new      & even     & ive    \\\\\n",
       "\t drop    & setup  & time     & thing    & featur \\\\\n",
       "\t still   & home   & day      & connect  & problem\\\\\n",
       "\t will    & one    & drop     & like     & network\\\\\n",
       "\t featur  & great  & sinc     & support  & like   \\\\\n",
       "\\end{tabular}\n"
      ],
      "text/markdown": [
       "\n",
       "A data.frame: 10 × 5\n",
       "\n",
       "| Topic1 &lt;fct&gt; | Topic2 &lt;fct&gt; | Topic3 &lt;fct&gt; | Topic4 &lt;fct&gt; | Topic5 &lt;fct&gt; |\n",
       "|---|---|---|---|---|\n",
       "| updat   | set    | product  | return   | ghz     |\n",
       "| buy     | ring   | internet | good     | devic   |\n",
       "| firmwar | easi   | back     | can      | band    |\n",
       "| router  | signal | issu     | wireless | see     |\n",
       "| old     | fast   | support  | also     | connect |\n",
       "| wifi    | year   | new      | even     | ive     |\n",
       "| drop    | setup  | time     | thing    | featur  |\n",
       "| still   | home   | day      | connect  | problem |\n",
       "| will    | one    | drop     | like     | network |\n",
       "| featur  | great  | sinc     | support  | like    |\n",
       "\n"
      ],
      "text/plain": [
       "   Topic1  Topic2 Topic3   Topic4   Topic5 \n",
       "1  updat   set    product  return   ghz    \n",
       "2  buy     ring   internet good     devic  \n",
       "3  firmwar easi   back     can      band   \n",
       "4  router  signal issu     wireless see    \n",
       "5  old     fast   support  also     connect\n",
       "6  wifi    year   new      even     ive    \n",
       "7  drop    setup  time     thing    featur \n",
       "8  still   home   day      connect  problem\n",
       "9  will    one    drop     like     network\n",
       "10 featur  great  sinc     support  like   "
      ]
     },
     "metadata": {},
     "output_type": "display_data"
    }
   ],
   "source": [
    "Topic1 <- W[with(W, order(-Topic1)),]$terms[1:10]\n",
    "Topic2 <- W[with(W, order(-Topic2)),]$terms[1:10]\n",
    "Topic3 <- W[with(W, order(-Topic3)),]$terms[1:10]\n",
    "Topic4 <- W[with(W, order(-Topic4)),]$terms[1:10]\n",
    "Topic5 <- W[with(W, order(-Topic5)),]$terms[1:10]\n",
    "\n",
    "MNFTermsdd <- as.data.frame(cbind(Topic1, Topic2, Topic3, Topic4, Topic5))\n",
    "MNFTermsdd"
   ]
  },
  {
   "cell_type": "markdown",
   "metadata": {},
   "source": [
    "#### ANALYSIS\n",
    "Using Non-Negative Matrix Factorization results in similar topics as the LDA above."
   ]
  },
  {
   "cell_type": "markdown",
   "metadata": {},
   "source": [
    "## Cluster Analysis using Hierachical and K-Means"
   ]
  },
  {
   "cell_type": "code",
   "execution_count": 21,
   "metadata": {},
   "outputs": [
    {
     "data": {
      "image/png": "[encoded data removed]",
      "text/plain": [
       "Plot with title \"Clusters of Comments: Rectangles Around Clusters\""
      ]
     },
     "metadata": {},
     "output_type": "display_data"
    }
   ],
   "source": [
    "\n",
    "\n",
    "#Traspose the TDM to a DTM then create a cluster using cosine similarity and TD-IDF\n",
    "Clusmat<- scale(as.matrix(weightTfIdf(t(smyTdm[,1:75]))), center = TRUE, scale = TRUE)\n",
    "\n",
    "d <- dist(x=Clusmat,method='cosine') #create distance measure\n",
    "pfit <- hclust(d, method=\"ward.D2\")\n",
    "plot(pfit, cex = .6, main = \"Clusters of Comments: Rectangles Around Clusters\", xlab =\"Words\")\n",
    "rect.hclust(pfit, k=8, border = 8:1) #Note: Draw rectangle around X clusters\n",
    "text(37, 1.3, \"CLUS 6    CLUS 4     CLUS 5          CLUS 8       CLUS 1      CLUS 2     CLUS 7        CLUS 3\",cex = .8, col = 'red')   "
   ]
  },
  {
   "cell_type": "code",
   "execution_count": 22,
   "metadata": {},
   "outputs": [
    {
     "data": {
      "image/png": "[encoded data removed]",
      "text/plain": [
       "plot without title"
      ]
     },
     "metadata": {},
     "output_type": "display_data"
    }
   ],
   "source": [
    "#Project clusters on the two dimensional plane using PCA\n",
    "\n",
    "groups <- cutree(pfit, k=8) #Note: X = Number of Clusters\n",
    "princ <- prcomp(Clusmat)\n",
    "nComp <- 2 \n",
    "project <- predict(princ, newdata=Clusmat)[,1:nComp]\n",
    "#Note using PCA , select PC1 and PC2\n",
    "project.plus <- cbind(as.data.frame(project), cluster=as.factor(groups), identifier=rownames(Clusmat))\n",
    "#Note using \"groups\" from the Print Cluster Function, this code creates a dataframe with the PC, Clusters and identifier\n",
    "ggplot(project.plus, aes(x=PC1, y=PC2)) + geom_point(aes(color=cluster)) + ggtitle('Comment Clusters In Two Dimensional Space') + theme(plot.title = element_text(hjust = 0.5)) + th\n",
    " "
   ]
  },
  {
   "cell_type": "code",
   "execution_count": 23,
   "metadata": {},
   "outputs": [
    {
     "data": {
      "text/html": [
       "4185.66669492646"
      ],
      "text/latex": [
       "4185.66669492646"
      ],
      "text/markdown": [
       "4185.66669492646"
      ],
      "text/plain": [
       "[1] 4185.667"
      ]
     },
     "metadata": {},
     "output_type": "display_data"
    },
    {
     "data": {
      "image/png": "[encoded data removed]",
      "text/plain": [
       "plot without title"
      ]
     },
     "metadata": {},
     "output_type": "display_data"
    }
   ],
   "source": [
    "#pick total number of clusters\n",
    "\n",
    "sqr_edist <- function(x, y) {sum((x-y)^2) }\n",
    "\n",
    "wss.cluster <- function(clustermat) { \n",
    "  c0 <- apply(clustermat, 2, FUN=mean)\n",
    "  sum(apply(clustermat, 1, FUN=function(row){sqr_edist(row,c0)})) }\n",
    "\n",
    "wss.total <- function(dmatrix, labels) {\n",
    "  wsstot <- 0 \n",
    "  k <- length(unique(labels)) \n",
    "  for(i in 1:k)\n",
    "    wsstot <- wsstot + wss.cluster(subset(dmatrix, labels==i)) \n",
    "  wsstot }\n",
    "\n",
    "wss.total(Clusmat, groups)\n",
    "\n",
    "totss <- function(dmatrix) {\n",
    "  grandmean <- apply(dmatrix, 2, FUN=mean)\n",
    "  sum(apply(dmatrix, 1, FUN=function(row){sqr_edist(row, grandmean)}))\n",
    "}\n",
    "\n",
    "ch_criterion <- function(dmatrix, kmax, method=\"kmeans\") {\n",
    "  if(!(method %in% c(\"kmeans\", \"hclust\"))) {\n",
    "    stop(\"method must be one of c('kmeans', 'hclust')\")\n",
    "  }\n",
    "  npts <- dim(dmatrix)[1] # number of rows.\n",
    "  totss <- totss(dmatrix)\n",
    "  wss <- numeric(kmax)\n",
    "  crit <- numeric(kmax)\n",
    "  wss[1] <- (npts-1)*sum(apply(dmatrix, 2, var))\n",
    "  for(k in 2:kmax) {\n",
    "    if(method==\"kmeans\") {\n",
    "      clustering<-kmeans(dmatrix, k, nstart=10, iter.max=100)\n",
    "      wss[k] <- clustering$tot.withinss\n",
    "    }else { # hclust\n",
    "      d <- dist(dmatrix, method=\"euclidean\")\n",
    "      pfit <- hclust(d, method=\"ward.D2\")\n",
    "      labels <- cutree(pfit, k=k)\n",
    "      wss[k] <- wss.total(dmatrix, labels)\n",
    "    }\n",
    "  }\n",
    "  bss <- totss - wss\n",
    "  crit.num <- bss/(0:(kmax-1))\n",
    "  crit.denom <- wss/(npts - 1:kmax)\n",
    "  crit = crit.num/crit.denom\n",
    "  list(crit = crit, wss = wss, totss = totss)\n",
    "}\n",
    "\n",
    "library(reshape2)\n",
    "clustcrit <- ch_criterion(Clusmat, 20, method=\"hclust\")\n",
    "clustcrit[[\"crit\"]][1] = 0\n",
    "critframe <- data.frame(k=1:20, ch=scale(clustcrit$crit), wss=scale(clustcrit$wss)) #Note call and scale WSS and CH\n",
    "critframe <- melt(subset(critframe,critframe$k>1), id.vars=c(\"k\"), variable.name=\"measure\", value.name=\"score\")\n",
    "\n",
    "ggplot(critframe, aes(x=k, y=score, color=measure)) +\n",
    "  geom_point(aes(shape=measure)) + geom_line(aes(linetype=measure)) +\n",
    "  scale_x_continuous(breaks=1:20, labels=1:20) + theme_minimal()"
   ]
  },
  {
   "cell_type": "markdown",
   "metadata": {},
   "source": [
    "#### ANALYSIS  \n",
    "Clustering comments for this product is a challenge given the overwhelming majority of positve comments with regards to the router. As seen above, there really isn't a clear separation among the clusters. The ability to separate comments using cluster analysis with TF-IDF seems limted in this example. What about clustering words based on the frequency they appear in the documents?"
   ]
  },
  {
   "cell_type": "markdown",
   "metadata": {},
   "source": [
    "### Cluster Analysis Based on Words"
   ]
  },
  {
   "cell_type": "code",
   "execution_count": 24,
   "metadata": {},
   "outputs": [
    {
     "name": "stdout",
     "output_type": "stream",
     "text": [
      "<<TermDocumentMatrix (terms: 65, documents: 380)>>\n",
      "Non-/sparse entries: 3855/20845\n",
      "Sparsity           : 84%\n",
      "Maximal term length: 8\n",
      "Weighting          : term frequency (tf)\n",
      "Sample             :\n",
      "         Docs\n",
      "Terms     117 19 345 374 4  5 6 69  9 94\n",
      "  connect   6  1   8   2 0 23 5 13 23  0\n",
      "  devic    12  1   1   4 1 26 4  9 20  3\n",
      "  get       1  6   0   2 5 11 6  2  1  7\n",
      "  good      2  1   5   5 5 13 2  3  3  3\n",
      "  issu      5  5   0   6 0  8 1  2  1  3\n",
      "  network   4  2   3   1 1 19 1 10  5 11\n",
      "  one       1  1   0   5 2  1 5  4 13  1\n",
      "  use      12  7   4   1 1  5 3  4  1  0\n",
      "  wifi      2  2   0   1 2  2 0  0  0  0\n",
      "  work      0  4   7   2 4  4 6  2  4  2\n"
     ]
    }
   ],
   "source": [
    "inspect(smyTdm)"
   ]
  },
  {
   "cell_type": "code",
   "execution_count": 25,
   "metadata": {},
   "outputs": [
    {
     "data": {
      "image/png": "[encoded data removed]",
      "text/plain": [
       "Plot with title \"KMeans Word Clusters in Two Dimensions\""
      ]
     },
     "metadata": {},
     "output_type": "display_data"
    }
   ],
   "source": [
    "#Try KMEAN cluster on words (not documents). Plot using the more complex clusplot.\n",
    "\n",
    "Clusmat <- as.matrix(smyTdm)\n",
    "d <- dist(x=Clusmat,method='cosine') #create distance measure\n",
    "\n",
    "kbest.p = 4                 \n",
    "kclusters <- kmeans(Clusmat, kbest.p, nstart=100, iter.max=100)\n",
    "groups <- kclusters$cluster #Note: slot\n",
    "clusplot(as.matrix(d), groups, color=TRUE, shade=TRUE, \n",
    "         labels=2, lines=0, main = \"KMeans Word Clusters in Two Dimensions\")  #clusplot is more elaborate"
   ]
  },
  {
   "cell_type": "markdown",
   "metadata": {},
   "source": [
    "#### ANALYSIS\n",
    "Similarly to comments, there is considerable overlap among word clusters in two dimensional space (PCA) using Kmeans."
   ]
  },
  {
   "cell_type": "markdown",
   "metadata": {},
   "source": [
    "## Sentiment Analysis"
   ]
  },
  {
   "cell_type": "code",
   "execution_count": 26,
   "metadata": {},
   "outputs": [
    {
     "name": "stderr",
     "output_type": "stream",
     "text": [
      "\n",
      "Attaching package: 'syuzhet'\n",
      "\n",
      "The following object is masked from 'package:scales':\n",
      "\n",
      "    rescale\n",
      "\n"
     ]
    },
    {
     "data": {
      "image/png": "[encoded data removed]",
      "text/plain": [
       "plot without title"
      ]
     },
     "metadata": {},
     "output_type": "display_data"
    }
   ],
   "source": [
    "#Sentiment Analysis\n",
    "suppressWarnings(library(syuzhet))\n",
    "\n",
    "rm('sentiment')\n",
    "calculate_sentiment <- function(reviews_all) {\n",
    "  \n",
    "  if (\"cleantext\" %in% colnames(reviews_all)) {\n",
    "    sentiment <- get_nrc_sentiment(reviews_all$cleantext)}\n",
    "  else {\n",
    "    reviews_all$cleantext <- clean_reviews(reviews_all)\n",
    "    sentiment <- get_nrc_sentiment(reviews_all$cleantext)}\n",
    "  \n",
    "  sentiment <- get_nrc_sentiment(reviews_all$cleantext)\n",
    "  reviews_all <- cbind(reviews_all, sentiment)\n",
    "  \n",
    "  sentiment_totals <- data.frame(colSums(reviews_all[,c(5:14)]))\n",
    "\n",
    "  \n",
    "  names(sentiment_totals) <- \"count\"\n",
    "  sentiment_totals <- cbind(\"sentiment\" = rownames(sentiment_totals), sentiment_totals)\n",
    "  rownames(sentiment_totals) <- NULL\n",
    "  \n",
    "  ggplot(data = sentiment_totals, aes(x = sentiment, y = count)) +\n",
    "    geom_bar(aes(fill = sentiment), stat = \"identity\") +\n",
    "    theme(legend.position = \"none\") +\n",
    "    xlab(\"Sentiment\") + ylab(\"Total Score\") + ggtitle(\"Total Sentiment Score Across Category: Asus Router\") + th + theme(legend.position = \"none\")\n",
    "}\n",
    "\n",
    "\n",
    "#rm(myCorpus)\n",
    "calculate_sentiment(reviews_all)"
   ]
  },
  {
   "cell_type": "code",
   "execution_count": 27,
   "metadata": {
    "scrolled": true
   },
   "outputs": [
    {
     "data": {
      "image/png": "[encoded data removed]",
      "text/plain": [
       "plot without title"
      ]
     },
     "metadata": {},
     "output_type": "display_data"
    }
   ],
   "source": [
    "#Bar Chart of Stars\n",
    "library(repr)\n",
    "options(repr.plot.height=2.5, repr.plot.width=4)\n",
    "\n",
    "reviews_all$stars_comb <- ifelse(reviews_all$stars <= 2, 'Neg Review', ifelse((reviews_all$stars >= 4), 'Pos Review', 'Neutral'))\n",
    "\n",
    "\n",
    "ggplot(reviews_all) + geom_bar(aes(stars_comb, fill=\"red\")) +\n",
    " ggtitle('Count of Overall Stars Ratings Grouped \\n Into Positve vs Negative: ASUS Router') + th +\n",
    " theme(legend.position = \"none\", plot.title = element_text(color=\"Black\", size=11.5, face=\"bold\"),) +\n",
    " xlab('Star Rating: 1 or 2 Stars = Neg Review, \\n 3 Stars = Neutral, 4 or 5 Stars = Pos Review') +\n",
    " ylab(\"Frequency\")"
   ]
  },
  {
   "cell_type": "markdown",
   "metadata": {},
   "source": [
    "### ANALYSIS  \n",
    "Overall, the sentiment across categories is quite positive for the router. Total sentiment score for positive is almost twice is large as negative. Similary, grouping the star ratings into negative, positive and neutral show a similar positive to negative ratio. Overall this router is generally viewed as positve by consumers who rated it on Amazon."
   ]
  }
 ],
 "metadata": {
  "kernelspec": {
   "display_name": "R",
   "language": "R",
   "name": "ir"
  },
  "language_info": {
   "codemirror_mode": "r",
   "file_extension": ".r",
   "mimetype": "text/x-r-source",
   "name": "R",
   "pygments_lexer": "r",
   "version": "3.5.1"
  }
 },
 "nbformat": 4,
 "nbformat_minor": 2
}
