{
 "cells": [
  {
   "cell_type": "markdown",
   "metadata": {},
   "source": [
    "# Discrete Choice Modeling (Conjoint) R - Market Research\n",
    "## Simulated Data for Generic Smartphone\n",
    "\n",
    "\n",
    "**Design**  \n",
    "* Full Factorial Design  \n",
    "* Four Factors: Size, Resolution, CPU_GPU, Price\n",
    "* Simulated Respondents: 300\n",
    "\n",
    "**Analysis**\n",
    "* Factor Level Importance\n",
    "* Hypothetical Market Share\n",
    "* Market Share Sensitivty Plot "
   ]
  },
  {
   "cell_type": "code",
   "execution_count": 1,
   "metadata": {},
   "outputs": [],
   "source": [
    "#Load Synthetic Data\n",
    "options(warn=-1)\n",
    "setwd('C:/Users/Remote2/OneDrive/Data Science/R Data/Conjoint/Syth Conjoint')\n",
    "load('C:/Users/Remote2/OneDrive/Data Science/R Data/Conjoint/Syth Conjoint/synthconj.RData')"
   ]
  },
  {
   "cell_type": "code",
   "execution_count": 2,
   "metadata": {},
   "outputs": [
    {
     "data": {
      "text/html": [
       "<dl>\n",
       "\t<dt>$Size</dt>\n",
       "\t\t<dd><ol class=list-inline>\n",
       "\t<li>'5'</li>\n",
       "\t<li>'5.7'</li>\n",
       "\t<li>'6.7'</li>\n",
       "</ol>\n",
       "</dd>\n",
       "\t<dt>$Resolution</dt>\n",
       "\t\t<dd><ol class=list-inline>\n",
       "\t<li>'1080P'</li>\n",
       "\t<li>'4K'</li>\n",
       "</ol>\n",
       "</dd>\n",
       "\t<dt>$CPU_GPU</dt>\n",
       "\t\t<dd><ol class=list-inline>\n",
       "\t<li>'Low'</li>\n",
       "\t<li>'Med'</li>\n",
       "\t<li>'High'</li>\n",
       "</ol>\n",
       "</dd>\n",
       "\t<dt>$price</dt>\n",
       "\t\t<dd><ol class=list-inline>\n",
       "\t<li>'500'</li>\n",
       "\t<li>'700'</li>\n",
       "\t<li>'900'</li>\n",
       "</ol>\n",
       "</dd>\n",
       "</dl>\n"
      ],
      "text/latex": [
       "\\begin{description}\n",
       "\\item[\\$Size] \\begin{enumerate*}\n",
       "\\item '5'\n",
       "\\item '5.7'\n",
       "\\item '6.7'\n",
       "\\end{enumerate*}\n",
       "\n",
       "\\item[\\$Resolution] \\begin{enumerate*}\n",
       "\\item '1080P'\n",
       "\\item '4K'\n",
       "\\end{enumerate*}\n",
       "\n",
       "\\item[\\$CPU\\_GPU] \\begin{enumerate*}\n",
       "\\item 'Low'\n",
       "\\item 'Med'\n",
       "\\item 'High'\n",
       "\\end{enumerate*}\n",
       "\n",
       "\\item[\\$price] \\begin{enumerate*}\n",
       "\\item '500'\n",
       "\\item '700'\n",
       "\\item '900'\n",
       "\\end{enumerate*}\n",
       "\n",
       "\\end{description}\n"
      ],
      "text/markdown": [
       "$Size\n",
       ":   1. '5'\n",
       "2. '5.7'\n",
       "3. '6.7'\n",
       "\n",
       "\n",
       "\n",
       "$Resolution\n",
       ":   1. '1080P'\n",
       "2. '4K'\n",
       "\n",
       "\n",
       "\n",
       "$CPU_GPU\n",
       ":   1. 'Low'\n",
       "2. 'Med'\n",
       "3. 'High'\n",
       "\n",
       "\n",
       "\n",
       "$price\n",
       ":   1. '500'\n",
       "2. '700'\n",
       "3. '900'\n",
       "\n",
       "\n",
       "\n",
       "\n",
       "\n"
      ],
      "text/plain": [
       "$Size\n",
       "[1] \"5\"   \"5.7\" \"6.7\"\n",
       "\n",
       "$Resolution\n",
       "[1] \"1080P\" \"4K\"   \n",
       "\n",
       "$CPU_GPU\n",
       "[1] \"Low\"  \"Med\"  \"High\"\n",
       "\n",
       "$price\n",
       "[1] \"500\" \"700\" \"900\"\n"
      ]
     },
     "metadata": {},
     "output_type": "display_data"
    }
   ],
   "source": [
    "#Display Factor Data\n",
    "head(factor)"
   ]
  },
  {
   "cell_type": "code",
   "execution_count": 3,
   "metadata": {},
   "outputs": [
    {
     "data": {
      "text/html": [
       "<table>\n",
       "<caption>A data.frame: 6 × 4</caption>\n",
       "<thead>\n",
       "\t<tr><th scope=col>Size</th><th scope=col>Resolution</th><th scope=col>CPU_GPU</th><th scope=col>price</th></tr>\n",
       "\t<tr><th scope=col>&lt;fct&gt;</th><th scope=col>&lt;fct&gt;</th><th scope=col>&lt;fct&gt;</th><th scope=col>&lt;fct&gt;</th></tr>\n",
       "</thead>\n",
       "<tbody>\n",
       "\t<tr><td>5  </td><td>1080P</td><td>Low</td><td>500</td></tr>\n",
       "\t<tr><td>5.7</td><td>1080P</td><td>Low</td><td>500</td></tr>\n",
       "\t<tr><td>6.7</td><td>1080P</td><td>Low</td><td>500</td></tr>\n",
       "\t<tr><td>5  </td><td>4K   </td><td>Low</td><td>500</td></tr>\n",
       "\t<tr><td>5.7</td><td>4K   </td><td>Low</td><td>500</td></tr>\n",
       "\t<tr><td>6.7</td><td>4K   </td><td>Low</td><td>500</td></tr>\n",
       "</tbody>\n",
       "</table>\n"
      ],
      "text/latex": [
       "A data.frame: 6 × 4\n",
       "\\begin{tabular}{r|llll}\n",
       " Size & Resolution & CPU\\_GPU & price\\\\\n",
       " <fct> & <fct> & <fct> & <fct>\\\\\n",
       "\\hline\n",
       "\t 5   & 1080P & Low & 500\\\\\n",
       "\t 5.7 & 1080P & Low & 500\\\\\n",
       "\t 6.7 & 1080P & Low & 500\\\\\n",
       "\t 5   & 4K    & Low & 500\\\\\n",
       "\t 5.7 & 4K    & Low & 500\\\\\n",
       "\t 6.7 & 4K    & Low & 500\\\\\n",
       "\\end{tabular}\n"
      ],
      "text/markdown": [
       "\n",
       "A data.frame: 6 × 4\n",
       "\n",
       "| Size &lt;fct&gt; | Resolution &lt;fct&gt; | CPU_GPU &lt;fct&gt; | price &lt;fct&gt; |\n",
       "|---|---|---|---|\n",
       "| 5   | 1080P | Low | 500 |\n",
       "| 5.7 | 1080P | Low | 500 |\n",
       "| 6.7 | 1080P | Low | 500 |\n",
       "| 5   | 4K    | Low | 500 |\n",
       "| 5.7 | 4K    | Low | 500 |\n",
       "| 6.7 | 4K    | Low | 500 |\n",
       "\n"
      ],
      "text/plain": [
       "  Size Resolution CPU_GPU price\n",
       "1 5    1080P      Low     500  \n",
       "2 5.7  1080P      Low     500  \n",
       "3 6.7  1080P      Low     500  \n",
       "4 5    4K         Low     500  \n",
       "5 5.7  4K         Low     500  \n",
       "6 6.7  4K         Low     500  "
      ]
     },
     "metadata": {},
     "output_type": "display_data"
    }
   ],
   "source": [
    "#Dsiplay profiles. There are a total of 54 profiles with the first 6 shown below.\n",
    "head(profiles)"
   ]
  },
  {
   "cell_type": "code",
   "execution_count": 4,
   "metadata": {},
   "outputs": [
    {
     "data": {
      "text/html": [
       "<table>\n",
       "<caption>A data.frame: 6 × 9</caption>\n",
       "<thead>\n",
       "\t<tr><th></th><th scope=col>resp.id</th><th scope=col>ques</th><th scope=col>alt</th><th scope=col>use_work</th><th scope=col>Size</th><th scope=col>Resolution</th><th scope=col>CPU_GPU</th><th scope=col>price</th><th scope=col>choice</th></tr>\n",
       "\t<tr><th></th><th scope=col>&lt;int&gt;</th><th scope=col>&lt;int&gt;</th><th scope=col>&lt;int&gt;</th><th scope=col>&lt;fct&gt;</th><th scope=col>&lt;fct&gt;</th><th scope=col>&lt;fct&gt;</th><th scope=col>&lt;fct&gt;</th><th scope=col>&lt;fct&gt;</th><th scope=col>&lt;dbl&gt;</th></tr>\n",
       "</thead>\n",
       "<tbody>\n",
       "\t<tr><th scope=row>2</th><td>1</td><td>1</td><td>1</td><td>yes</td><td>5.7</td><td>1080P</td><td>Low </td><td>500</td><td>0</td></tr>\n",
       "\t<tr><th scope=row>18</th><td>1</td><td>1</td><td>2</td><td>yes</td><td>6.7</td><td>4K   </td><td>High</td><td>500</td><td>1</td></tr>\n",
       "\t<tr><th scope=row>34</th><td>1</td><td>1</td><td>3</td><td>yes</td><td>5  </td><td>4K   </td><td>High</td><td>700</td><td>0</td></tr>\n",
       "\t<tr><th scope=row>33</th><td>1</td><td>2</td><td>1</td><td>yes</td><td>6.7</td><td>1080P</td><td>High</td><td>700</td><td>1</td></tr>\n",
       "\t<tr><th scope=row>24</th><td>1</td><td>2</td><td>2</td><td>yes</td><td>6.7</td><td>4K   </td><td>Low </td><td>700</td><td>0</td></tr>\n",
       "\t<tr><th scope=row>31</th><td>1</td><td>2</td><td>3</td><td>yes</td><td>5  </td><td>1080P</td><td>High</td><td>700</td><td>0</td></tr>\n",
       "</tbody>\n",
       "</table>\n"
      ],
      "text/latex": [
       "A data.frame: 6 × 9\n",
       "\\begin{tabular}{r|lllllllll}\n",
       "  & resp.id & ques & alt & use\\_work & Size & Resolution & CPU\\_GPU & price & choice\\\\\n",
       "  & <int> & <int> & <int> & <fct> & <fct> & <fct> & <fct> & <fct> & <dbl>\\\\\n",
       "\\hline\n",
       "\t2 & 1 & 1 & 1 & yes & 5.7 & 1080P & Low  & 500 & 0\\\\\n",
       "\t18 & 1 & 1 & 2 & yes & 6.7 & 4K    & High & 500 & 1\\\\\n",
       "\t34 & 1 & 1 & 3 & yes & 5   & 4K    & High & 700 & 0\\\\\n",
       "\t33 & 1 & 2 & 1 & yes & 6.7 & 1080P & High & 700 & 1\\\\\n",
       "\t24 & 1 & 2 & 2 & yes & 6.7 & 4K    & Low  & 700 & 0\\\\\n",
       "\t31 & 1 & 2 & 3 & yes & 5   & 1080P & High & 700 & 0\\\\\n",
       "\\end{tabular}\n"
      ],
      "text/markdown": [
       "\n",
       "A data.frame: 6 × 9\n",
       "\n",
       "| <!--/--> | resp.id &lt;int&gt; | ques &lt;int&gt; | alt &lt;int&gt; | use_work &lt;fct&gt; | Size &lt;fct&gt; | Resolution &lt;fct&gt; | CPU_GPU &lt;fct&gt; | price &lt;fct&gt; | choice &lt;dbl&gt; |\n",
       "|---|---|---|---|---|---|---|---|---|---|\n",
       "| 2 | 1 | 1 | 1 | yes | 5.7 | 1080P | Low  | 500 | 0 |\n",
       "| 18 | 1 | 1 | 2 | yes | 6.7 | 4K    | High | 500 | 1 |\n",
       "| 34 | 1 | 1 | 3 | yes | 5   | 4K    | High | 700 | 0 |\n",
       "| 33 | 1 | 2 | 1 | yes | 6.7 | 1080P | High | 700 | 1 |\n",
       "| 24 | 1 | 2 | 2 | yes | 6.7 | 4K    | Low  | 700 | 0 |\n",
       "| 31 | 1 | 2 | 3 | yes | 5   | 1080P | High | 700 | 0 |\n",
       "\n"
      ],
      "text/plain": [
       "   resp.id ques alt use_work Size Resolution CPU_GPU price choice\n",
       "2  1       1    1   yes      5.7  1080P      Low     500   0     \n",
       "18 1       1    2   yes      6.7  4K         High    500   1     \n",
       "34 1       1    3   yes      5    4K         High    700   0     \n",
       "33 1       2    1   yes      6.7  1080P      High    700   1     \n",
       "24 1       2    2   yes      6.7  4K         Low     700   0     \n",
       "31 1       2    3   yes      5    1080P      High    700   0     "
      ]
     },
     "metadata": {},
     "output_type": "display_data"
    }
   ],
   "source": [
    "#Display user choice data.\n",
    "head(conj.df)"
   ]
  },
  {
   "cell_type": "code",
   "execution_count": 5,
   "metadata": {},
   "outputs": [
    {
     "data": {
      "text/plain": [
       "    resp.id            ques         alt    use_work    Size      Resolution  \n",
       " Min.   :  1.00   Min.   : 1   Min.   :1   yes:4140   5  :4492   1080P:6723  \n",
       " 1st Qu.: 75.75   1st Qu.: 4   1st Qu.:1   no :9360   5.7:4518   4K   :6777  \n",
       " Median :150.50   Median : 8   Median :2              6.7:4490               \n",
       " Mean   :150.50   Mean   : 8   Mean   :2                                     \n",
       " 3rd Qu.:225.25   3rd Qu.:12   3rd Qu.:3                                     \n",
       " Max.   :300.00   Max.   :15   Max.   :3                                     \n",
       " CPU_GPU     price          choice      \n",
       " Low :4496   500:4506   Min.   :0.0000  \n",
       " Med :4495   700:4479   1st Qu.:0.0000  \n",
       " High:4509   900:4515   Median :0.0000  \n",
       "                        Mean   :0.3333  \n",
       "                        3rd Qu.:1.0000  \n",
       "                        Max.   :1.0000  "
      ]
     },
     "metadata": {},
     "output_type": "display_data"
    }
   ],
   "source": [
    "###Summary###\n",
    "summary(conj.df)"
   ]
  },
  {
   "cell_type": "markdown",
   "metadata": {},
   "source": [
    "#### ANALYSIS  \n",
    "The simulated data looks good. Three dataframes (df) were created (creation not shown): a factor df, a profiles df listing all possible combinations of factor levels (bundles) and the user choice df. In the survey, a simulated respondent is show a series of discrete choices between two bundles and asked to select their preference. This is recorded under choice in the choice df."
   ]
  },
  {
   "cell_type": "code",
   "execution_count": 6,
   "metadata": {},
   "outputs": [
    {
     "data": {
      "image/png": "[encoded data removed]",
      "text/plain": [
       "plot without title"
      ]
     },
     "metadata": {},
     "output_type": "display_data"
    }
   ],
   "source": [
    "#install.packages('cowplot')\n",
    "library(ggplot2)\n",
    "suppressMessages(library(cowplot))\n",
    "p1 = ggplot(data=conj.df) + geom_bar(aes(x=Size, y = choice, fill = Size), stat=\"identity\",\n",
    "                                     width=0.5) + ylab(\"Number of Times Selected\") + ylim(0, 2500) + theme_minimal() + theme(legend.position=\"none\")\n",
    "p2 = ggplot(data=conj.df) + geom_bar(aes(x=Resolution, y = choice, fill = Resolution), stat=\"identity\",\n",
    "                                     width=0.5) + ylab(\"Number of Times Selected\") + ylim(0, 2500) + theme_minimal() + theme(legend.position=\"none\")\n",
    "p3 = ggplot(data=conj.df) + geom_bar(aes(x=CPU_GPU, y = choice, fill = CPU_GPU), stat=\"identity\",\n",
    "                                     width=0.5) + ylab(\"Number of Times Selected\") + ylim(0, 2500) + theme_minimal() + theme(legend.position=\"none\")\n",
    "p4 = ggplot(data=conj.df) + geom_bar(aes(x=price, y = choice, fill = price), stat=\"identity\",\n",
    "                                     width=0.5) + ylab(\"Number of Times Selected\") + xlab('Price') + ylim(0, 2500) + theme_minimal() + theme(legend.position=\"none\")\n",
    "\n",
    "plot_grid(p1, p2, p3, p4, labels=\"\", align=\"v\")"
   ]
  },
  {
   "cell_type": "markdown",
   "metadata": {},
   "source": [
    "#### Analysis\n",
    "As stated above, the simulated respondents selects their choice between two bundles of smartphone factor levels and their choice is recorded. The charts above show those factor level included in those bundle choices. For example, their is a clear preference for low cost smartphones given that bundles with both $700 and $500 levels were selected more than $900. Similarily, their is a clear preference for bundles with larger screens and 1080p. Bundles with high and low powered CPU_GPUs are also more favoured, although the differences aren't large."
   ]
  },
  {
   "cell_type": "code",
   "execution_count": 7,
   "metadata": {},
   "outputs": [
    {
     "data": {
      "text/plain": [
       "\n",
       "Call:\n",
       "mlogit(formula = choice ~ 0 + Size + Resolution + CPU_GPU + price, \n",
       "    data = conj.mlogit, method = \"nr\")\n",
       "\n",
       "Frequencies of alternatives:\n",
       "  pos 1   pos 2   pos 3 \n",
       "0.33711 0.34089 0.32200 \n",
       "\n",
       "nr method\n",
       "4 iterations, 0h:0m:0s \n",
       "g'(-H)^-1g = 0.00563 \n",
       "successive function values within tolerance limits \n",
       "\n",
       "Coefficients :\n",
       "               Estimate Std. Error  z-value  Pr(>|z|)    \n",
       "Size5.7       0.4130695  0.0490438   8.4225 < 2.2e-16 ***\n",
       "Size6.7       1.0541816  0.0487020  21.6455 < 2.2e-16 ***\n",
       "Resolution4K -0.4114089  0.0381790 -10.7758 < 2.2e-16 ***\n",
       "CPU_GPUMed   -0.2433099  0.0471399  -5.1614 2.451e-07 ***\n",
       "CPU_GPUHigh   0.0056961  0.0461891   0.1233    0.9019    \n",
       "price700     -0.3821829  0.0458116  -8.3425 < 2.2e-16 ***\n",
       "price900     -0.8606885  0.0485738 -17.7192 < 2.2e-16 ***\n",
       "---\n",
       "Signif. codes:  0 '***' 0.001 '**' 0.01 '*' 0.05 '.' 0.1 ' ' 1\n",
       "\n",
       "Log-Likelihood: -4454.8"
      ]
     },
     "metadata": {},
     "output_type": "display_data"
    }
   ],
   "source": [
    "#install.packages('mlogit')\n",
    "#Run the conjoint analysis\n",
    "suppressMessages(library(mlogit))\n",
    "conj.mlogit <- mlogit.data(data=conj.df, choice=\"choice\", shape=\"long\",\n",
    "                            varying=3:6, alt.levels=paste(\"pos\",1:3),\n",
    "                            id.var=\"resp.id\")\n",
    "\n",
    "m1 <- mlogit(choice ~ 0 + Size  + Resolution  + CPU_GPU + price, data = conj.mlogit)\n",
    "summary(m1)\n",
    "#The Estimate lists the mean values for each level; these must be interpreted\n",
    "#relative to the base levels of each factorute."
   ]
  },
  {
   "cell_type": "markdown",
   "metadata": {},
   "source": [
    "#### ANALYSIS  \n",
    "The size of the coefficients give us an idea of factor level importance. Size 6.7 inches of the screen is the most important factor level. It is also positively correlated, meaning including it increases the likelihood of a bundle will be selected. Another important factor level is Price at 900 dollars. It is negatively correlated so including it reduces the likelihood of a bundle being selected. Similarly, 4K Resoltuion follows a similar pattern to Price at 900 dollars, although the effect is not as strong."
   ]
  },
  {
   "cell_type": "code",
   "execution_count": 8,
   "metadata": {},
   "outputs": [
    {
     "data": {
      "text/html": [
       "<table>\n",
       "<caption>A data.frame: 7 × 5</caption>\n",
       "<thead>\n",
       "\t<tr><th></th><th scope=col>share</th><th scope=col>Size</th><th scope=col>Resolution</th><th scope=col>CPU_GPU</th><th scope=col>price</th></tr>\n",
       "\t<tr><th></th><th scope=col>&lt;dbl&gt;</th><th scope=col>&lt;fct&gt;</th><th scope=col>&lt;fct&gt;</th><th scope=col>&lt;fct&gt;</th><th scope=col>&lt;fct&gt;</th></tr>\n",
       "</thead>\n",
       "<tbody>\n",
       "\t<tr><th scope=row>8</th><td>0.15362357</td><td>5.7</td><td>1080P</td><td>Med </td><td>500</td></tr>\n",
       "\t<tr><th scope=row>1</th><td>0.12963796</td><td>5  </td><td>1080P</td><td>Low </td><td>500</td></tr>\n",
       "\t<tr><th scope=row>3</th><td>0.37201241</td><td>6.7</td><td>1080P</td><td>Low </td><td>500</td></tr>\n",
       "\t<tr><th scope=row>41</th><td>0.05491122</td><td>5.7</td><td>4K   </td><td>Low </td><td>900</td></tr>\n",
       "\t<tr><th scope=row>49</th><td>0.05513327</td><td>5  </td><td>1080P</td><td>High</td><td>900</td></tr>\n",
       "\t<tr><th scope=row>26</th><td>0.10482815</td><td>5.7</td><td>1080P</td><td>Med </td><td>700</td></tr>\n",
       "\t<tr><th scope=row>5</th><td>0.12985342</td><td>5.7</td><td>4K   </td><td>Low </td><td>500</td></tr>\n",
       "</tbody>\n",
       "</table>\n"
      ],
      "text/latex": [
       "A data.frame: 7 × 5\n",
       "\\begin{tabular}{r|lllll}\n",
       "  & share & Size & Resolution & CPU\\_GPU & price\\\\\n",
       "  & <dbl> & <fct> & <fct> & <fct> & <fct>\\\\\n",
       "\\hline\n",
       "\t8 & 0.15362357 & 5.7 & 1080P & Med  & 500\\\\\n",
       "\t1 & 0.12963796 & 5   & 1080P & Low  & 500\\\\\n",
       "\t3 & 0.37201241 & 6.7 & 1080P & Low  & 500\\\\\n",
       "\t41 & 0.05491122 & 5.7 & 4K    & Low  & 900\\\\\n",
       "\t49 & 0.05513327 & 5   & 1080P & High & 900\\\\\n",
       "\t26 & 0.10482815 & 5.7 & 1080P & Med  & 700\\\\\n",
       "\t5 & 0.12985342 & 5.7 & 4K    & Low  & 500\\\\\n",
       "\\end{tabular}\n"
      ],
      "text/markdown": [
       "\n",
       "A data.frame: 7 × 5\n",
       "\n",
       "| <!--/--> | share &lt;dbl&gt; | Size &lt;fct&gt; | Resolution &lt;fct&gt; | CPU_GPU &lt;fct&gt; | price &lt;fct&gt; |\n",
       "|---|---|---|---|---|---|\n",
       "| 8 | 0.15362357 | 5.7 | 1080P | Med  | 500 |\n",
       "| 1 | 0.12963796 | 5   | 1080P | Low  | 500 |\n",
       "| 3 | 0.37201241 | 6.7 | 1080P | Low  | 500 |\n",
       "| 41 | 0.05491122 | 5.7 | 4K    | Low  | 900 |\n",
       "| 49 | 0.05513327 | 5   | 1080P | High | 900 |\n",
       "| 26 | 0.10482815 | 5.7 | 1080P | Med  | 700 |\n",
       "| 5 | 0.12985342 | 5.7 | 4K    | Low  | 500 |\n",
       "\n"
      ],
      "text/plain": [
       "   share      Size Resolution CPU_GPU price\n",
       "8  0.15362357 5.7  1080P      Med     500  \n",
       "1  0.12963796 5    1080P      Low     500  \n",
       "3  0.37201241 6.7  1080P      Low     500  \n",
       "41 0.05491122 5.7  4K         Low     900  \n",
       "49 0.05513327 5    1080P      High    900  \n",
       "26 0.10482815 5.7  1080P      Med     700  \n",
       "5  0.12985342 5.7  4K         Low     500  "
      ]
     },
     "metadata": {},
     "output_type": "display_data"
    }
   ],
   "source": [
    "#Predicting Choice Share\n",
    "\n",
    "predict.mnl <- function(model, data) {\n",
    "  # Function for predicting shares from a multinomial logit model\n",
    "  # model: mlogit object returned by mlogit()\n",
    "  # data: a data frame containing the set of designs for which you want to\n",
    "  # predict shares. Same format as the data used to estimate model.\n",
    "  data.model <- model.matrix(update(model$formula, 0 ~ .), data = data)[,-1]\n",
    "  utility <- data.model%*%model$coef\n",
    "  share <- exp(utility)/sum(exp(utility))\n",
    "  cbind(share, data)\n",
    "}\n",
    "\n",
    "#Create a new set of design then pass to the predict model\n",
    "new.data <- expand.grid(factor)[c(8, 1, 3, 41, 49, 26, 5),]\n",
    "\n",
    "#Simulating Choice Shares\n",
    "predict.mnl(m1, new.data)"
   ]
  },
  {
   "cell_type": "markdown",
   "metadata": {},
   "source": [
    "#### ANALYSIS  \n",
    "In a hypothertical market where we limit smartphones to 7 models, a bundle with 6.7 inches in size, 1080P screen, high powered CPU_GPU and 500 dollars in price would garner a large piece of the market, 37%. On the other hand, a bundle with 5 inches in size, 1080P screen, high powered CPU_GPU and 900 dollars in price would only take 5.5% of the market."
   ]
  },
  {
   "cell_type": "code",
   "execution_count": 9,
   "metadata": {},
   "outputs": [
    {
     "data": {
      "text/html": [
       "<table>\n",
       "<caption>A data.frame: 7 × 5</caption>\n",
       "<thead>\n",
       "\t<tr><th></th><th scope=col>share</th><th scope=col>Size</th><th scope=col>Resolution</th><th scope=col>CPU_GPU</th><th scope=col>price</th></tr>\n",
       "\t<tr><th></th><th scope=col>&lt;dbl&gt;</th><th scope=col>&lt;fct&gt;</th><th scope=col>&lt;fct&gt;</th><th scope=col>&lt;fct&gt;</th><th scope=col>&lt;fct&gt;</th></tr>\n",
       "</thead>\n",
       "<tbody>\n",
       "\t<tr><th scope=row>8</th><td>0.15005670</td><td>5.7</td><td>1080P</td><td>Med </td><td>500</td></tr>\n",
       "\t<tr><th scope=row>8.1</th><td>0.15005670</td><td>5.7</td><td>1080P</td><td>Med </td><td>500</td></tr>\n",
       "\t<tr><th scope=row>1</th><td>0.12662799</td><td>5  </td><td>1080P</td><td>Low </td><td>500</td></tr>\n",
       "\t<tr><th scope=row>3</th><td>0.36337494</td><td>6.7</td><td>1080P</td><td>Low </td><td>500</td></tr>\n",
       "\t<tr><th scope=row>41</th><td>0.05363628</td><td>5.7</td><td>4K   </td><td>Low </td><td>900</td></tr>\n",
       "\t<tr><th scope=row>49</th><td>0.05385317</td><td>5  </td><td>1080P</td><td>High</td><td>900</td></tr>\n",
       "\t<tr><th scope=row>26</th><td>0.10239423</td><td>5.7</td><td>1080P</td><td>Med </td><td>700</td></tr>\n",
       "</tbody>\n",
       "</table>\n"
      ],
      "text/latex": [
       "A data.frame: 7 × 5\n",
       "\\begin{tabular}{r|lllll}\n",
       "  & share & Size & Resolution & CPU\\_GPU & price\\\\\n",
       "  & <dbl> & <fct> & <fct> & <fct> & <fct>\\\\\n",
       "\\hline\n",
       "\t8 & 0.15005670 & 5.7 & 1080P & Med  & 500\\\\\n",
       "\t8.1 & 0.15005670 & 5.7 & 1080P & Med  & 500\\\\\n",
       "\t1 & 0.12662799 & 5   & 1080P & Low  & 500\\\\\n",
       "\t3 & 0.36337494 & 6.7 & 1080P & Low  & 500\\\\\n",
       "\t41 & 0.05363628 & 5.7 & 4K    & Low  & 900\\\\\n",
       "\t49 & 0.05385317 & 5   & 1080P & High & 900\\\\\n",
       "\t26 & 0.10239423 & 5.7 & 1080P & Med  & 700\\\\\n",
       "\\end{tabular}\n"
      ],
      "text/markdown": [
       "\n",
       "A data.frame: 7 × 5\n",
       "\n",
       "| <!--/--> | share &lt;dbl&gt; | Size &lt;fct&gt; | Resolution &lt;fct&gt; | CPU_GPU &lt;fct&gt; | price &lt;fct&gt; |\n",
       "|---|---|---|---|---|---|\n",
       "| 8 | 0.15005670 | 5.7 | 1080P | Med  | 500 |\n",
       "| 8.1 | 0.15005670 | 5.7 | 1080P | Med  | 500 |\n",
       "| 1 | 0.12662799 | 5   | 1080P | Low  | 500 |\n",
       "| 3 | 0.36337494 | 6.7 | 1080P | Low  | 500 |\n",
       "| 41 | 0.05363628 | 5.7 | 4K    | Low  | 900 |\n",
       "| 49 | 0.05385317 | 5   | 1080P | High | 900 |\n",
       "| 26 | 0.10239423 | 5.7 | 1080P | Med  | 700 |\n",
       "\n"
      ],
      "text/plain": [
       "    share      Size Resolution CPU_GPU price\n",
       "8   0.15005670 5.7  1080P      Med     500  \n",
       "8.1 0.15005670 5.7  1080P      Med     500  \n",
       "1   0.12662799 5    1080P      Low     500  \n",
       "3   0.36337494 6.7  1080P      Low     500  \n",
       "41  0.05363628 5.7  4K         Low     900  \n",
       "49  0.05385317 5    1080P      High    900  \n",
       "26  0.10239423 5.7  1080P      Med     700  "
      ]
     },
     "metadata": {},
     "output_type": "display_data"
    }
   ],
   "source": [
    "#Share Predictions for Identical Alternatives\n",
    "new.data.2 <- expand.grid(factor)[c(8, 8, 1, 3, 41, 49, 26), ]\n",
    "predict.mnl(m1, new.data.2)"
   ]
  },
  {
   "cell_type": "markdown",
   "metadata": {},
   "source": [
    "#### ANALYSIS  \n",
    "In this particular methodology, adding an exact duplicate of a smartphone halves the marketshare exactly."
   ]
  },
  {
   "cell_type": "code",
   "execution_count": 10,
   "metadata": {},
   "outputs": [
    {
     "data": {
      "image/png": "[encoded data removed]",
      "text/plain": [
       "plot without title"
      ]
     },
     "metadata": {},
     "output_type": "display_data"
    }
   ],
   "source": [
    "#Sensitity\n",
    "sensitivity.mnl <- function(model, factor, base.data, competitor.data) {\n",
    "  #Function for creating data for a share-sensitivity chart\n",
    "  #model: mlogit object returned by mlogit() function\n",
    "  #factor: list of vectors with factorute levels to be used in sensitivity\n",
    "  # base.data: data frame containing baseline design of target product\n",
    "  # competitor.data: data frame containing design of competitive set\n",
    "  data <- rbind(base.data, competitor.data)\n",
    "  base.share <- predict.mnl(model, data)[1,1]\n",
    "  share <- NULL\n",
    "  for (a in seq_along(factor)) {\n",
    "    for (i in factor[[a]]) {\n",
    "      data[1,] <- base.data\n",
    "      data[1,a] <- i\n",
    "      share <- c(share, predict.mnl(model, data)[1,1])\n",
    "    }\n",
    "  }\n",
    "  data.frame(level=unlist(factor), share=share, increase=share-base.share)\n",
    "}\n",
    "\n",
    "base.data <- expand.grid(factor)[c(26), ]\n",
    "competitor.data <- expand.grid(factor)[c(1, 3, 41, 49, 22, 33), ]\n",
    "tradeoff <- sensitivity.mnl(m1, factor, base.data, competitor.data)\n",
    "\n",
    "#The plot in Fig. 13.2 shows how share would change if we\n",
    "#changed each of the factorutes of the design, one at a time.\n",
    "\n",
    "tradeoff$level <- factor(tradeoff$level, levels = c(\"5\", \"5.7\", \"6.7\",\n",
    "                                                    \"1080P\", \"4K\", \"Low\",\n",
    "                                                    \"Med\", \"High\", \"500\", \"700\",\n",
    "                                                    \"900\"))\n",
    "                                                    \n",
    "ggplot(data=tradeoff) + geom_bar(aes(x=level, y =increase, fill = level), stat=\"identity\", width=0.5) +\n",
    " ylab('% Increase in Share') + xlab('Factor Level') +\n",
    " ggtitle(\"How Much Does Share Change Over a Base Bundle by Changing a Factor Level?\\n Base Bundle: 5.7in size, 1080P screen, medium cpu/gpu, 500 dollars\") +\n",
    " theme_minimal() + theme(legend.position=\"none\")"
   ]
  },
  {
   "cell_type": "markdown",
   "metadata": {},
   "source": [
    "#### ANALYSIS\n",
    "The base bundle is a Smartphone with 5.7 inches in size, a 1080P screen, a medium cpu/gpu combo priced at 500 dollars. Increasing the size to 6.7 inches, while keeping all other factors the same would increase market share by nearly 8 percent. On the other hand, boosting the price by 200 dollars to 900 dollars would hurt share by nearly 4%."
   ]
  }
 ],
 "metadata": {
  "kernelspec": {
   "display_name": "R",
   "language": "R",
   "name": "ir"
  },
  "language_info": {
   "codemirror_mode": "r",
   "file_extension": ".r",
   "mimetype": "text/x-r-source",
   "name": "R",
   "pygments_lexer": "r",
   "version": "3.5.1"
  }
 },
 "nbformat": 4,
 "nbformat_minor": 2
}
